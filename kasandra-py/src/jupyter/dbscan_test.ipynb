{
 "cells": [
  {
   "cell_type": "code",
   "execution_count": 157,
   "metadata": {
    "collapsed": true
   },
   "outputs": [],
   "source": [
    "data = [\n",
    "    \"один два три четыре пять четыре пять два три\",\n",
    "    \"пять четыре три два один\",\n",
    "    \"три два один пять четыре\",\n",
    "    \n",
    "    \"шесть семь восемь девять десять\",\n",
    "    \"девять десять шесть семь восемь\",\n",
    "    \"семь восемь восемь девять девять десять\",\n",
    "    \n",
    "    \"кот кошка собака голубь попугай дятел\",\n",
    "    \"голубь попугай дятел кот кошка собака\",\n",
    "    \"кот кошка попугай дятел собака голубь\"\n",
    "]"
   ]
  },
  {
   "cell_type": "code",
   "execution_count": 161,
   "metadata": {
    "collapsed": false
   },
   "outputs": [
    {
     "name": "stdout",
     "output_type": "stream",
     "text": [
      "  (0, 47)\t0.189977595086\n",
      "  (0, 65)\t0.189977595086\n",
      "  (0, 49)\t0.189977595086\n",
      "  (0, 66)\t0.189977595086\n",
      "  (0, 62)\t0.189977595086\n",
      "  (0, 13)\t0.189977595086\n",
      "  (0, 38)\t0.189977595086\n",
      "  (0, 46)\t0.189977595086\n",
      "  (0, 48)\t0.139513687217\n",
      "  (0, 64)\t0.379955190172\n",
      "  (0, 61)\t0.189977595086\n",
      "  (0, 12)\t0.379955190172\n",
      "  (0, 37)\t0.189977595086\n",
      "  (0, 45)\t0.279027374434\n",
      "  (0, 63)\t0.279027374434\n",
      "  (0, 58)\t0.279027374434\n",
      "  (0, 9)\t0.279027374434\n",
      "  (0, 36)\t0.139513687217\n",
      "  (1, 60)\t0.291838841331\n",
      "  (1, 68)\t0.345528463598\n",
      "  (1, 50)\t0.345528463598\n",
      "  (1, 10)\t0.291838841331\n",
      "  (1, 59)\t0.291838841331\n",
      "  (1, 67)\t0.345528463598\n",
      "  (1, 48)\t0.253745448104\n",
      "  :\t:\n",
      "  (7, 42)\t0.230302704801\n",
      "  (7, 7)\t0.264876769324\n",
      "  (7, 34)\t0.264876769324\n",
      "  (7, 28)\t0.230302704801\n",
      "  (7, 22)\t0.230302704801\n",
      "  (7, 41)\t0.230302704801\n",
      "  (7, 6)\t0.230302704801\n",
      "  (7, 55)\t0.230302704801\n",
      "  (7, 31)\t0.230302704801\n",
      "  (7, 27)\t0.230302704801\n",
      "  (8, 26)\t0.30113160279\n",
      "  (8, 44)\t0.30113160279\n",
      "  (8, 33)\t0.30113160279\n",
      "  (8, 29)\t0.30113160279\n",
      "  (8, 25)\t0.30113160279\n",
      "  (8, 32)\t0.30113160279\n",
      "  (8, 42)\t0.221141762658\n",
      "  (8, 56)\t0.254340545874\n",
      "  (8, 28)\t0.221141762658\n",
      "  (8, 22)\t0.221141762658\n",
      "  (8, 41)\t0.221141762658\n",
      "  (8, 6)\t0.221141762658\n",
      "  (8, 55)\t0.221141762658\n",
      "  (8, 31)\t0.221141762658\n",
      "  (8, 27)\t0.221141762658\n"
     ]
    }
   ],
   "source": [
    "from sklearn.feature_extraction.text import TfidfVectorizer\n",
    "from nltk.tokenize import WhitespaceTokenizer\n",
    "tokenizer = WhitespaceTokenizer()\n",
    "\n",
    "tfidf_vectorizer = TfidfVectorizer(\n",
    "                                   #max_df=3, min_df=2,\n",
    "                                   tokenizer=tokenizer.tokenize,\n",
    "                                   ngram_range=(1,3),\n",
    "                                   )\n",
    "\n",
    "tfidf = tfidf_vectorizer.fit_transform(data)\n",
    "#tfidf_vectorizer.get_feature_names()\n",
    "print(tfidf)"
   ]
  },
  {
   "cell_type": "code",
   "execution_count": 165,
   "metadata": {
    "collapsed": false
   },
   "outputs": [
    {
     "name": "stdout",
     "output_type": "stream",
     "text": [
      "[[ 1.          0.35400963  0.35400963  0.          0.          0.          0.\n",
      "   0.          0.        ]\n",
      " [ 0.35400963  1.          0.64183024  0.          0.          0.          0.\n",
      "   0.          0.        ]\n",
      " [ 0.35400963  0.64183024  1.          0.          0.          0.          0.\n",
      "   0.          0.        ]\n",
      " [ 0.          0.          0.          1.          0.65310209  0.48683302\n",
      "   0.          0.          0.        ]\n",
      " [ 0.          0.          0.          0.65310209  1.          0.41054748\n",
      "   0.          0.          0.        ]\n",
      " [ 0.          0.          0.          0.48683302  0.41054748  1.          0.\n",
      "   0.          0.        ]\n",
      " [ 0.          0.          0.          0.          0.          0.          1.\n",
      "   0.71510464  0.48164234]\n",
      " [ 0.          0.          0.          0.          0.          0.\n",
      "   0.71510464  1.          0.40743637]\n",
      " [ 0.          0.          0.          0.          0.          0.\n",
      "   0.48164234  0.40743637  1.        ]]\n",
      "count clusters: 3\n"
     ]
    },
    {
     "data": {
      "text/plain": [
       "array([0, 0, 0, 1, 1, 1, 2, 2, 2])"
      ]
     },
     "execution_count": 165,
     "metadata": {},
     "output_type": "execute_result"
    }
   ],
   "source": [
    "from sklearn.cluster import DBSCAN\n",
    "from sklearn.preprocessing import StandardScaler\n",
    "\n",
    "X = (tfidf * tfidf.T).A #eps=1.1, min_samples=3\n",
    "print(X)\n",
    "#X2 = StandardScaler(with_mean=False).fit_transform(tfidf)\n",
    "#print(tfidf)\n",
    "db = DBSCAN(eps=1.2, min_samples=3).fit(X)\n",
    "\n",
    "print('count clusters: %d' % (len(set(db.labels_)) - (1 if -1 in db.labels_ else 0)))\n",
    "\n",
    "labels = db.labels_\n",
    "labels[:100]"
   ]
  },
  {
   "cell_type": "code",
   "execution_count": 166,
   "metadata": {
    "collapsed": false
   },
   "outputs": [
    {
     "name": "stdout",
     "output_type": "stream",
     "text": [
      "Cluster: 0, count news: 3, data:\n",
      "\tодин два три четыре пять четыре пять два три\n",
      "\tпять четыре три два один\n",
      "\tтри два один пять четыре\n",
      "Cluster: 1, count news: 3, data:\n",
      "\tшесть семь восемь девять десять\n",
      "\tдевять десять шесть семь восемь\n",
      "\tсемь восемь восемь девять девять десять\n",
      "Cluster: 2, count news: 3, data:\n",
      "\tкот кошка собака голубь попугай дятел\n",
      "\tголубь попугай дятел кот кошка собака\n",
      "\tкот кошка попугай дятел собака голубь\n"
     ]
    }
   ],
   "source": [
    "dataLabel = zip(data, labels)\n",
    "dataLabel = sorted(dataLabel, key=lambda z: z[1])\n",
    "for label, group in groupby(dataLabel, lambda n: n[1]):\n",
    "    groupList = list(group)\n",
    "    print(\"Cluster: %s, count news: %s, data:\" % (label, len(groupList)))\n",
    "    for gr in groupList:\n",
    "        print(\"\\t\" + gr[0])"
   ]
  }
 ],
 "metadata": {
  "anaconda-cloud": {},
  "kernelspec": {
   "display_name": "Python [Root]",
   "language": "python",
   "name": "Python [Root]"
  },
  "language_info": {
   "codemirror_mode": {
    "name": "ipython",
    "version": 3
   },
   "file_extension": ".py",
   "mimetype": "text/x-python",
   "name": "python",
   "nbconvert_exporter": "python",
   "pygments_lexer": "ipython3",
   "version": "3.5.2"
  }
 },
 "nbformat": 4,
 "nbformat_minor": 0
}
