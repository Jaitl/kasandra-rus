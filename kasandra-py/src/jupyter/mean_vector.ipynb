{
 "cells": [
  {
   "cell_type": "markdown",
   "metadata": {},
   "source": [
    "# Вычисление среднего вектора набора данных\n",
    "\n",
    "Для представления текста в виде вектора используется бинарный вектор, для нормализации слов используется Yandex MyStem, "
   ]
  },
  {
   "cell_type": "markdown",
   "metadata": {},
   "source": [
    "# Модель новости"
   ]
  },
  {
   "cell_type": "code",
   "execution_count": 1,
   "metadata": {
    "collapsed": true
   },
   "outputs": [],
   "source": [
    "import json\n",
    "import numpy as np\n",
    "from pymystem3 import Mystem\n",
    "import re\n",
    "from sklearn.feature_extraction.text import CountVectorizer\n",
    "\n",
    "class News:\n",
    "    def __init__(self, id, date, annotation, title, content, url):\n",
    "        self.id = id\n",
    "        self.date = date\n",
    "        self.annotation = annotation\n",
    "        self.title = title\n",
    "        self.content = content\n",
    "        self.url = url\n",
    "    \n",
    "    @classmethod\n",
    "    def from_json(cls, json_str):\n",
    "        json_dict = json.loads(json_str)\n",
    "        return cls(**json_dict)"
   ]
  },
  {
   "cell_type": "markdown",
   "metadata": {},
   "source": [
    "# Загружаем новости"
   ]
  },
  {
   "cell_type": "code",
   "execution_count": 2,
   "metadata": {
    "collapsed": false
   },
   "outputs": [
    {
     "data": {
      "text/plain": [
       "['На Алтае заработала первая в РФ система контроля космического пространства',\n",
       " 'ЛНР: Действия украинских диверсантов — одна из версий покушения на Плотницкого',\n",
       " 'Bild не публикует результаты России в медальном зачёте Олимпиады',\n",
       " 'Глава ЛНР связал покушение на свою жизнь с украинскими спецслужбами',\n",
       " 'Мэра города в США арестовали за попытку расплатиться наркотиками за секс с мужчинами']"
      ]
     },
     "execution_count": 2,
     "metadata": {},
     "output_type": "execute_result"
    }
   ],
   "source": [
    "news = []\n",
    "with open('/data/kasandra/news-1000.json', encoding=\"utf8\") as f:\n",
    "    for line in f:\n",
    "        news.append(News.from_json(line))\n",
    "\n",
    "list(map(lambda w: w.title, news[:5]))"
   ]
  },
  {
   "cell_type": "markdown",
   "metadata": {},
   "source": [
    "# Загружаем стоп слова"
   ]
  },
  {
   "cell_type": "code",
   "execution_count": 3,
   "metadata": {
    "collapsed": true
   },
   "outputs": [],
   "source": [
    "stopwords = []\n",
    "\n",
    "with open('../main/python/res/stopwords.txt', mode=\"r\", encoding=\"utf8\") as file:\n",
    "    for line in file:\n",
    "        stopwords.append(line.replace('\\n', ''))"
   ]
  },
  {
   "cell_type": "markdown",
   "metadata": {},
   "source": [
    "# Подключаем Yandex MyStem для нормализации текста"
   ]
  },
  {
   "cell_type": "code",
   "execution_count": 4,
   "metadata": {
    "collapsed": false
   },
   "outputs": [],
   "source": [
    "mystem = Mystem(mystem_bin='/data/mystem/mystem',\n",
    "                entire_input=False)\n",
    "\n",
    "# Оставляем только русские слова\n",
    "r = re.compile('^[А-ЯЙа-яй]*$')\n",
    "\n",
    "def lemmatize(text):\n",
    "    return list(filter(r.match, mystem.lemmatize(text)))"
   ]
  },
  {
   "cell_type": "markdown",
   "metadata": {
    "collapsed": true
   },
   "source": [
    "## Преобразуем текст в вектор с помощью CountVectorizer"
   ]
  },
  {
   "cell_type": "code",
   "execution_count": 5,
   "metadata": {
    "collapsed": false
   },
   "outputs": [],
   "source": [
    "vectorizer = CountVectorizer(tokenizer=lemmatize, stop_words=stopwords, binary=True)\n",
    "\n",
    "bin_matrix = vectorizer.fit_transform(map(lambda n: n.content, news))"
   ]
  },
  {
   "cell_type": "markdown",
   "metadata": {},
   "source": [
    "# Вычисление среднего вектора\n",
    "\n",
    "[Centroid](https://en.wikipedia.org/wiki/Centroid#Of_a_finite_set_of_points)"
   ]
  },
  {
   "cell_type": "code",
   "execution_count": 6,
   "metadata": {
    "collapsed": false
   },
   "outputs": [],
   "source": [
    "def mean_vector(bin_matrix):\n",
    "    mean = bin_matrix[0].toarray()\n",
    "    for v in bin_matrix[1:]:\n",
    "        mean = mean + v.toarray()\n",
    "    return mean / bin_matrix.shape[0]\n",
    "\n",
    "def binary(val, n):\n",
    "    if val < n:\n",
    "        return 0\n",
    "    else:\n",
    "        return 1\n",
    "\n",
    "binary_vector = np.vectorize(binary)"
   ]
  },
  {
   "cell_type": "code",
   "execution_count": 7,
   "metadata": {
    "collapsed": false
   },
   "outputs": [
    {
     "data": {
      "text/plain": [
       "[('авг', 0.29499999999999998),\n",
       " ('важный', 0.30299999999999999),\n",
       " ('время', 0.26100000000000001),\n",
       " ('год', 0.42299999999999999),\n",
       " ('заявлять', 0.29299999999999998),\n",
       " ('кнопка', 0.28399999999999997),\n",
       " ('курс', 0.28699999999999998),\n",
       " ('любой', 0.33200000000000002),\n",
       " ('москва', 0.34300000000000003),\n",
       " ('мочь', 0.28899999999999998),\n",
       " ('нажимать', 0.28199999999999997),\n",
       " ('новость', 0.78300000000000003),\n",
       " ('отмечать', 0.22500000000000001),\n",
       " ('подписываться', 0.28100000000000003),\n",
       " ('проходить', 0.38100000000000001),\n",
       " ('ранее', 0.25600000000000001),\n",
       " ('российский', 0.30499999999999999),\n",
       " ('россия', 0.39700000000000002),\n",
       " ('самый', 0.39700000000000002),\n",
       " ('слово', 0.29799999999999999),\n",
       " ('сообщать', 0.39500000000000002),\n",
       " ('ссылка', 0.33800000000000002),\n",
       " ('становиться', 0.252),\n",
       " ('страна', 0.23200000000000001),\n",
       " ('устройство', 0.29299999999999998),\n",
       " ('человек', 0.30199999999999999)]"
      ]
     },
     "execution_count": 7,
     "metadata": {},
     "output_type": "execute_result"
    }
   ],
   "source": [
    "mean = mean_vector(bin_matrix)\n",
    "names = vectorizer.get_feature_names()\n",
    "wd = zip(names, mean[0])\n",
    "\n",
    "list(filter(lambda x: x[1] > 0.2, wd))"
   ]
  },
  {
   "cell_type": "markdown",
   "metadata": {
    "collapsed": true
   },
   "source": [
    "# Вычисление вектора за два дня\n",
    "\n",
    "\n",
    "02.08.2016: 1470096000 - 1470182399\n",
    "\n",
    "05.08.2016: 1470355200 - 1470441599"
   ]
  },
  {
   "cell_type": "code",
   "execution_count": 8,
   "metadata": {
    "collapsed": false
   },
   "outputs": [],
   "source": [
    "news02 = filter(lambda n: n.date >= 1470096000 and n.date <= 1470182399, news) # 02.08.2016\n",
    "news05 = filter(lambda n: n.date >= 1470355200 and n.date <= 1470441599, news) # 05.08.2016\n",
    "\n",
    "content02 = list(map(lambda n: n.content, news02))\n",
    "content05 = list(map(lambda n: n.content, news05))"
   ]
  },
  {
   "cell_type": "markdown",
   "metadata": {},
   "source": [
    "## Вычисляем вектора"
   ]
  },
  {
   "cell_type": "code",
   "execution_count": 9,
   "metadata": {
    "collapsed": false
   },
   "outputs": [],
   "source": [
    "vectorizer = CountVectorizer(tokenizer=lemmatize, stop_words=stopwords, binary=True)\n",
    "vectorizer.fit(content02)\n",
    "vectorizer.fit(content05)\n",
    "\n",
    "bin_matrix02 = vectorizer.transform(content02)\n",
    "bin_matrix05 = vectorizer.transform(content05)"
   ]
  },
  {
   "cell_type": "markdown",
   "metadata": {},
   "source": [
    "# Вычисляем средние вектора"
   ]
  },
  {
   "cell_type": "code",
   "execution_count": 26,
   "metadata": {
    "collapsed": false
   },
   "outputs": [],
   "source": [
    "mean02 = mean_vector(bin_matrix02)\n",
    "mean05 = mean_vector(bin_matrix05)"
   ]
  },
  {
   "cell_type": "markdown",
   "metadata": {},
   "source": [
    "## Веса слов"
   ]
  },
  {
   "cell_type": "code",
   "execution_count": 24,
   "metadata": {
    "collapsed": false
   },
   "outputs": [
    {
     "data": {
      "text/plain": [
       "[('авг', 0.3014705882352941),\n",
       " ('важный', 0.3235294117647059),\n",
       " ('год', 0.48529411764705882),\n",
       " ('кнопка', 0.3014705882352941),\n",
       " ('курс', 0.30882352941176472),\n",
       " ('любой', 0.33088235294117646),\n",
       " ('нажимать', 0.3014705882352941),\n",
       " ('новость', 0.69117647058823528),\n",
       " ('подписываться', 0.3014705882352941),\n",
       " ('проходить', 0.38970588235294118),\n",
       " ('россия', 0.36764705882352944),\n",
       " ('самый', 0.39705882352941174),\n",
       " ('сообщать', 0.33823529411764708),\n",
       " ('ссылка', 0.375),\n",
       " ('устройство', 0.3014705882352941)]"
      ]
     },
     "execution_count": 24,
     "metadata": {},
     "output_type": "execute_result"
    }
   ],
   "source": [
    "max_val = 0.3\n",
    "list(filter(lambda x: x[1] > max_val, zip(names, mean02[0])))"
   ]
  },
  {
   "cell_type": "code",
   "execution_count": 25,
   "metadata": {
    "collapsed": false
   },
   "outputs": [
    {
     "data": {
      "text/plain": [
       "[('важный', 0.37583892617449666),\n",
       " ('год', 0.40268456375838924),\n",
       " ('кнопка', 0.36912751677852351),\n",
       " ('курс', 0.3825503355704698),\n",
       " ('любой', 0.38926174496644295),\n",
       " ('москва', 0.30201342281879195),\n",
       " ('нажимать', 0.36912751677852351),\n",
       " ('новость', 0.78523489932885904),\n",
       " ('подписываться', 0.36241610738255031),\n",
       " ('приводить', 0.3087248322147651),\n",
       " ('проходить', 0.42281879194630873),\n",
       " ('российский', 0.30201342281879195),\n",
       " ('россия', 0.34228187919463088),\n",
       " ('самый', 0.48993288590604028),\n",
       " ('слово', 0.32214765100671139),\n",
       " ('сообщать', 0.37583892617449666),\n",
       " ('ссылка', 0.40939597315436244),\n",
       " ('устройство', 0.35570469798657717)]"
      ]
     },
     "execution_count": 25,
     "metadata": {},
     "output_type": "execute_result"
    }
   ],
   "source": [
    "max_val = 0.3\n",
    "list(filter(lambda x: x[1] > max_val, zip(names, mean05[0])))"
   ]
  },
  {
   "cell_type": "markdown",
   "metadata": {},
   "source": [
    "### Вычисляем общие слова в векторах"
   ]
  },
  {
   "cell_type": "code",
   "execution_count": 11,
   "metadata": {
    "collapsed": false
   },
   "outputs": [
    {
     "data": {
      "text/plain": [
       "[('авг', 2),\n",
       " ('август', 2),\n",
       " ('агентство', 2),\n",
       " ('важный', 2),\n",
       " ('вид', 2),\n",
       " ('владимир', 2),\n",
       " ('власть', 2),\n",
       " ('вопрос', 2),\n",
       " ('время', 2),\n",
       " ('выступать', 2),\n",
       " ('глава', 2),\n",
       " ('год', 2),\n",
       " ('данные', 2),\n",
       " ('дело', 2),\n",
       " ('день', 2),\n",
       " ('должный', 2),\n",
       " ('заявлять', 2),\n",
       " ('июль', 2),\n",
       " ('кнопка', 2),\n",
       " ('компания', 2),\n",
       " ('курс', 2),\n",
       " ('любой', 2),\n",
       " ('международный', 2),\n",
       " ('мир', 2),\n",
       " ('мнение', 2),\n",
       " ('москва', 2),\n",
       " ('мочь', 2),\n",
       " ('нажимать', 2),\n",
       " ('называть', 2),\n",
       " ('напоминать', 2),\n",
       " ('новость', 2),\n",
       " ('новый', 2),\n",
       " ('опубликовывать', 2),\n",
       " ('отмечать', 2),\n",
       " ('первый', 2),\n",
       " ('подписываться', 2),\n",
       " ('получать', 2),\n",
       " ('представитель', 2),\n",
       " ('президент', 2),\n",
       " ('приводить', 2),\n",
       " ('принимать', 2),\n",
       " ('проходить', 2),\n",
       " ('работа', 2),\n",
       " ('ранее', 2),\n",
       " ('результат', 2),\n",
       " ('решение', 2),\n",
       " ('российский', 2),\n",
       " ('россия', 2),\n",
       " ('самый', 2),\n",
       " ('сила', 2),\n",
       " ('ситуация', 2),\n",
       " ('слово', 2),\n",
       " ('случай', 2),\n",
       " ('сми', 2),\n",
       " ('смочь', 2),\n",
       " ('сообщать', 2),\n",
       " ('ссылка', 2),\n",
       " ('становиться', 2),\n",
       " ('сторона', 2),\n",
       " ('страна', 2),\n",
       " ('считать', 2),\n",
       " ('сша', 2),\n",
       " ('тасс', 2),\n",
       " ('устройство', 2),\n",
       " ('участие', 2),\n",
       " ('часть', 2),\n",
       " ('человек', 2),\n",
       " ('являться', 2)]"
      ]
     },
     "execution_count": 11,
     "metadata": {},
     "output_type": "execute_result"
    }
   ],
   "source": [
    "max_val = 0.1\n",
    "names = vectorizer.get_feature_names()\n",
    "meanBin02 = binary_vector(mean02, max_val)\n",
    "meanBin05 = binary_vector(mean05, max_val)\n",
    "\n",
    "diff = meanBin02 + meanBin05\n",
    "\n",
    "list(filter(lambda x: x[1] == 2, zip(names, diff[0])))"
   ]
  },
  {
   "cell_type": "code",
   "execution_count": null,
   "metadata": {
    "collapsed": true
   },
   "outputs": [],
   "source": []
  }
 ],
 "metadata": {
  "anaconda-cloud": {},
  "kernelspec": {
   "display_name": "Python [Root]",
   "language": "python",
   "name": "Python [Root]"
  },
  "language_info": {
   "codemirror_mode": {
    "name": "ipython",
    "version": 3
   },
   "file_extension": ".py",
   "mimetype": "text/x-python",
   "name": "python",
   "nbconvert_exporter": "python",
   "pygments_lexer": "ipython3",
   "version": "3.5.2"
  }
 },
 "nbformat": 4,
 "nbformat_minor": 0
}
