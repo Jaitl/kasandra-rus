{
 "cells": [
  {
   "cell_type": "code",
   "execution_count": 17,
   "metadata": {
    "collapsed": true
   },
   "outputs": [],
   "source": [
    "import pandas as pd\n",
    "import json\n",
    "import io\n",
    "\n",
    "%matplotlib inline"
   ]
  },
  {
   "cell_type": "code",
   "execution_count": 2,
   "metadata": {
    "collapsed": true
   },
   "outputs": [],
   "source": [
    "news_labels = {}\n",
    "with open('/data/kasandra/year/result/2016.300.kmeans.json', encoding=\"utf8\") as f:\n",
    "    news_labels = [ { 'id': d[0], 'cluster': d[1] } for d in json.loads(f.read()).items() ]"
   ]
  },
  {
   "cell_type": "code",
   "execution_count": 3,
   "metadata": {
    "collapsed": true
   },
   "outputs": [],
   "source": [
    "df_labels = pd.DataFrame(news_labels)"
   ]
  },
  {
   "cell_type": "code",
   "execution_count": 4,
   "metadata": {},
   "outputs": [
    {
     "name": "stdout",
     "output_type": "stream",
     "text": [
      "<class 'pandas.core.frame.DataFrame'>\n",
      "RangeIndex: 97744 entries, 0 to 97743\n",
      "Data columns (total 2 columns):\n",
      "cluster    97744 non-null int64\n",
      "id         97744 non-null object\n",
      "dtypes: int64(1), object(1)\n",
      "memory usage: 1.5+ MB\n"
     ]
    }
   ],
   "source": [
    "df_labels.info()"
   ]
  },
  {
   "cell_type": "code",
   "execution_count": 5,
   "metadata": {},
   "outputs": [
    {
     "data": {
      "text/html": [
       "<div>\n",
       "<table border=\"1\" class=\"dataframe\">\n",
       "  <thead>\n",
       "    <tr style=\"text-align: right;\">\n",
       "      <th></th>\n",
       "      <th>cluster</th>\n",
       "      <th>id</th>\n",
       "    </tr>\n",
       "  </thead>\n",
       "  <tbody>\n",
       "    <tr>\n",
       "      <th>0</th>\n",
       "      <td>141</td>\n",
       "      <td>16334082-3792-4ac3-9549-7db8b93e1444</td>\n",
       "    </tr>\n",
       "    <tr>\n",
       "      <th>1</th>\n",
       "      <td>21</td>\n",
       "      <td>aff6a8eb-da43-4989-9e97-084dad079083</td>\n",
       "    </tr>\n",
       "    <tr>\n",
       "      <th>2</th>\n",
       "      <td>103</td>\n",
       "      <td>d0764286-db08-465e-bee0-244e7dd33d4f</td>\n",
       "    </tr>\n",
       "    <tr>\n",
       "      <th>3</th>\n",
       "      <td>21</td>\n",
       "      <td>70db5c59-5b6b-4969-b59d-e8386178d973</td>\n",
       "    </tr>\n",
       "    <tr>\n",
       "      <th>4</th>\n",
       "      <td>67</td>\n",
       "      <td>767dcced-6076-4567-bf11-9e5d425a66a4</td>\n",
       "    </tr>\n",
       "  </tbody>\n",
       "</table>\n",
       "</div>"
      ],
      "text/plain": [
       "   cluster                                    id\n",
       "0      141  16334082-3792-4ac3-9549-7db8b93e1444\n",
       "1       21  aff6a8eb-da43-4989-9e97-084dad079083\n",
       "2      103  d0764286-db08-465e-bee0-244e7dd33d4f\n",
       "3       21  70db5c59-5b6b-4969-b59d-e8386178d973\n",
       "4       67  767dcced-6076-4567-bf11-9e5d425a66a4"
      ]
     },
     "execution_count": 5,
     "metadata": {},
     "output_type": "execute_result"
    }
   ],
   "source": [
    "df_labels.head()"
   ]
  },
  {
   "cell_type": "code",
   "execution_count": 6,
   "metadata": {
    "collapsed": true
   },
   "outputs": [],
   "source": [
    "df_news = pd.read_json('/data/kasandra/raw/crawled.09.04.2017.count.241436.json', lines=True, convert_dates=False)"
   ]
  },
  {
   "cell_type": "code",
   "execution_count": 7,
   "metadata": {},
   "outputs": [
    {
     "name": "stdout",
     "output_type": "stream",
     "text": [
      "<class 'pandas.core.frame.DataFrame'>\n",
      "Int64Index: 241436 entries, 0 to 241435\n",
      "Data columns (total 6 columns):\n",
      "content     241436 non-null object\n",
      "date        241436 non-null int64\n",
      "id          241436 non-null object\n",
      "siteType    241436 non-null object\n",
      "title       241436 non-null object\n",
      "url         241436 non-null object\n",
      "dtypes: int64(1), object(5)\n",
      "memory usage: 12.9+ MB\n"
     ]
    }
   ],
   "source": [
    "df_news.info()"
   ]
  },
  {
   "cell_type": "code",
   "execution_count": 8,
   "metadata": {},
   "outputs": [
    {
     "data": {
      "text/html": [
       "<div>\n",
       "<table border=\"1\" class=\"dataframe\">\n",
       "  <thead>\n",
       "    <tr style=\"text-align: right;\">\n",
       "      <th></th>\n",
       "      <th>content</th>\n",
       "      <th>date</th>\n",
       "      <th>id</th>\n",
       "      <th>siteType</th>\n",
       "      <th>title</th>\n",
       "      <th>url</th>\n",
       "    </tr>\n",
       "  </thead>\n",
       "  <tbody>\n",
       "    <tr>\n",
       "      <th>0</th>\n",
       "      <td>В здании средней школы №11 в городе Ирбит Свер...</td>\n",
       "      <td>1302160092000</td>\n",
       "      <td>58baf205-a49c-424b-85a0-103d7538ef7b</td>\n",
       "      <td>RBC</td>\n",
       "      <td>В Свердловской области в школе прогремел взрыв</td>\n",
       "      <td>http://top.rbc.ru/incidents/07/04/2011/571878....</td>\n",
       "    </tr>\n",
       "    <tr>\n",
       "      <th>1</th>\n",
       "      <td>Резкое повышение акцизов на табак, о котором н...</td>\n",
       "      <td>1302162519000</td>\n",
       "      <td>286fa12b-7acb-451e-884b-c699f36c35de</td>\n",
       "      <td>RBC</td>\n",
       "      <td>Стоимость самой дешевой пачки сигарет составит...</td>\n",
       "      <td>http://top.rbc.ru/economics/07/04/2011/571964....</td>\n",
       "    </tr>\n",
       "    <tr>\n",
       "      <th>2</th>\n",
       "      <td>Крупнейшему национальному домену России .ru се...</td>\n",
       "      <td>1302170086000</td>\n",
       "      <td>07efa03c-3974-41b5-bbd7-caeab38854ee</td>\n",
       "      <td>RBC</td>\n",
       "      <td>Сегодня Рунету исполняется 17 лет</td>\n",
       "      <td>http://top.rbc.ru/society/07/04/2011/571988.shtml</td>\n",
       "    </tr>\n",
       "    <tr>\n",
       "      <th>3</th>\n",
       "      <td>Президент США Барак Обама стал центральной тем...</td>\n",
       "      <td>1302173964000</td>\n",
       "      <td>2efc78ca-b34d-4890-8f4d-58102820b38d</td>\n",
       "      <td>RBC</td>\n",
       "      <td>Б.Обаму назвали агентом инопланетян</td>\n",
       "      <td>http://top.rbc.ru/wildworld/07/04/2011/571973....</td>\n",
       "    </tr>\n",
       "    <tr>\n",
       "      <th>4</th>\n",
       "      <td>Специально к 50-летию пилотируемой космонавтик...</td>\n",
       "      <td>1302176095000</td>\n",
       "      <td>e877f8c2-d26d-48a2-9e65-f659a6b2a932</td>\n",
       "      <td>RBC</td>\n",
       "      <td>Прогнозы будущего космонавтики: колонизация Ма...</td>\n",
       "      <td>http://top.rbc.ru/society/07/04/2011/572059.shtml</td>\n",
       "    </tr>\n",
       "  </tbody>\n",
       "</table>\n",
       "</div>"
      ],
      "text/plain": [
       "                                             content           date  \\\n",
       "0  В здании средней школы №11 в городе Ирбит Свер...  1302160092000   \n",
       "1  Резкое повышение акцизов на табак, о котором н...  1302162519000   \n",
       "2  Крупнейшему национальному домену России .ru се...  1302170086000   \n",
       "3  Президент США Барак Обама стал центральной тем...  1302173964000   \n",
       "4  Специально к 50-летию пилотируемой космонавтик...  1302176095000   \n",
       "\n",
       "                                     id siteType  \\\n",
       "0  58baf205-a49c-424b-85a0-103d7538ef7b      RBC   \n",
       "1  286fa12b-7acb-451e-884b-c699f36c35de      RBC   \n",
       "2  07efa03c-3974-41b5-bbd7-caeab38854ee      RBC   \n",
       "3  2efc78ca-b34d-4890-8f4d-58102820b38d      RBC   \n",
       "4  e877f8c2-d26d-48a2-9e65-f659a6b2a932      RBC   \n",
       "\n",
       "                                               title  \\\n",
       "0     В Свердловской области в школе прогремел взрыв   \n",
       "1  Стоимость самой дешевой пачки сигарет составит...   \n",
       "2                  Сегодня Рунету исполняется 17 лет   \n",
       "3                Б.Обаму назвали агентом инопланетян   \n",
       "4  Прогнозы будущего космонавтики: колонизация Ма...   \n",
       "\n",
       "                                                 url  \n",
       "0  http://top.rbc.ru/incidents/07/04/2011/571878....  \n",
       "1  http://top.rbc.ru/economics/07/04/2011/571964....  \n",
       "2  http://top.rbc.ru/society/07/04/2011/571988.shtml  \n",
       "3  http://top.rbc.ru/wildworld/07/04/2011/571973....  \n",
       "4  http://top.rbc.ru/society/07/04/2011/572059.shtml  "
      ]
     },
     "execution_count": 8,
     "metadata": {},
     "output_type": "execute_result"
    }
   ],
   "source": [
    "df_news.head()"
   ]
  },
  {
   "cell_type": "code",
   "execution_count": 9,
   "metadata": {
    "collapsed": true
   },
   "outputs": [],
   "source": [
    "df_news_cluster = pd.merge(df_news, df_labels, on='id')"
   ]
  },
  {
   "cell_type": "code",
   "execution_count": 47,
   "metadata": {},
   "outputs": [
    {
     "data": {
      "text/plain": [
       "content     200\n",
       "date        200\n",
       "id          200\n",
       "siteType    200\n",
       "title       200\n",
       "url         200\n",
       "dtype: int64"
      ]
     },
     "execution_count": 47,
     "metadata": {},
     "output_type": "execute_result"
    }
   ],
   "source": [
    "corpuse_news = df_news_cluster[(df_news_cluster.cluster == 224) | (df_news_cluster.cluster == 79)].drop('cluster', 1)\n",
    "corpuse_news = corpuse_news.sample(200)\n",
    "corpuse_news.count()"
   ]
  },
  {
   "cell_type": "code",
   "execution_count": 48,
   "metadata": {
    "collapsed": true
   },
   "outputs": [],
   "source": [
    "corpuse_data = {\n",
    "  \"name\": \"Крымский мост и Курилы (2)(200)\",\n",
    "  \"alias\": \"krim_kur_200\",\n",
    "  \"news\": list(corpuse_news.T.to_dict().values())\n",
    "}"
   ]
  },
  {
   "cell_type": "code",
   "execution_count": 49,
   "metadata": {},
   "outputs": [],
   "source": [
    "with open('/Users/igor/edu/kasandra-rus/kasandra_viewer/news_corpus/krim_kur_200.json', 'w', encoding='utf8') as json_file:\n",
    "    json.dump(corpuse_data, json_file, ensure_ascii=False)"
   ]
  },
  {
   "cell_type": "code",
   "execution_count": 30,
   "metadata": {},
   "outputs": [
    {
     "ename": "TypeError",
     "evalue": "bar() missing 2 required positional arguments: 'left' and 'height'",
     "output_type": "error",
     "traceback": [
      "\u001b[0;31m---------------------------------------------------------------------------\u001b[0m",
      "\u001b[0;31mTypeError\u001b[0m                                 Traceback (most recent call last)",
      "\u001b[0;32m<ipython-input-30-1d6ecbd80add>\u001b[0m in \u001b[0;36m<module>\u001b[0;34m()\u001b[0m\n\u001b[0;32m----> 1\u001b[0;31m \u001b[0mdf_labels\u001b[0m\u001b[0;34m.\u001b[0m\u001b[0mgroupby\u001b[0m\u001b[0;34m(\u001b[0m\u001b[0;34m[\u001b[0m\u001b[0;34m'cluster'\u001b[0m\u001b[0;34m]\u001b[0m\u001b[0;34m)\u001b[0m\u001b[0;34m.\u001b[0m\u001b[0mcount\u001b[0m\u001b[0;34m(\u001b[0m\u001b[0;34m)\u001b[0m\u001b[0;34m.\u001b[0m\u001b[0mplot\u001b[0m\u001b[0;34m(\u001b[0m\u001b[0;34m)\u001b[0m\u001b[0;34m.\u001b[0m\u001b[0mbar\u001b[0m\u001b[0;34m(\u001b[0m\u001b[0;34m)\u001b[0m\u001b[0;34m\u001b[0m\u001b[0m\n\u001b[0m",
      "\u001b[0;32m/Users/igor/anaconda/lib/python3.5/site-packages/matplotlib/__init__.py\u001b[0m in \u001b[0;36minner\u001b[0;34m(ax, *args, **kwargs)\u001b[0m\n\u001b[1;32m   1890\u001b[0m                     warnings.warn(msg % (label_namer, func.__name__),\n\u001b[1;32m   1891\u001b[0m                                   RuntimeWarning, stacklevel=2)\n\u001b[0;32m-> 1892\u001b[0;31m             \u001b[0;32mreturn\u001b[0m \u001b[0mfunc\u001b[0m\u001b[0;34m(\u001b[0m\u001b[0max\u001b[0m\u001b[0;34m,\u001b[0m \u001b[0;34m*\u001b[0m\u001b[0margs\u001b[0m\u001b[0;34m,\u001b[0m \u001b[0;34m**\u001b[0m\u001b[0mkwargs\u001b[0m\u001b[0;34m)\u001b[0m\u001b[0;34m\u001b[0m\u001b[0m\n\u001b[0m\u001b[1;32m   1893\u001b[0m         \u001b[0mpre_doc\u001b[0m \u001b[0;34m=\u001b[0m \u001b[0minner\u001b[0m\u001b[0;34m.\u001b[0m\u001b[0m__doc__\u001b[0m\u001b[0;34m\u001b[0m\u001b[0m\n\u001b[1;32m   1894\u001b[0m         \u001b[0;32mif\u001b[0m \u001b[0mpre_doc\u001b[0m \u001b[0;32mis\u001b[0m \u001b[0;32mNone\u001b[0m\u001b[0;34m:\u001b[0m\u001b[0;34m\u001b[0m\u001b[0m\n",
      "\u001b[0;31mTypeError\u001b[0m: bar() missing 2 required positional arguments: 'left' and 'height'"
     ]
    },
    {
     "data": {
      "image/png": "[encoded data removed]",
      "text/plain": [
       "<matplotlib.figure.Figure at 0x116baee10>"
      ]
     },
     "metadata": {},
     "output_type": "display_data"
    }
   ],
   "source": [
    "df_labels.groupby(['cluster']).count().plot().bar()"
   ]
  },
  {
   "cell_type": "code",
   "execution_count": null,
   "metadata": {
    "collapsed": true
   },
   "outputs": [],
   "source": []
  }
 ],
 "metadata": {
  "anaconda-cloud": {},
  "kernelspec": {
   "display_name": "Python [conda root]",
   "language": "python",
   "name": "conda-root-py"
  },
  "language_info": {
   "codemirror_mode": {
    "name": "ipython",
    "version": 3
   },
   "file_extension": ".py",
   "mimetype": "text/x-python",
   "name": "python",
   "nbconvert_exporter": "python",
   "pygments_lexer": "ipython3",
   "version": "3.5.2"
  }
 },
 "nbformat": 4,
 "nbformat_minor": 2
}
