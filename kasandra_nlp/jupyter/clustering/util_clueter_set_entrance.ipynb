{
 "cells": [
  {
   "cell_type": "markdown",
   "metadata": {
    "collapsed": true
   },
   "source": [
    "# Утилита для сравнения двух результатов кластеризаций\n",
    "\n",
    "Из каждого кластера строит множества и сравнивает процент вхождения множеств кластеров одной кластеризации с множествами кластеров другой кластеризации"
   ]
  },
  {
   "cell_type": "code",
   "execution_count": 56,
   "metadata": {
    "collapsed": true
   },
   "outputs": [],
   "source": [
    "data1 = [('1', 1), ('2', 1), ('3', 1), ('4', 1), ('5', 2), ('6', 2), ('7', 2), ('8', 2)]"
   ]
  },
  {
   "cell_type": "code",
   "execution_count": 72,
   "metadata": {
    "collapsed": true
   },
   "outputs": [],
   "source": [
    "data2 = [('1', 7), ('2', 7), ('3', 3), ('4', 3), ('5', 8), ('6', 8), ('7', 4), ('8', 5)]"
   ]
  },
  {
   "cell_type": "code",
   "execution_count": 83,
   "metadata": {
    "collapsed": true
   },
   "outputs": [],
   "source": [
    "def create_data_map(data):\n",
    "    data_map = {}\n",
    "    for c_id, label in data:\n",
    "        if label in data_map:\n",
    "            ids = data_map[label]\n",
    "            ids.add(str(c_id))\n",
    "        else:\n",
    "            ids = set()\n",
    "            ids.add(str(c_id))\n",
    "            data_map[label] = ids\n",
    "    return data_map"
   ]
  },
  {
   "cell_type": "code",
   "execution_count": 59,
   "metadata": {
    "collapsed": false
   },
   "outputs": [
    {
     "name": "stdout",
     "output_type": "stream",
     "text": [
      "{1: {'3', '4', '1', '2'}, 2: {'5', '6', '8', '7'}}\n"
     ]
    }
   ],
   "source": [
    "print(create_data_map(data1))"
   ]
  },
  {
   "cell_type": "code",
   "execution_count": 81,
   "metadata": {
    "collapsed": false
   },
   "outputs": [],
   "source": [
    "def cluster_compare(name1, data_map1, name2, data_map2, percent):\n",
    "    for label1, ids1 in data_map1.items():\n",
    "        for label2, ids2 in data_map2.items():\n",
    "            ids_size = len(ids2)\n",
    "            ids_diff = ids1 & ids2\n",
    "            diff_size = len(ids_diff)\n",
    "            diff_precent = diff_size/ids_size\n",
    "            if diff_precent >= percent:\n",
    "                print(\"%s_label: %s, %s_label: %s, percent: %s\" % (name1, label1, name2, label2, diff_precent))"
   ]
  },
  {
   "cell_type": "code",
   "execution_count": 82,
   "metadata": {
    "collapsed": false
   },
   "outputs": [
    {
     "name": "stdout",
     "output_type": "stream",
     "text": [
      "{1: {'3', '4', '1', '2'}, 2: {'5', '6', '8', '7'}}\n",
      "{7: {'1', '2'}, 3: {'3', '4'}, 8: {'5', '6'}, 4: {'7'}, 5: {'8'}}\n",
      "----\n",
      "data2_label: 7, data1_label: 1, percent: 0.5\n",
      "data2_label: 7, data1_label: 2, percent: 0.0\n",
      "data2_label: 3, data1_label: 1, percent: 0.5\n",
      "data2_label: 3, data1_label: 2, percent: 0.0\n",
      "data2_label: 8, data1_label: 1, percent: 0.0\n",
      "data2_label: 8, data1_label: 2, percent: 0.5\n",
      "data2_label: 4, data1_label: 1, percent: 0.0\n",
      "data2_label: 4, data1_label: 2, percent: 0.25\n",
      "data2_label: 5, data1_label: 1, percent: 0.0\n",
      "data2_label: 5, data1_label: 2, percent: 0.25\n"
     ]
    }
   ],
   "source": [
    "data_map1 = create_data_map(data1)\n",
    "data_map2 = create_data_map(data2)\n",
    "print(data_map1)\n",
    "print(data_map2)\n",
    "print(\"----\")\n",
    "\n",
    "# cluster_compare(\"data1\", data_map1, \"data2\", data_map2, 0.1)\n",
    "cluster_compare(\"data2\", data_map2, \"data1\", data_map1, 0)"
   ]
  },
  {
   "cell_type": "code",
   "execution_count": null,
   "metadata": {
    "collapsed": true
   },
   "outputs": [],
   "source": [
    ","
   ]
  }
 ],
 "metadata": {
  "kernelspec": {
   "display_name": "Python 3",
   "language": "python",
   "name": "python3"
  },
  "language_info": {
   "codemirror_mode": {
    "name": "ipython",
    "version": 3
   },
   "file_extension": ".py",
   "mimetype": "text/x-python",
   "name": "python",
   "nbconvert_exporter": "python",
   "pygments_lexer": "ipython3",
   "version": "3.6.0"
  }
 },
 "nbformat": 4,
 "nbformat_minor": 2
}
