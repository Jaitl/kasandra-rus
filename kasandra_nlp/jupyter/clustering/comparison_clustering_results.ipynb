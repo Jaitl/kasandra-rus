{
 "cells": [
  {
   "cell_type": "markdown",
   "metadata": {},
   "source": [
    "# Сравнение алгоритмов кластеризации по метрикам качества кластеризации"
   ]
  },
  {
   "cell_type": "code",
   "execution_count": 27,
   "metadata": {
    "collapsed": true
   },
   "outputs": [],
   "source": [
    "import json\n",
    "import csv\n",
    "import time\n",
    "import os\n",
    "\n",
    "import numpy as np\n",
    "\n",
    "from itertools import groupby\n",
    "from collections import Counter\n",
    "\n",
    "from sklearn.cluster import KMeans\n",
    "from sklearn.cluster import MiniBatchKMeans\n",
    "from sklearn.cluster import DBSCAN\n",
    "from sklearn.cluster import Birch\n",
    "from sklearn.cluster import AffinityPropagation\n",
    "\n",
    "from sklearn.feature_extraction.text import TfidfVectorizer\n",
    "from sklearn.feature_extraction.text import CountVectorizer\n",
    "\n",
    "from sklearn.decomposition import LatentDirichletAllocation\n",
    "from sklearn.decomposition import TruncatedSVD\n",
    "from sklearn.preprocessing import Normalizer\n",
    "\n",
    "from sklearn import metrics"
   ]
  },
  {
   "cell_type": "markdown",
   "metadata": {},
   "source": [
    "## Подготовка данных для кластеризации"
   ]
  },
  {
   "cell_type": "code",
   "execution_count": 28,
   "metadata": {
    "collapsed": true
   },
   "outputs": [],
   "source": [
    "class News:\n",
    "    def __init__(self, id, date, title, content, url, siteType):\n",
    "        self.id = id\n",
    "        self.date = date\n",
    "        self.title = title\n",
    "        self.content = content\n",
    "        self.url = url\n",
    "        self.siteType = siteType\n",
    "    \n",
    "    @classmethod\n",
    "    def from_json(cls, json_str):\n",
    "        json_dict = json.loads(json_str)\n",
    "        return cls(**json_dict)"
   ]
  },
  {
   "cell_type": "markdown",
   "metadata": {},
   "source": [
    "## Загрузка тестовой выборки"
   ]
  },
  {
   "cell_type": "code",
   "execution_count": 29,
   "metadata": {
    "collapsed": false
   },
   "outputs": [],
   "source": [
    "news = []\n",
    "with open('/data/kasandra/year/10k.test.normalized.json', encoding=\"utf8\") as f:\n",
    "    for line in f:\n",
    "        news.append(News.from_json(line))"
   ]
  },
  {
   "cell_type": "code",
   "execution_count": 49,
   "metadata": {
    "collapsed": false
   },
   "outputs": [
    {
     "name": "stdout",
     "output_type": "stream",
     "text": [
      "total words: 23724\n"
     ]
    }
   ],
   "source": [
    "words = []\n",
    "news = news[:100]\n",
    "for n in news:\n",
    "    words.extend(n.content.split())\n",
    "counts = Counter(words)\n",
    "one_time = [k for k, v in dict(counts).items() if v == 1]\n",
    "print(\"total words: %s\" % (len(words) - len(one_time)))\n",
    "\n",
    "news_content = [x.content for x in news]"
   ]
  },
  {
   "cell_type": "code",
   "execution_count": 31,
   "metadata": {
    "collapsed": true
   },
   "outputs": [],
   "source": [
    "stopwords = set(one_time)"
   ]
  },
  {
   "cell_type": "markdown",
   "metadata": {},
   "source": [
    "## Загрузка размеченной выборки"
   ]
  },
  {
   "cell_type": "code",
   "execution_count": 62,
   "metadata": {
    "collapsed": false
   },
   "outputs": [],
   "source": [
    "marked_map = {} # (id, label)\n",
    "with open('/data/kasandra/marked/marked_10k.csv', encoding=\"utf8\") as csvfile:\n",
    "    spamreader = csv.reader(csvfile, delimiter=';')\n",
    "    for row in spamreader:\n",
    "        marked_map[row[0]] = int(row[3])\n",
    "\n",
    "marked_news = []\n",
    "for n in news:\n",
    "    label = marked_map[n.id]\n",
    "    marked_news.append((n.id, label))\n",
    "    \n",
    "marked_labels = [label for n_id, label in marked_news]"
   ]
  },
  {
   "cell_type": "code",
   "execution_count": 33,
   "metadata": {
    "collapsed": false
   },
   "outputs": [
    {
     "data": {
      "text/plain": [
       "40"
      ]
     },
     "execution_count": 33,
     "metadata": {},
     "output_type": "execute_result"
    }
   ],
   "source": [
    "marked_map['170bf9b9-d62d-437e-a75a-cac7b7c9f282']"
   ]
  },
  {
   "cell_type": "markdown",
   "metadata": {},
   "source": [
    "# Вспомогательные функции"
   ]
  },
  {
   "cell_type": "code",
   "execution_count": 34,
   "metadata": {
    "collapsed": true
   },
   "outputs": [],
   "source": [
    "def zip_news(n,l):\n",
    "    return list(map(assign_label_to_news, zip(n, l)))\n",
    "\n",
    "def assign_label_to_news(tuplezz):\n",
    "    (nws, lbl) = tuplezz\n",
    "    nws.label = lbl.item()\n",
    "    return nws\n",
    "\n",
    "def filter_words(text):\n",
    "    words_list = text.split()\n",
    "    newWords = [x for x in words_list if len(x) > 3]\n",
    "    return \" \".join(newWords)\n",
    "\n",
    "def print_clusters(cluster_news, clustre_labels):\n",
    "    newsLabels = zip_news(cluster_news, clustre_labels)\n",
    "    newsLabels = sorted(newsLabels, key=lambda n: n.label)\n",
    "    for label, group in groupby(newsLabels, lambda n: n.label):\n",
    "        groupList = list(group)\n",
    "        print(\"Cluster: %s, count news: %s, titles:\" % (label, len(groupList)))\n",
    "        for gr in groupList:\n",
    "            print(\"\\t\" + gr.title)\n",
    "            \n",
    "def print_topics(components, feature_names, n_top_words):\n",
    "    for topic_idx, topic in enumerate(components):\n",
    "        print(\"Topic #%d:\" % topic_idx)\n",
    "        print(\" \".join([feature_names[i] for i in topic.argsort()[:-n_top_words - 1:-1]]))"
   ]
  },
  {
   "cell_type": "markdown",
   "metadata": {},
   "source": [
    "# Векторизация"
   ]
  },
  {
   "cell_type": "markdown",
   "metadata": {},
   "source": [
    "## TF-IDF"
   ]
  },
  {
   "cell_type": "code",
   "execution_count": 35,
   "metadata": {
    "collapsed": true
   },
   "outputs": [],
   "source": [
    "def tf_idf(content):\n",
    "    tfidf_vectorizer = TfidfVectorizer(use_idf=True, tokenizer=lambda text: text.split(\" \"), stop_words=stopwords) # , ngram_range=(1, 3)\n",
    "    tfidf_matrix = tfidf_vectorizer.fit_transform(content)\n",
    "    print(\"vocabulary size: %s\" % len(tfidf_vectorizer.vocabulary_))\n",
    "    return tfidf_matrix"
   ]
  },
  {
   "cell_type": "markdown",
   "metadata": {},
   "source": [
    "## TF"
   ]
  },
  {
   "cell_type": "code",
   "execution_count": 36,
   "metadata": {
    "collapsed": true
   },
   "outputs": [],
   "source": [
    "def tf(content):\n",
    "    tf_vectorizer = TfidfVectorizer(use_idf=False, tokenizer=lambda text: text.split(\" \"), stop_words=stopwords) # , ngram_range=(1, 3)\n",
    "    tf_matrix = tfidf_vectorizer.fit_transform(content)\n",
    "    print(\"vocabulary size: %s\" % len(tf_vectorizer.vocabulary_))\n",
    "    return tf_matrix"
   ]
  },
  {
   "cell_type": "markdown",
   "metadata": {},
   "source": [
    "# Семантический анализ"
   ]
  },
  {
   "cell_type": "markdown",
   "metadata": {},
   "source": [
    "## LDA"
   ]
  },
  {
   "cell_type": "code",
   "execution_count": 37,
   "metadata": {
    "collapsed": true
   },
   "outputs": [],
   "source": [
    "def lda(content, n, max_iter):\n",
    "    tf = CountVectorizer(stop_words=stopwords).fit_transform(content)\n",
    "    lda = LatentDirichletAllocation(n_topics=n, max_iter=max_iter, learning_method='online', learning_offset=50.)\n",
    "    lda_matrix = lda.fit_transform(tf)\n",
    "    normalizer = Normalizer()\n",
    "    norm_matrix = normalizer.fit_transform(lda_matrix)\n",
    "    return norm_matrix"
   ]
  },
  {
   "cell_type": "markdown",
   "metadata": {},
   "source": [
    "## LSA"
   ]
  },
  {
   "cell_type": "code",
   "execution_count": 38,
   "metadata": {
    "collapsed": true
   },
   "outputs": [],
   "source": [
    "def lsa(matrix, n, max_inter):\n",
    "    lsa = TruncatedSVD(n_components=n, n_iter=max_inter)\n",
    "    lsa_matrix = lsa.fit_transform(matrix)\n",
    "    return lsa_matrix"
   ]
  },
  {
   "cell_type": "markdown",
   "metadata": {},
   "source": [
    "# Кластеризация"
   ]
  },
  {
   "cell_type": "markdown",
   "metadata": {},
   "source": [
    "# Проверка качества кластеризации"
   ]
  },
  {
   "cell_type": "code",
   "execution_count": 39,
   "metadata": {
    "collapsed": true
   },
   "outputs": [],
   "source": [
    "def score(matrix, marked_labels, clustered_labels):\n",
    "    print(\"Homogeneity: %0.3f\" % metrics.homogeneity_score(marked_labels, clustered_labels))\n",
    "    print(\"Completeness: %0.3f\" % metrics.completeness_score(marked_labels, clustered_labels))\n",
    "    print(\"V-measure: %0.3f\" % metrics.v_measure_score(marked_labels, clustered_labels))\n",
    "    print(\"Adjusted Rand-Index: %.3f\" % metrics.adjusted_rand_score(marked_labels, clustered_labels))\n",
    "    print(\"Silhouette Coefficient: %0.3f\" % metrics.silhouette_score(matrix, clustered_labels, sample_size=1000))\n",
    "    print(\"Cluster count: %s\" % len(set(clustered_labels)))"
   ]
  },
  {
   "cell_type": "markdown",
   "metadata": {},
   "source": [
    "# file"
   ]
  },
  {
   "cell_type": "code",
   "execution_count": 70,
   "metadata": {
    "collapsed": true
   },
   "outputs": [],
   "source": [
    "def score_file(matrix, marked_labels, clustered_labels, file):\n",
    "    file.write(\"Homogeneity: %0.3f\\n\" % metrics.homogeneity_score(marked_labels, clustered_labels))\n",
    "    file.write(\"Completeness: %0.3f\\n\" % metrics.completeness_score(marked_labels, clustered_labels))\n",
    "    file.write(\"V-measure: %0.3f\\n\" % metrics.v_measure_score(marked_labels, clustered_labels))\n",
    "    file.write(\"Adjusted Rand-Index: %.3f\\n\" % metrics.adjusted_rand_score(marked_labels, clustered_labels))\n",
    "    file.write(\"Silhouette Coefficient: %0.3f\\n\" % metrics.silhouette_score(matrix, clustered_labels, sample_size=1000))\n",
    "    file.write(\"Cluster count: %s\\n\" % len(set(clustered_labels)))"
   ]
  },
  {
   "cell_type": "code",
   "execution_count": 66,
   "metadata": {
    "collapsed": true
   },
   "outputs": [],
   "source": [
    "def print_clusters_file(cluster_news, clustre_labels, file):\n",
    "    newsLabels = zip_news(cluster_news, clustre_labels)\n",
    "    newsLabels = sorted(newsLabels, key=lambda n: n.label)\n",
    "    for label, group in groupby(newsLabels, lambda n: n.label):\n",
    "        groupList = list(group)\n",
    "        file.write(\"Cluster: %s, count news: %s, titles:\\n\" % (label, len(groupList)))\n",
    "        for gr in groupList:\n",
    "            file.write(\"\\t\" + gr.title + \"\\n\")"
   ]
  },
  {
   "cell_type": "markdown",
   "metadata": {},
   "source": [
    "# Тест "
   ]
  },
  {
   "cell_type": "code",
   "execution_count": 58,
   "metadata": {
    "collapsed": true
   },
   "outputs": [],
   "source": [
    "max_iter = 10 # 100\n",
    "n_components = 10000\n",
    "n_clusters = 10 # Количество кластеров\n",
    "min_samples = 4\n",
    "eps = 1.3"
   ]
  },
  {
   "cell_type": "code",
   "execution_count": 54,
   "metadata": {
    "collapsed": false
   },
   "outputs": [
    {
     "name": "stdout",
     "output_type": "stream",
     "text": [
      "vocabulary size: 6514\n"
     ]
    }
   ],
   "source": [
    "tfidf_matrix = tf_idf(news_content)"
   ]
  },
  {
   "cell_type": "code",
   "execution_count": 55,
   "metadata": {
    "collapsed": false
   },
   "outputs": [
    {
     "name": "stdout",
     "output_type": "stream",
     "text": [
      "vocabulary size: 6514\n"
     ]
    }
   ],
   "source": [
    "vectorization = {\n",
    "    \"tf-idf\": tfidf_matrix,\n",
    "    \"tf\": tf_idf(news_content),\n",
    "    #\"lda\": lda(news_content, n_components, max_iter),\n",
    "    #\"lsa\": lsa(tfidf_matrix, n_components, max_iter)\n",
    "}"
   ]
  },
  {
   "cell_type": "code",
   "execution_count": 60,
   "metadata": {
    "collapsed": false
   },
   "outputs": [],
   "source": [
    "clasterization = {\n",
    "    \"kmeans\": KMeans(n_clusters=n_clusters),\n",
    "    #\"miniBatchKMeanss\": MiniBatchKMeans(n_clusters=n_clusters, max_iter=max_iter),\n",
    "    #\"dbscan\": DBSCAN(eps=eps, min_samples=min_samples),\n",
    "    #\"birch\": Birch(n_clusters=n_clusters),\n",
    "    #\"affinityPropagation\": AffinityPropagation()\n",
    "}"
   ]
  },
  {
   "cell_type": "code",
   "execution_count": null,
   "metadata": {
    "collapsed": false
   },
   "outputs": [],
   "source": [
    "for cl_name, cl_alg in clasterization.items():\n",
    "    for vec_name, vec_matrix in vectorization.items():\n",
    "        try:\n",
    "            print(\"%s %s\" % (cl_name, vec_name))\n",
    "            start_time = time.time()\n",
    "            result_matrix = cl_alg.fit(vec_matrix)\n",
    "            labels = result_matrix.labels_\n",
    "            score(vec_matrix, marked_labels, labels)\n",
    "            print(\"%s %s: %s second\" % (cl_name, vec_name, time.time() - start_time))\n",
    "            print(\"----\")\n",
    "        except Exception as ex:\n",
    "            print(ex)"
   ]
  },
  {
   "cell_type": "code",
   "execution_count": 67,
   "metadata": {
    "collapsed": false
   },
   "outputs": [],
   "source": [
    "path = \"/data/kasandra/results/clustering/%s\" % (int(time.time()))"
   ]
  },
  {
   "cell_type": "code",
   "execution_count": 68,
   "metadata": {
    "collapsed": false
   },
   "outputs": [],
   "source": [
    "os.makedirs(path, exist_ok=True)"
   ]
  },
  {
   "cell_type": "code",
   "execution_count": 69,
   "metadata": {
    "collapsed": false
   },
   "outputs": [
    {
     "name": "stdout",
     "output_type": "stream",
     "text": [
      "kmeans tf-idf\n",
      "time: 0.41614198684692383\n",
      "path: /data/kasandra/results/clustering/1513977535/kmeans_tf-idf.txt\n",
      "kmeans tf\n"
     ]
    },
    {
     "name": "stderr",
     "output_type": "stream",
     "text": [
      "/anaconda/lib/python3.6/site-packages/sklearn/metrics/cluster/supervised.py:32: DeprecationWarning: `comb` is deprecated!\n",
      "Importing `comb` from scipy.misc is deprecated in scipy 1.0.0. Use `scipy.special.comb` instead.\n",
      "  return comb(n, 2, exact=1)\n",
      "/anaconda/lib/python3.6/site-packages/sklearn/metrics/cluster/supervised.py:32: DeprecationWarning: `comb` is deprecated!\n",
      "Importing `comb` from scipy.misc is deprecated in scipy 1.0.0. Use `scipy.special.comb` instead.\n",
      "  return comb(n, 2, exact=1)\n",
      "/anaconda/lib/python3.6/site-packages/sklearn/metrics/cluster/supervised.py:32: DeprecationWarning: `comb` is deprecated!\n",
      "Importing `comb` from scipy.misc is deprecated in scipy 1.0.0. Use `scipy.special.comb` instead.\n",
      "  return comb(n, 2, exact=1)\n",
      "/anaconda/lib/python3.6/site-packages/sklearn/metrics/cluster/supervised.py:32: DeprecationWarning: `comb` is deprecated!\n",
      "Importing `comb` from scipy.misc is deprecated in scipy 1.0.0. Use `scipy.special.comb` instead.\n",
      "  return comb(n, 2, exact=1)\n",
      "/anaconda/lib/python3.6/site-packages/sklearn/metrics/cluster/supervised.py:32: DeprecationWarning: `comb` is deprecated!\n",
      "Importing `comb` from scipy.misc is deprecated in scipy 1.0.0. Use `scipy.special.comb` instead.\n",
      "  return comb(n, 2, exact=1)\n",
      "/anaconda/lib/python3.6/site-packages/sklearn/metrics/cluster/supervised.py:32: DeprecationWarning: `comb` is deprecated!\n",
      "Importing `comb` from scipy.misc is deprecated in scipy 1.0.0. Use `scipy.special.comb` instead.\n",
      "  return comb(n, 2, exact=1)\n",
      "/anaconda/lib/python3.6/site-packages/sklearn/metrics/cluster/supervised.py:32: DeprecationWarning: `comb` is deprecated!\n",
      "Importing `comb` from scipy.misc is deprecated in scipy 1.0.0. Use `scipy.special.comb` instead.\n",
      "  return comb(n, 2, exact=1)\n",
      "/anaconda/lib/python3.6/site-packages/sklearn/metrics/cluster/supervised.py:32: DeprecationWarning: `comb` is deprecated!\n",
      "Importing `comb` from scipy.misc is deprecated in scipy 1.0.0. Use `scipy.special.comb` instead.\n",
      "  return comb(n, 2, exact=1)\n",
      "/anaconda/lib/python3.6/site-packages/sklearn/metrics/cluster/supervised.py:32: DeprecationWarning: `comb` is deprecated!\n",
      "Importing `comb` from scipy.misc is deprecated in scipy 1.0.0. Use `scipy.special.comb` instead.\n",
      "  return comb(n, 2, exact=1)\n",
      "/anaconda/lib/python3.6/site-packages/sklearn/metrics/cluster/supervised.py:32: DeprecationWarning: `comb` is deprecated!\n",
      "Importing `comb` from scipy.misc is deprecated in scipy 1.0.0. Use `scipy.special.comb` instead.\n",
      "  return comb(n, 2, exact=1)\n",
      "/anaconda/lib/python3.6/site-packages/sklearn/metrics/cluster/supervised.py:32: DeprecationWarning: `comb` is deprecated!\n",
      "Importing `comb` from scipy.misc is deprecated in scipy 1.0.0. Use `scipy.special.comb` instead.\n",
      "  return comb(n, 2, exact=1)\n",
      "/anaconda/lib/python3.6/site-packages/sklearn/metrics/cluster/supervised.py:32: DeprecationWarning: `comb` is deprecated!\n",
      "Importing `comb` from scipy.misc is deprecated in scipy 1.0.0. Use `scipy.special.comb` instead.\n",
      "  return comb(n, 2, exact=1)\n",
      "/anaconda/lib/python3.6/site-packages/sklearn/metrics/cluster/supervised.py:32: DeprecationWarning: `comb` is deprecated!\n",
      "Importing `comb` from scipy.misc is deprecated in scipy 1.0.0. Use `scipy.special.comb` instead.\n",
      "  return comb(n, 2, exact=1)\n",
      "/anaconda/lib/python3.6/site-packages/sklearn/metrics/cluster/supervised.py:32: DeprecationWarning: `comb` is deprecated!\n",
      "Importing `comb` from scipy.misc is deprecated in scipy 1.0.0. Use `scipy.special.comb` instead.\n",
      "  return comb(n, 2, exact=1)\n",
      "/anaconda/lib/python3.6/site-packages/sklearn/metrics/cluster/supervised.py:32: DeprecationWarning: `comb` is deprecated!\n",
      "Importing `comb` from scipy.misc is deprecated in scipy 1.0.0. Use `scipy.special.comb` instead.\n",
      "  return comb(n, 2, exact=1)\n",
      "/anaconda/lib/python3.6/site-packages/sklearn/metrics/cluster/supervised.py:32: DeprecationWarning: `comb` is deprecated!\n",
      "Importing `comb` from scipy.misc is deprecated in scipy 1.0.0. Use `scipy.special.comb` instead.\n",
      "  return comb(n, 2, exact=1)\n",
      "/anaconda/lib/python3.6/site-packages/sklearn/metrics/cluster/supervised.py:32: DeprecationWarning: `comb` is deprecated!\n",
      "Importing `comb` from scipy.misc is deprecated in scipy 1.0.0. Use `scipy.special.comb` instead.\n",
      "  return comb(n, 2, exact=1)\n",
      "/anaconda/lib/python3.6/site-packages/sklearn/metrics/cluster/supervised.py:32: DeprecationWarning: `comb` is deprecated!\n",
      "Importing `comb` from scipy.misc is deprecated in scipy 1.0.0. Use `scipy.special.comb` instead.\n",
      "  return comb(n, 2, exact=1)\n",
      "/anaconda/lib/python3.6/site-packages/sklearn/metrics/cluster/supervised.py:32: DeprecationWarning: `comb` is deprecated!\n",
      "Importing `comb` from scipy.misc is deprecated in scipy 1.0.0. Use `scipy.special.comb` instead.\n",
      "  return comb(n, 2, exact=1)\n",
      "/anaconda/lib/python3.6/site-packages/sklearn/metrics/cluster/supervised.py:32: DeprecationWarning: `comb` is deprecated!\n",
      "Importing `comb` from scipy.misc is deprecated in scipy 1.0.0. Use `scipy.special.comb` instead.\n",
      "  return comb(n, 2, exact=1)\n",
      "/anaconda/lib/python3.6/site-packages/sklearn/metrics/cluster/supervised.py:32: DeprecationWarning: `comb` is deprecated!\n",
      "Importing `comb` from scipy.misc is deprecated in scipy 1.0.0. Use `scipy.special.comb` instead.\n",
      "  return comb(n, 2, exact=1)\n",
      "/anaconda/lib/python3.6/site-packages/sklearn/metrics/cluster/supervised.py:32: DeprecationWarning: `comb` is deprecated!\n",
      "Importing `comb` from scipy.misc is deprecated in scipy 1.0.0. Use `scipy.special.comb` instead.\n",
      "  return comb(n, 2, exact=1)\n",
      "/anaconda/lib/python3.6/site-packages/sklearn/metrics/cluster/supervised.py:32: DeprecationWarning: `comb` is deprecated!\n",
      "Importing `comb` from scipy.misc is deprecated in scipy 1.0.0. Use `scipy.special.comb` instead.\n",
      "  return comb(n, 2, exact=1)\n",
      "/anaconda/lib/python3.6/site-packages/sklearn/metrics/cluster/supervised.py:32: DeprecationWarning: `comb` is deprecated!\n",
      "Importing `comb` from scipy.misc is deprecated in scipy 1.0.0. Use `scipy.special.comb` instead.\n",
      "  return comb(n, 2, exact=1)\n",
      "/anaconda/lib/python3.6/site-packages/sklearn/metrics/cluster/supervised.py:32: DeprecationWarning: `comb` is deprecated!\n",
      "Importing `comb` from scipy.misc is deprecated in scipy 1.0.0. Use `scipy.special.comb` instead.\n",
      "  return comb(n, 2, exact=1)\n",
      "/anaconda/lib/python3.6/site-packages/sklearn/metrics/cluster/supervised.py:32: DeprecationWarning: `comb` is deprecated!\n",
      "Importing `comb` from scipy.misc is deprecated in scipy 1.0.0. Use `scipy.special.comb` instead.\n",
      "  return comb(n, 2, exact=1)\n",
      "/anaconda/lib/python3.6/site-packages/sklearn/metrics/cluster/supervised.py:32: DeprecationWarning: `comb` is deprecated!\n",
      "Importing `comb` from scipy.misc is deprecated in scipy 1.0.0. Use `scipy.special.comb` instead.\n",
      "  return comb(n, 2, exact=1)\n",
      "/anaconda/lib/python3.6/site-packages/sklearn/metrics/cluster/supervised.py:32: DeprecationWarning: `comb` is deprecated!\n",
      "Importing `comb` from scipy.misc is deprecated in scipy 1.0.0. Use `scipy.special.comb` instead.\n",
      "  return comb(n, 2, exact=1)\n",
      "/anaconda/lib/python3.6/site-packages/sklearn/metrics/cluster/supervised.py:32: DeprecationWarning: `comb` is deprecated!\n",
      "Importing `comb` from scipy.misc is deprecated in scipy 1.0.0. Use `scipy.special.comb` instead.\n",
      "  return comb(n, 2, exact=1)\n",
      "/anaconda/lib/python3.6/site-packages/sklearn/metrics/cluster/supervised.py:32: DeprecationWarning: `comb` is deprecated!\n",
      "Importing `comb` from scipy.misc is deprecated in scipy 1.0.0. Use `scipy.special.comb` instead.\n",
      "  return comb(n, 2, exact=1)\n",
      "/anaconda/lib/python3.6/site-packages/sklearn/metrics/cluster/supervised.py:32: DeprecationWarning: `comb` is deprecated!\n",
      "Importing `comb` from scipy.misc is deprecated in scipy 1.0.0. Use `scipy.special.comb` instead.\n",
      "  return comb(n, 2, exact=1)\n",
      "/anaconda/lib/python3.6/site-packages/sklearn/metrics/cluster/supervised.py:32: DeprecationWarning: `comb` is deprecated!\n",
      "Importing `comb` from scipy.misc is deprecated in scipy 1.0.0. Use `scipy.special.comb` instead.\n",
      "  return comb(n, 2, exact=1)\n",
      "/anaconda/lib/python3.6/site-packages/sklearn/metrics/cluster/supervised.py:32: DeprecationWarning: `comb` is deprecated!\n",
      "Importing `comb` from scipy.misc is deprecated in scipy 1.0.0. Use `scipy.special.comb` instead.\n",
      "  return comb(n, 2, exact=1)\n",
      "/anaconda/lib/python3.6/site-packages/sklearn/metrics/cluster/supervised.py:32: DeprecationWarning: `comb` is deprecated!\n",
      "Importing `comb` from scipy.misc is deprecated in scipy 1.0.0. Use `scipy.special.comb` instead.\n",
      "  return comb(n, 2, exact=1)\n",
      "/anaconda/lib/python3.6/site-packages/sklearn/metrics/cluster/supervised.py:32: DeprecationWarning: `comb` is deprecated!\n",
      "Importing `comb` from scipy.misc is deprecated in scipy 1.0.0. Use `scipy.special.comb` instead.\n",
      "  return comb(n, 2, exact=1)\n",
      "/anaconda/lib/python3.6/site-packages/sklearn/metrics/cluster/supervised.py:32: DeprecationWarning: `comb` is deprecated!\n",
      "Importing `comb` from scipy.misc is deprecated in scipy 1.0.0. Use `scipy.special.comb` instead.\n",
      "  return comb(n, 2, exact=1)\n",
      "/anaconda/lib/python3.6/site-packages/sklearn/metrics/cluster/supervised.py:32: DeprecationWarning: `comb` is deprecated!\n",
      "Importing `comb` from scipy.misc is deprecated in scipy 1.0.0. Use `scipy.special.comb` instead.\n",
      "  return comb(n, 2, exact=1)\n",
      "/anaconda/lib/python3.6/site-packages/sklearn/metrics/cluster/supervised.py:32: DeprecationWarning: `comb` is deprecated!\n",
      "Importing `comb` from scipy.misc is deprecated in scipy 1.0.0. Use `scipy.special.comb` instead.\n",
      "  return comb(n, 2, exact=1)\n",
      "/anaconda/lib/python3.6/site-packages/sklearn/metrics/cluster/supervised.py:32: DeprecationWarning: `comb` is deprecated!\n",
      "Importing `comb` from scipy.misc is deprecated in scipy 1.0.0. Use `scipy.special.comb` instead.\n",
      "  return comb(n, 2, exact=1)\n",
      "/anaconda/lib/python3.6/site-packages/sklearn/metrics/cluster/supervised.py:32: DeprecationWarning: `comb` is deprecated!\n",
      "Importing `comb` from scipy.misc is deprecated in scipy 1.0.0. Use `scipy.special.comb` instead.\n",
      "  return comb(n, 2, exact=1)\n",
      "/anaconda/lib/python3.6/site-packages/sklearn/metrics/cluster/supervised.py:32: DeprecationWarning: `comb` is deprecated!\n",
      "Importing `comb` from scipy.misc is deprecated in scipy 1.0.0. Use `scipy.special.comb` instead.\n",
      "  return comb(n, 2, exact=1)\n",
      "/anaconda/lib/python3.6/site-packages/sklearn/metrics/cluster/supervised.py:32: DeprecationWarning: `comb` is deprecated!\n",
      "Importing `comb` from scipy.misc is deprecated in scipy 1.0.0. Use `scipy.special.comb` instead.\n",
      "  return comb(n, 2, exact=1)\n",
      "/anaconda/lib/python3.6/site-packages/sklearn/metrics/cluster/supervised.py:32: DeprecationWarning: `comb` is deprecated!\n",
      "Importing `comb` from scipy.misc is deprecated in scipy 1.0.0. Use `scipy.special.comb` instead.\n",
      "  return comb(n, 2, exact=1)\n",
      "/anaconda/lib/python3.6/site-packages/sklearn/metrics/cluster/supervised.py:32: DeprecationWarning: `comb` is deprecated!\n",
      "Importing `comb` from scipy.misc is deprecated in scipy 1.0.0. Use `scipy.special.comb` instead.\n",
      "  return comb(n, 2, exact=1)\n",
      "/anaconda/lib/python3.6/site-packages/sklearn/metrics/cluster/supervised.py:32: DeprecationWarning: `comb` is deprecated!\n",
      "Importing `comb` from scipy.misc is deprecated in scipy 1.0.0. Use `scipy.special.comb` instead.\n",
      "  return comb(n, 2, exact=1)\n",
      "/anaconda/lib/python3.6/site-packages/sklearn/metrics/cluster/supervised.py:32: DeprecationWarning: `comb` is deprecated!\n",
      "Importing `comb` from scipy.misc is deprecated in scipy 1.0.0. Use `scipy.special.comb` instead.\n",
      "  return comb(n, 2, exact=1)\n",
      "/anaconda/lib/python3.6/site-packages/sklearn/metrics/cluster/supervised.py:32: DeprecationWarning: `comb` is deprecated!\n",
      "Importing `comb` from scipy.misc is deprecated in scipy 1.0.0. Use `scipy.special.comb` instead.\n",
      "  return comb(n, 2, exact=1)\n",
      "/anaconda/lib/python3.6/site-packages/sklearn/metrics/cluster/supervised.py:32: DeprecationWarning: `comb` is deprecated!\n",
      "Importing `comb` from scipy.misc is deprecated in scipy 1.0.0. Use `scipy.special.comb` instead.\n",
      "  return comb(n, 2, exact=1)\n",
      "/anaconda/lib/python3.6/site-packages/sklearn/metrics/cluster/supervised.py:32: DeprecationWarning: `comb` is deprecated!\n",
      "Importing `comb` from scipy.misc is deprecated in scipy 1.0.0. Use `scipy.special.comb` instead.\n",
      "  return comb(n, 2, exact=1)\n",
      "/anaconda/lib/python3.6/site-packages/sklearn/metrics/cluster/supervised.py:32: DeprecationWarning: `comb` is deprecated!\n",
      "Importing `comb` from scipy.misc is deprecated in scipy 1.0.0. Use `scipy.special.comb` instead.\n",
      "  return comb(n, 2, exact=1)\n",
      "/anaconda/lib/python3.6/site-packages/sklearn/metrics/cluster/supervised.py:32: DeprecationWarning: `comb` is deprecated!\n",
      "Importing `comb` from scipy.misc is deprecated in scipy 1.0.0. Use `scipy.special.comb` instead.\n",
      "  return comb(n, 2, exact=1)\n",
      "/anaconda/lib/python3.6/site-packages/sklearn/metrics/cluster/supervised.py:32: DeprecationWarning: `comb` is deprecated!\n",
      "Importing `comb` from scipy.misc is deprecated in scipy 1.0.0. Use `scipy.special.comb` instead.\n",
      "  return comb(n, 2, exact=1)\n",
      "/anaconda/lib/python3.6/site-packages/sklearn/metrics/cluster/supervised.py:32: DeprecationWarning: `comb` is deprecated!\n",
      "Importing `comb` from scipy.misc is deprecated in scipy 1.0.0. Use `scipy.special.comb` instead.\n",
      "  return comb(n, 2, exact=1)\n",
      "/anaconda/lib/python3.6/site-packages/sklearn/metrics/cluster/supervised.py:32: DeprecationWarning: `comb` is deprecated!\n",
      "Importing `comb` from scipy.misc is deprecated in scipy 1.0.0. Use `scipy.special.comb` instead.\n",
      "  return comb(n, 2, exact=1)\n",
      "/anaconda/lib/python3.6/site-packages/sklearn/metrics/cluster/supervised.py:32: DeprecationWarning: `comb` is deprecated!\n",
      "Importing `comb` from scipy.misc is deprecated in scipy 1.0.0. Use `scipy.special.comb` instead.\n",
      "  return comb(n, 2, exact=1)\n",
      "/anaconda/lib/python3.6/site-packages/sklearn/metrics/cluster/supervised.py:32: DeprecationWarning: `comb` is deprecated!\n",
      "Importing `comb` from scipy.misc is deprecated in scipy 1.0.0. Use `scipy.special.comb` instead.\n",
      "  return comb(n, 2, exact=1)\n",
      "/anaconda/lib/python3.6/site-packages/sklearn/metrics/cluster/supervised.py:32: DeprecationWarning: `comb` is deprecated!\n",
      "Importing `comb` from scipy.misc is deprecated in scipy 1.0.0. Use `scipy.special.comb` instead.\n",
      "  return comb(n, 2, exact=1)\n",
      "/anaconda/lib/python3.6/site-packages/sklearn/metrics/cluster/supervised.py:32: DeprecationWarning: `comb` is deprecated!\n",
      "Importing `comb` from scipy.misc is deprecated in scipy 1.0.0. Use `scipy.special.comb` instead.\n",
      "  return comb(n, 2, exact=1)\n",
      "/anaconda/lib/python3.6/site-packages/sklearn/metrics/cluster/supervised.py:32: DeprecationWarning: `comb` is deprecated!\n",
      "Importing `comb` from scipy.misc is deprecated in scipy 1.0.0. Use `scipy.special.comb` instead.\n",
      "  return comb(n, 2, exact=1)\n",
      "/anaconda/lib/python3.6/site-packages/sklearn/metrics/cluster/supervised.py:32: DeprecationWarning: `comb` is deprecated!\n",
      "Importing `comb` from scipy.misc is deprecated in scipy 1.0.0. Use `scipy.special.comb` instead.\n",
      "  return comb(n, 2, exact=1)\n",
      "/anaconda/lib/python3.6/site-packages/sklearn/metrics/cluster/supervised.py:32: DeprecationWarning: `comb` is deprecated!\n",
      "Importing `comb` from scipy.misc is deprecated in scipy 1.0.0. Use `scipy.special.comb` instead.\n",
      "  return comb(n, 2, exact=1)\n",
      "/anaconda/lib/python3.6/site-packages/sklearn/metrics/cluster/supervised.py:32: DeprecationWarning: `comb` is deprecated!\n",
      "Importing `comb` from scipy.misc is deprecated in scipy 1.0.0. Use `scipy.special.comb` instead.\n",
      "  return comb(n, 2, exact=1)\n",
      "/anaconda/lib/python3.6/site-packages/sklearn/metrics/cluster/supervised.py:32: DeprecationWarning: `comb` is deprecated!\n",
      "Importing `comb` from scipy.misc is deprecated in scipy 1.0.0. Use `scipy.special.comb` instead.\n",
      "  return comb(n, 2, exact=1)\n",
      "/anaconda/lib/python3.6/site-packages/sklearn/metrics/cluster/supervised.py:32: DeprecationWarning: `comb` is deprecated!\n",
      "Importing `comb` from scipy.misc is deprecated in scipy 1.0.0. Use `scipy.special.comb` instead.\n",
      "  return comb(n, 2, exact=1)\n",
      "/anaconda/lib/python3.6/site-packages/sklearn/metrics/cluster/supervised.py:32: DeprecationWarning: `comb` is deprecated!\n",
      "Importing `comb` from scipy.misc is deprecated in scipy 1.0.0. Use `scipy.special.comb` instead.\n",
      "  return comb(n, 2, exact=1)\n",
      "/anaconda/lib/python3.6/site-packages/sklearn/metrics/cluster/supervised.py:32: DeprecationWarning: `comb` is deprecated!\n",
      "Importing `comb` from scipy.misc is deprecated in scipy 1.0.0. Use `scipy.special.comb` instead.\n",
      "  return comb(n, 2, exact=1)\n",
      "/anaconda/lib/python3.6/site-packages/sklearn/metrics/cluster/supervised.py:32: DeprecationWarning: `comb` is deprecated!\n",
      "Importing `comb` from scipy.misc is deprecated in scipy 1.0.0. Use `scipy.special.comb` instead.\n",
      "  return comb(n, 2, exact=1)\n",
      "/anaconda/lib/python3.6/site-packages/sklearn/metrics/cluster/supervised.py:32: DeprecationWarning: `comb` is deprecated!\n",
      "Importing `comb` from scipy.misc is deprecated in scipy 1.0.0. Use `scipy.special.comb` instead.\n",
      "  return comb(n, 2, exact=1)\n",
      "/anaconda/lib/python3.6/site-packages/sklearn/metrics/cluster/supervised.py:32: DeprecationWarning: `comb` is deprecated!\n",
      "Importing `comb` from scipy.misc is deprecated in scipy 1.0.0. Use `scipy.special.comb` instead.\n",
      "  return comb(n, 2, exact=1)\n",
      "/anaconda/lib/python3.6/site-packages/sklearn/metrics/cluster/supervised.py:32: DeprecationWarning: `comb` is deprecated!\n",
      "Importing `comb` from scipy.misc is deprecated in scipy 1.0.0. Use `scipy.special.comb` instead.\n",
      "  return comb(n, 2, exact=1)\n",
      "/anaconda/lib/python3.6/site-packages/sklearn/metrics/cluster/supervised.py:32: DeprecationWarning: `comb` is deprecated!\n",
      "Importing `comb` from scipy.misc is deprecated in scipy 1.0.0. Use `scipy.special.comb` instead.\n",
      "  return comb(n, 2, exact=1)\n",
      "/anaconda/lib/python3.6/site-packages/sklearn/metrics/cluster/supervised.py:32: DeprecationWarning: `comb` is deprecated!\n",
      "Importing `comb` from scipy.misc is deprecated in scipy 1.0.0. Use `scipy.special.comb` instead.\n",
      "  return comb(n, 2, exact=1)\n",
      "/anaconda/lib/python3.6/site-packages/sklearn/metrics/cluster/supervised.py:32: DeprecationWarning: `comb` is deprecated!\n",
      "Importing `comb` from scipy.misc is deprecated in scipy 1.0.0. Use `scipy.special.comb` instead.\n",
      "  return comb(n, 2, exact=1)\n",
      "/anaconda/lib/python3.6/site-packages/sklearn/metrics/cluster/supervised.py:32: DeprecationWarning: `comb` is deprecated!\n",
      "Importing `comb` from scipy.misc is deprecated in scipy 1.0.0. Use `scipy.special.comb` instead.\n",
      "  return comb(n, 2, exact=1)\n",
      "/anaconda/lib/python3.6/site-packages/sklearn/metrics/cluster/supervised.py:32: DeprecationWarning: `comb` is deprecated!\n",
      "Importing `comb` from scipy.misc is deprecated in scipy 1.0.0. Use `scipy.special.comb` instead.\n",
      "  return comb(n, 2, exact=1)\n",
      "/anaconda/lib/python3.6/site-packages/sklearn/metrics/cluster/supervised.py:32: DeprecationWarning: `comb` is deprecated!\n",
      "Importing `comb` from scipy.misc is deprecated in scipy 1.0.0. Use `scipy.special.comb` instead.\n",
      "  return comb(n, 2, exact=1)\n",
      "/anaconda/lib/python3.6/site-packages/sklearn/metrics/cluster/supervised.py:32: DeprecationWarning: `comb` is deprecated!\n",
      "Importing `comb` from scipy.misc is deprecated in scipy 1.0.0. Use `scipy.special.comb` instead.\n",
      "  return comb(n, 2, exact=1)\n",
      "/anaconda/lib/python3.6/site-packages/sklearn/metrics/cluster/supervised.py:32: DeprecationWarning: `comb` is deprecated!\n",
      "Importing `comb` from scipy.misc is deprecated in scipy 1.0.0. Use `scipy.special.comb` instead.\n",
      "  return comb(n, 2, exact=1)\n",
      "/anaconda/lib/python3.6/site-packages/sklearn/metrics/cluster/supervised.py:32: DeprecationWarning: `comb` is deprecated!\n",
      "Importing `comb` from scipy.misc is deprecated in scipy 1.0.0. Use `scipy.special.comb` instead.\n",
      "  return comb(n, 2, exact=1)\n",
      "/anaconda/lib/python3.6/site-packages/sklearn/metrics/cluster/supervised.py:32: DeprecationWarning: `comb` is deprecated!\n",
      "Importing `comb` from scipy.misc is deprecated in scipy 1.0.0. Use `scipy.special.comb` instead.\n",
      "  return comb(n, 2, exact=1)\n",
      "/anaconda/lib/python3.6/site-packages/sklearn/metrics/cluster/supervised.py:32: DeprecationWarning: `comb` is deprecated!\n",
      "Importing `comb` from scipy.misc is deprecated in scipy 1.0.0. Use `scipy.special.comb` instead.\n",
      "  return comb(n, 2, exact=1)\n",
      "/anaconda/lib/python3.6/site-packages/sklearn/metrics/cluster/supervised.py:32: DeprecationWarning: `comb` is deprecated!\n",
      "Importing `comb` from scipy.misc is deprecated in scipy 1.0.0. Use `scipy.special.comb` instead.\n",
      "  return comb(n, 2, exact=1)\n",
      "/anaconda/lib/python3.6/site-packages/sklearn/metrics/cluster/supervised.py:32: DeprecationWarning: `comb` is deprecated!\n",
      "Importing `comb` from scipy.misc is deprecated in scipy 1.0.0. Use `scipy.special.comb` instead.\n",
      "  return comb(n, 2, exact=1)\n",
      "/anaconda/lib/python3.6/site-packages/sklearn/metrics/cluster/supervised.py:32: DeprecationWarning: `comb` is deprecated!\n",
      "Importing `comb` from scipy.misc is deprecated in scipy 1.0.0. Use `scipy.special.comb` instead.\n",
      "  return comb(n, 2, exact=1)\n",
      "/anaconda/lib/python3.6/site-packages/sklearn/metrics/cluster/supervised.py:32: DeprecationWarning: `comb` is deprecated!\n",
      "Importing `comb` from scipy.misc is deprecated in scipy 1.0.0. Use `scipy.special.comb` instead.\n",
      "  return comb(n, 2, exact=1)\n",
      "/anaconda/lib/python3.6/site-packages/sklearn/metrics/cluster/supervised.py:32: DeprecationWarning: `comb` is deprecated!\n",
      "Importing `comb` from scipy.misc is deprecated in scipy 1.0.0. Use `scipy.special.comb` instead.\n",
      "  return comb(n, 2, exact=1)\n",
      "/anaconda/lib/python3.6/site-packages/sklearn/metrics/cluster/supervised.py:32: DeprecationWarning: `comb` is deprecated!\n",
      "Importing `comb` from scipy.misc is deprecated in scipy 1.0.0. Use `scipy.special.comb` instead.\n",
      "  return comb(n, 2, exact=1)\n",
      "/anaconda/lib/python3.6/site-packages/sklearn/metrics/cluster/supervised.py:32: DeprecationWarning: `comb` is deprecated!\n",
      "Importing `comb` from scipy.misc is deprecated in scipy 1.0.0. Use `scipy.special.comb` instead.\n",
      "  return comb(n, 2, exact=1)\n",
      "/anaconda/lib/python3.6/site-packages/sklearn/metrics/cluster/supervised.py:32: DeprecationWarning: `comb` is deprecated!\n",
      "Importing `comb` from scipy.misc is deprecated in scipy 1.0.0. Use `scipy.special.comb` instead.\n",
      "  return comb(n, 2, exact=1)\n",
      "/anaconda/lib/python3.6/site-packages/sklearn/metrics/cluster/supervised.py:32: DeprecationWarning: `comb` is deprecated!\n",
      "Importing `comb` from scipy.misc is deprecated in scipy 1.0.0. Use `scipy.special.comb` instead.\n",
      "  return comb(n, 2, exact=1)\n",
      "/anaconda/lib/python3.6/site-packages/sklearn/metrics/cluster/supervised.py:32: DeprecationWarning: `comb` is deprecated!\n",
      "Importing `comb` from scipy.misc is deprecated in scipy 1.0.0. Use `scipy.special.comb` instead.\n",
      "  return comb(n, 2, exact=1)\n",
      "/anaconda/lib/python3.6/site-packages/sklearn/metrics/cluster/supervised.py:32: DeprecationWarning: `comb` is deprecated!\n",
      "Importing `comb` from scipy.misc is deprecated in scipy 1.0.0. Use `scipy.special.comb` instead.\n",
      "  return comb(n, 2, exact=1)\n",
      "/anaconda/lib/python3.6/site-packages/sklearn/metrics/cluster/supervised.py:32: DeprecationWarning: `comb` is deprecated!\n",
      "Importing `comb` from scipy.misc is deprecated in scipy 1.0.0. Use `scipy.special.comb` instead.\n",
      "  return comb(n, 2, exact=1)\n",
      "/anaconda/lib/python3.6/site-packages/sklearn/metrics/cluster/supervised.py:32: DeprecationWarning: `comb` is deprecated!\n",
      "Importing `comb` from scipy.misc is deprecated in scipy 1.0.0. Use `scipy.special.comb` instead.\n",
      "  return comb(n, 2, exact=1)\n",
      "/anaconda/lib/python3.6/site-packages/sklearn/metrics/cluster/supervised.py:32: DeprecationWarning: `comb` is deprecated!\n",
      "Importing `comb` from scipy.misc is deprecated in scipy 1.0.0. Use `scipy.special.comb` instead.\n",
      "  return comb(n, 2, exact=1)\n",
      "/anaconda/lib/python3.6/site-packages/sklearn/metrics/cluster/supervised.py:32: DeprecationWarning: `comb` is deprecated!\n",
      "Importing `comb` from scipy.misc is deprecated in scipy 1.0.0. Use `scipy.special.comb` instead.\n",
      "  return comb(n, 2, exact=1)\n",
      "/anaconda/lib/python3.6/site-packages/sklearn/metrics/cluster/supervised.py:32: DeprecationWarning: `comb` is deprecated!\n",
      "Importing `comb` from scipy.misc is deprecated in scipy 1.0.0. Use `scipy.special.comb` instead.\n",
      "  return comb(n, 2, exact=1)\n",
      "/anaconda/lib/python3.6/site-packages/sklearn/metrics/cluster/supervised.py:32: DeprecationWarning: `comb` is deprecated!\n",
      "Importing `comb` from scipy.misc is deprecated in scipy 1.0.0. Use `scipy.special.comb` instead.\n",
      "  return comb(n, 2, exact=1)\n",
      "/anaconda/lib/python3.6/site-packages/sklearn/metrics/cluster/supervised.py:32: DeprecationWarning: `comb` is deprecated!\n",
      "Importing `comb` from scipy.misc is deprecated in scipy 1.0.0. Use `scipy.special.comb` instead.\n",
      "  return comb(n, 2, exact=1)\n",
      "/anaconda/lib/python3.6/site-packages/sklearn/metrics/cluster/supervised.py:32: DeprecationWarning: `comb` is deprecated!\n",
      "Importing `comb` from scipy.misc is deprecated in scipy 1.0.0. Use `scipy.special.comb` instead.\n",
      "  return comb(n, 2, exact=1)\n",
      "/anaconda/lib/python3.6/site-packages/sklearn/metrics/cluster/supervised.py:32: DeprecationWarning: `comb` is deprecated!\n",
      "Importing `comb` from scipy.misc is deprecated in scipy 1.0.0. Use `scipy.special.comb` instead.\n",
      "  return comb(n, 2, exact=1)\n",
      "/anaconda/lib/python3.6/site-packages/sklearn/metrics/cluster/supervised.py:32: DeprecationWarning: `comb` is deprecated!\n",
      "Importing `comb` from scipy.misc is deprecated in scipy 1.0.0. Use `scipy.special.comb` instead.\n",
      "  return comb(n, 2, exact=1)\n",
      "/anaconda/lib/python3.6/site-packages/sklearn/metrics/cluster/supervised.py:32: DeprecationWarning: `comb` is deprecated!\n",
      "Importing `comb` from scipy.misc is deprecated in scipy 1.0.0. Use `scipy.special.comb` instead.\n",
      "  return comb(n, 2, exact=1)\n",
      "/anaconda/lib/python3.6/site-packages/sklearn/metrics/cluster/supervised.py:32: DeprecationWarning: `comb` is deprecated!\n",
      "Importing `comb` from scipy.misc is deprecated in scipy 1.0.0. Use `scipy.special.comb` instead.\n",
      "  return comb(n, 2, exact=1)\n",
      "/anaconda/lib/python3.6/site-packages/sklearn/metrics/cluster/supervised.py:32: DeprecationWarning: `comb` is deprecated!\n",
      "Importing `comb` from scipy.misc is deprecated in scipy 1.0.0. Use `scipy.special.comb` instead.\n",
      "  return comb(n, 2, exact=1)\n",
      "/anaconda/lib/python3.6/site-packages/sklearn/metrics/cluster/supervised.py:213: DeprecationWarning: `comb` is deprecated!\n",
      "Importing `comb` from scipy.misc is deprecated in scipy 1.0.0. Use `scipy.special.comb` instead.\n",
      "  prod_comb = (sum_comb_c * sum_comb_k) / comb(n_samples, 2)\n"
     ]
    },
    {
     "name": "stdout",
     "output_type": "stream",
     "text": [
      "time: 0.3805050849914551\n",
      "path: /data/kasandra/results/clustering/1513977535/kmeans_tf.txt\n"
     ]
    },
    {
     "name": "stderr",
     "output_type": "stream",
     "text": [
      "/anaconda/lib/python3.6/site-packages/sklearn/metrics/cluster/supervised.py:32: DeprecationWarning: `comb` is deprecated!\n",
      "Importing `comb` from scipy.misc is deprecated in scipy 1.0.0. Use `scipy.special.comb` instead.\n",
      "  return comb(n, 2, exact=1)\n",
      "/anaconda/lib/python3.6/site-packages/sklearn/metrics/cluster/supervised.py:32: DeprecationWarning: `comb` is deprecated!\n",
      "Importing `comb` from scipy.misc is deprecated in scipy 1.0.0. Use `scipy.special.comb` instead.\n",
      "  return comb(n, 2, exact=1)\n",
      "/anaconda/lib/python3.6/site-packages/sklearn/metrics/cluster/supervised.py:32: DeprecationWarning: `comb` is deprecated!\n",
      "Importing `comb` from scipy.misc is deprecated in scipy 1.0.0. Use `scipy.special.comb` instead.\n",
      "  return comb(n, 2, exact=1)\n",
      "/anaconda/lib/python3.6/site-packages/sklearn/metrics/cluster/supervised.py:32: DeprecationWarning: `comb` is deprecated!\n",
      "Importing `comb` from scipy.misc is deprecated in scipy 1.0.0. Use `scipy.special.comb` instead.\n",
      "  return comb(n, 2, exact=1)\n",
      "/anaconda/lib/python3.6/site-packages/sklearn/metrics/cluster/supervised.py:32: DeprecationWarning: `comb` is deprecated!\n",
      "Importing `comb` from scipy.misc is deprecated in scipy 1.0.0. Use `scipy.special.comb` instead.\n",
      "  return comb(n, 2, exact=1)\n",
      "/anaconda/lib/python3.6/site-packages/sklearn/metrics/cluster/supervised.py:32: DeprecationWarning: `comb` is deprecated!\n",
      "Importing `comb` from scipy.misc is deprecated in scipy 1.0.0. Use `scipy.special.comb` instead.\n",
      "  return comb(n, 2, exact=1)\n",
      "/anaconda/lib/python3.6/site-packages/sklearn/metrics/cluster/supervised.py:32: DeprecationWarning: `comb` is deprecated!\n",
      "Importing `comb` from scipy.misc is deprecated in scipy 1.0.0. Use `scipy.special.comb` instead.\n",
      "  return comb(n, 2, exact=1)\n",
      "/anaconda/lib/python3.6/site-packages/sklearn/metrics/cluster/supervised.py:32: DeprecationWarning: `comb` is deprecated!\n",
      "Importing `comb` from scipy.misc is deprecated in scipy 1.0.0. Use `scipy.special.comb` instead.\n",
      "  return comb(n, 2, exact=1)\n",
      "/anaconda/lib/python3.6/site-packages/sklearn/metrics/cluster/supervised.py:32: DeprecationWarning: `comb` is deprecated!\n",
      "Importing `comb` from scipy.misc is deprecated in scipy 1.0.0. Use `scipy.special.comb` instead.\n",
      "  return comb(n, 2, exact=1)\n",
      "/anaconda/lib/python3.6/site-packages/sklearn/metrics/cluster/supervised.py:32: DeprecationWarning: `comb` is deprecated!\n",
      "Importing `comb` from scipy.misc is deprecated in scipy 1.0.0. Use `scipy.special.comb` instead.\n",
      "  return comb(n, 2, exact=1)\n",
      "/anaconda/lib/python3.6/site-packages/sklearn/metrics/cluster/supervised.py:32: DeprecationWarning: `comb` is deprecated!\n",
      "Importing `comb` from scipy.misc is deprecated in scipy 1.0.0. Use `scipy.special.comb` instead.\n",
      "  return comb(n, 2, exact=1)\n",
      "/anaconda/lib/python3.6/site-packages/sklearn/metrics/cluster/supervised.py:32: DeprecationWarning: `comb` is deprecated!\n",
      "Importing `comb` from scipy.misc is deprecated in scipy 1.0.0. Use `scipy.special.comb` instead.\n",
      "  return comb(n, 2, exact=1)\n",
      "/anaconda/lib/python3.6/site-packages/sklearn/metrics/cluster/supervised.py:32: DeprecationWarning: `comb` is deprecated!\n",
      "Importing `comb` from scipy.misc is deprecated in scipy 1.0.0. Use `scipy.special.comb` instead.\n",
      "  return comb(n, 2, exact=1)\n",
      "/anaconda/lib/python3.6/site-packages/sklearn/metrics/cluster/supervised.py:32: DeprecationWarning: `comb` is deprecated!\n",
      "Importing `comb` from scipy.misc is deprecated in scipy 1.0.0. Use `scipy.special.comb` instead.\n",
      "  return comb(n, 2, exact=1)\n",
      "/anaconda/lib/python3.6/site-packages/sklearn/metrics/cluster/supervised.py:32: DeprecationWarning: `comb` is deprecated!\n",
      "Importing `comb` from scipy.misc is deprecated in scipy 1.0.0. Use `scipy.special.comb` instead.\n",
      "  return comb(n, 2, exact=1)\n",
      "/anaconda/lib/python3.6/site-packages/sklearn/metrics/cluster/supervised.py:32: DeprecationWarning: `comb` is deprecated!\n",
      "Importing `comb` from scipy.misc is deprecated in scipy 1.0.0. Use `scipy.special.comb` instead.\n",
      "  return comb(n, 2, exact=1)\n",
      "/anaconda/lib/python3.6/site-packages/sklearn/metrics/cluster/supervised.py:32: DeprecationWarning: `comb` is deprecated!\n",
      "Importing `comb` from scipy.misc is deprecated in scipy 1.0.0. Use `scipy.special.comb` instead.\n",
      "  return comb(n, 2, exact=1)\n",
      "/anaconda/lib/python3.6/site-packages/sklearn/metrics/cluster/supervised.py:32: DeprecationWarning: `comb` is deprecated!\n",
      "Importing `comb` from scipy.misc is deprecated in scipy 1.0.0. Use `scipy.special.comb` instead.\n",
      "  return comb(n, 2, exact=1)\n",
      "/anaconda/lib/python3.6/site-packages/sklearn/metrics/cluster/supervised.py:32: DeprecationWarning: `comb` is deprecated!\n",
      "Importing `comb` from scipy.misc is deprecated in scipy 1.0.0. Use `scipy.special.comb` instead.\n",
      "  return comb(n, 2, exact=1)\n",
      "/anaconda/lib/python3.6/site-packages/sklearn/metrics/cluster/supervised.py:32: DeprecationWarning: `comb` is deprecated!\n",
      "Importing `comb` from scipy.misc is deprecated in scipy 1.0.0. Use `scipy.special.comb` instead.\n",
      "  return comb(n, 2, exact=1)\n",
      "/anaconda/lib/python3.6/site-packages/sklearn/metrics/cluster/supervised.py:32: DeprecationWarning: `comb` is deprecated!\n",
      "Importing `comb` from scipy.misc is deprecated in scipy 1.0.0. Use `scipy.special.comb` instead.\n",
      "  return comb(n, 2, exact=1)\n",
      "/anaconda/lib/python3.6/site-packages/sklearn/metrics/cluster/supervised.py:32: DeprecationWarning: `comb` is deprecated!\n",
      "Importing `comb` from scipy.misc is deprecated in scipy 1.0.0. Use `scipy.special.comb` instead.\n",
      "  return comb(n, 2, exact=1)\n",
      "/anaconda/lib/python3.6/site-packages/sklearn/metrics/cluster/supervised.py:32: DeprecationWarning: `comb` is deprecated!\n",
      "Importing `comb` from scipy.misc is deprecated in scipy 1.0.0. Use `scipy.special.comb` instead.\n",
      "  return comb(n, 2, exact=1)\n",
      "/anaconda/lib/python3.6/site-packages/sklearn/metrics/cluster/supervised.py:32: DeprecationWarning: `comb` is deprecated!\n",
      "Importing `comb` from scipy.misc is deprecated in scipy 1.0.0. Use `scipy.special.comb` instead.\n",
      "  return comb(n, 2, exact=1)\n",
      "/anaconda/lib/python3.6/site-packages/sklearn/metrics/cluster/supervised.py:32: DeprecationWarning: `comb` is deprecated!\n",
      "Importing `comb` from scipy.misc is deprecated in scipy 1.0.0. Use `scipy.special.comb` instead.\n",
      "  return comb(n, 2, exact=1)\n",
      "/anaconda/lib/python3.6/site-packages/sklearn/metrics/cluster/supervised.py:32: DeprecationWarning: `comb` is deprecated!\n",
      "Importing `comb` from scipy.misc is deprecated in scipy 1.0.0. Use `scipy.special.comb` instead.\n",
      "  return comb(n, 2, exact=1)\n",
      "/anaconda/lib/python3.6/site-packages/sklearn/metrics/cluster/supervised.py:32: DeprecationWarning: `comb` is deprecated!\n",
      "Importing `comb` from scipy.misc is deprecated in scipy 1.0.0. Use `scipy.special.comb` instead.\n",
      "  return comb(n, 2, exact=1)\n",
      "/anaconda/lib/python3.6/site-packages/sklearn/metrics/cluster/supervised.py:32: DeprecationWarning: `comb` is deprecated!\n",
      "Importing `comb` from scipy.misc is deprecated in scipy 1.0.0. Use `scipy.special.comb` instead.\n",
      "  return comb(n, 2, exact=1)\n",
      "/anaconda/lib/python3.6/site-packages/sklearn/metrics/cluster/supervised.py:32: DeprecationWarning: `comb` is deprecated!\n",
      "Importing `comb` from scipy.misc is deprecated in scipy 1.0.0. Use `scipy.special.comb` instead.\n",
      "  return comb(n, 2, exact=1)\n",
      "/anaconda/lib/python3.6/site-packages/sklearn/metrics/cluster/supervised.py:32: DeprecationWarning: `comb` is deprecated!\n",
      "Importing `comb` from scipy.misc is deprecated in scipy 1.0.0. Use `scipy.special.comb` instead.\n",
      "  return comb(n, 2, exact=1)\n",
      "/anaconda/lib/python3.6/site-packages/sklearn/metrics/cluster/supervised.py:32: DeprecationWarning: `comb` is deprecated!\n",
      "Importing `comb` from scipy.misc is deprecated in scipy 1.0.0. Use `scipy.special.comb` instead.\n",
      "  return comb(n, 2, exact=1)\n",
      "/anaconda/lib/python3.6/site-packages/sklearn/metrics/cluster/supervised.py:32: DeprecationWarning: `comb` is deprecated!\n",
      "Importing `comb` from scipy.misc is deprecated in scipy 1.0.0. Use `scipy.special.comb` instead.\n",
      "  return comb(n, 2, exact=1)\n",
      "/anaconda/lib/python3.6/site-packages/sklearn/metrics/cluster/supervised.py:32: DeprecationWarning: `comb` is deprecated!\n",
      "Importing `comb` from scipy.misc is deprecated in scipy 1.0.0. Use `scipy.special.comb` instead.\n",
      "  return comb(n, 2, exact=1)\n",
      "/anaconda/lib/python3.6/site-packages/sklearn/metrics/cluster/supervised.py:32: DeprecationWarning: `comb` is deprecated!\n",
      "Importing `comb` from scipy.misc is deprecated in scipy 1.0.0. Use `scipy.special.comb` instead.\n",
      "  return comb(n, 2, exact=1)\n",
      "/anaconda/lib/python3.6/site-packages/sklearn/metrics/cluster/supervised.py:32: DeprecationWarning: `comb` is deprecated!\n",
      "Importing `comb` from scipy.misc is deprecated in scipy 1.0.0. Use `scipy.special.comb` instead.\n",
      "  return comb(n, 2, exact=1)\n",
      "/anaconda/lib/python3.6/site-packages/sklearn/metrics/cluster/supervised.py:32: DeprecationWarning: `comb` is deprecated!\n",
      "Importing `comb` from scipy.misc is deprecated in scipy 1.0.0. Use `scipy.special.comb` instead.\n",
      "  return comb(n, 2, exact=1)\n",
      "/anaconda/lib/python3.6/site-packages/sklearn/metrics/cluster/supervised.py:32: DeprecationWarning: `comb` is deprecated!\n",
      "Importing `comb` from scipy.misc is deprecated in scipy 1.0.0. Use `scipy.special.comb` instead.\n",
      "  return comb(n, 2, exact=1)\n",
      "/anaconda/lib/python3.6/site-packages/sklearn/metrics/cluster/supervised.py:32: DeprecationWarning: `comb` is deprecated!\n",
      "Importing `comb` from scipy.misc is deprecated in scipy 1.0.0. Use `scipy.special.comb` instead.\n",
      "  return comb(n, 2, exact=1)\n",
      "/anaconda/lib/python3.6/site-packages/sklearn/metrics/cluster/supervised.py:32: DeprecationWarning: `comb` is deprecated!\n",
      "Importing `comb` from scipy.misc is deprecated in scipy 1.0.0. Use `scipy.special.comb` instead.\n",
      "  return comb(n, 2, exact=1)\n",
      "/anaconda/lib/python3.6/site-packages/sklearn/metrics/cluster/supervised.py:32: DeprecationWarning: `comb` is deprecated!\n",
      "Importing `comb` from scipy.misc is deprecated in scipy 1.0.0. Use `scipy.special.comb` instead.\n",
      "  return comb(n, 2, exact=1)\n",
      "/anaconda/lib/python3.6/site-packages/sklearn/metrics/cluster/supervised.py:32: DeprecationWarning: `comb` is deprecated!\n",
      "Importing `comb` from scipy.misc is deprecated in scipy 1.0.0. Use `scipy.special.comb` instead.\n",
      "  return comb(n, 2, exact=1)\n",
      "/anaconda/lib/python3.6/site-packages/sklearn/metrics/cluster/supervised.py:32: DeprecationWarning: `comb` is deprecated!\n",
      "Importing `comb` from scipy.misc is deprecated in scipy 1.0.0. Use `scipy.special.comb` instead.\n",
      "  return comb(n, 2, exact=1)\n",
      "/anaconda/lib/python3.6/site-packages/sklearn/metrics/cluster/supervised.py:32: DeprecationWarning: `comb` is deprecated!\n",
      "Importing `comb` from scipy.misc is deprecated in scipy 1.0.0. Use `scipy.special.comb` instead.\n",
      "  return comb(n, 2, exact=1)\n",
      "/anaconda/lib/python3.6/site-packages/sklearn/metrics/cluster/supervised.py:32: DeprecationWarning: `comb` is deprecated!\n",
      "Importing `comb` from scipy.misc is deprecated in scipy 1.0.0. Use `scipy.special.comb` instead.\n",
      "  return comb(n, 2, exact=1)\n",
      "/anaconda/lib/python3.6/site-packages/sklearn/metrics/cluster/supervised.py:32: DeprecationWarning: `comb` is deprecated!\n",
      "Importing `comb` from scipy.misc is deprecated in scipy 1.0.0. Use `scipy.special.comb` instead.\n",
      "  return comb(n, 2, exact=1)\n",
      "/anaconda/lib/python3.6/site-packages/sklearn/metrics/cluster/supervised.py:32: DeprecationWarning: `comb` is deprecated!\n",
      "Importing `comb` from scipy.misc is deprecated in scipy 1.0.0. Use `scipy.special.comb` instead.\n",
      "  return comb(n, 2, exact=1)\n",
      "/anaconda/lib/python3.6/site-packages/sklearn/metrics/cluster/supervised.py:32: DeprecationWarning: `comb` is deprecated!\n",
      "Importing `comb` from scipy.misc is deprecated in scipy 1.0.0. Use `scipy.special.comb` instead.\n",
      "  return comb(n, 2, exact=1)\n",
      "/anaconda/lib/python3.6/site-packages/sklearn/metrics/cluster/supervised.py:32: DeprecationWarning: `comb` is deprecated!\n",
      "Importing `comb` from scipy.misc is deprecated in scipy 1.0.0. Use `scipy.special.comb` instead.\n",
      "  return comb(n, 2, exact=1)\n",
      "/anaconda/lib/python3.6/site-packages/sklearn/metrics/cluster/supervised.py:32: DeprecationWarning: `comb` is deprecated!\n",
      "Importing `comb` from scipy.misc is deprecated in scipy 1.0.0. Use `scipy.special.comb` instead.\n",
      "  return comb(n, 2, exact=1)\n",
      "/anaconda/lib/python3.6/site-packages/sklearn/metrics/cluster/supervised.py:32: DeprecationWarning: `comb` is deprecated!\n",
      "Importing `comb` from scipy.misc is deprecated in scipy 1.0.0. Use `scipy.special.comb` instead.\n",
      "  return comb(n, 2, exact=1)\n",
      "/anaconda/lib/python3.6/site-packages/sklearn/metrics/cluster/supervised.py:32: DeprecationWarning: `comb` is deprecated!\n",
      "Importing `comb` from scipy.misc is deprecated in scipy 1.0.0. Use `scipy.special.comb` instead.\n",
      "  return comb(n, 2, exact=1)\n",
      "/anaconda/lib/python3.6/site-packages/sklearn/metrics/cluster/supervised.py:32: DeprecationWarning: `comb` is deprecated!\n",
      "Importing `comb` from scipy.misc is deprecated in scipy 1.0.0. Use `scipy.special.comb` instead.\n",
      "  return comb(n, 2, exact=1)\n",
      "/anaconda/lib/python3.6/site-packages/sklearn/metrics/cluster/supervised.py:32: DeprecationWarning: `comb` is deprecated!\n",
      "Importing `comb` from scipy.misc is deprecated in scipy 1.0.0. Use `scipy.special.comb` instead.\n",
      "  return comb(n, 2, exact=1)\n",
      "/anaconda/lib/python3.6/site-packages/sklearn/metrics/cluster/supervised.py:32: DeprecationWarning: `comb` is deprecated!\n",
      "Importing `comb` from scipy.misc is deprecated in scipy 1.0.0. Use `scipy.special.comb` instead.\n",
      "  return comb(n, 2, exact=1)\n",
      "/anaconda/lib/python3.6/site-packages/sklearn/metrics/cluster/supervised.py:32: DeprecationWarning: `comb` is deprecated!\n",
      "Importing `comb` from scipy.misc is deprecated in scipy 1.0.0. Use `scipy.special.comb` instead.\n",
      "  return comb(n, 2, exact=1)\n",
      "/anaconda/lib/python3.6/site-packages/sklearn/metrics/cluster/supervised.py:32: DeprecationWarning: `comb` is deprecated!\n",
      "Importing `comb` from scipy.misc is deprecated in scipy 1.0.0. Use `scipy.special.comb` instead.\n",
      "  return comb(n, 2, exact=1)\n",
      "/anaconda/lib/python3.6/site-packages/sklearn/metrics/cluster/supervised.py:32: DeprecationWarning: `comb` is deprecated!\n",
      "Importing `comb` from scipy.misc is deprecated in scipy 1.0.0. Use `scipy.special.comb` instead.\n",
      "  return comb(n, 2, exact=1)\n",
      "/anaconda/lib/python3.6/site-packages/sklearn/metrics/cluster/supervised.py:32: DeprecationWarning: `comb` is deprecated!\n",
      "Importing `comb` from scipy.misc is deprecated in scipy 1.0.0. Use `scipy.special.comb` instead.\n",
      "  return comb(n, 2, exact=1)\n",
      "/anaconda/lib/python3.6/site-packages/sklearn/metrics/cluster/supervised.py:32: DeprecationWarning: `comb` is deprecated!\n",
      "Importing `comb` from scipy.misc is deprecated in scipy 1.0.0. Use `scipy.special.comb` instead.\n",
      "  return comb(n, 2, exact=1)\n",
      "/anaconda/lib/python3.6/site-packages/sklearn/metrics/cluster/supervised.py:32: DeprecationWarning: `comb` is deprecated!\n",
      "Importing `comb` from scipy.misc is deprecated in scipy 1.0.0. Use `scipy.special.comb` instead.\n",
      "  return comb(n, 2, exact=1)\n",
      "/anaconda/lib/python3.6/site-packages/sklearn/metrics/cluster/supervised.py:32: DeprecationWarning: `comb` is deprecated!\n",
      "Importing `comb` from scipy.misc is deprecated in scipy 1.0.0. Use `scipy.special.comb` instead.\n",
      "  return comb(n, 2, exact=1)\n",
      "/anaconda/lib/python3.6/site-packages/sklearn/metrics/cluster/supervised.py:32: DeprecationWarning: `comb` is deprecated!\n",
      "Importing `comb` from scipy.misc is deprecated in scipy 1.0.0. Use `scipy.special.comb` instead.\n",
      "  return comb(n, 2, exact=1)\n",
      "/anaconda/lib/python3.6/site-packages/sklearn/metrics/cluster/supervised.py:32: DeprecationWarning: `comb` is deprecated!\n",
      "Importing `comb` from scipy.misc is deprecated in scipy 1.0.0. Use `scipy.special.comb` instead.\n",
      "  return comb(n, 2, exact=1)\n",
      "/anaconda/lib/python3.6/site-packages/sklearn/metrics/cluster/supervised.py:32: DeprecationWarning: `comb` is deprecated!\n",
      "Importing `comb` from scipy.misc is deprecated in scipy 1.0.0. Use `scipy.special.comb` instead.\n",
      "  return comb(n, 2, exact=1)\n",
      "/anaconda/lib/python3.6/site-packages/sklearn/metrics/cluster/supervised.py:32: DeprecationWarning: `comb` is deprecated!\n",
      "Importing `comb` from scipy.misc is deprecated in scipy 1.0.0. Use `scipy.special.comb` instead.\n",
      "  return comb(n, 2, exact=1)\n",
      "/anaconda/lib/python3.6/site-packages/sklearn/metrics/cluster/supervised.py:32: DeprecationWarning: `comb` is deprecated!\n",
      "Importing `comb` from scipy.misc is deprecated in scipy 1.0.0. Use `scipy.special.comb` instead.\n",
      "  return comb(n, 2, exact=1)\n",
      "/anaconda/lib/python3.6/site-packages/sklearn/metrics/cluster/supervised.py:32: DeprecationWarning: `comb` is deprecated!\n",
      "Importing `comb` from scipy.misc is deprecated in scipy 1.0.0. Use `scipy.special.comb` instead.\n",
      "  return comb(n, 2, exact=1)\n",
      "/anaconda/lib/python3.6/site-packages/sklearn/metrics/cluster/supervised.py:32: DeprecationWarning: `comb` is deprecated!\n",
      "Importing `comb` from scipy.misc is deprecated in scipy 1.0.0. Use `scipy.special.comb` instead.\n",
      "  return comb(n, 2, exact=1)\n",
      "/anaconda/lib/python3.6/site-packages/sklearn/metrics/cluster/supervised.py:32: DeprecationWarning: `comb` is deprecated!\n",
      "Importing `comb` from scipy.misc is deprecated in scipy 1.0.0. Use `scipy.special.comb` instead.\n",
      "  return comb(n, 2, exact=1)\n",
      "/anaconda/lib/python3.6/site-packages/sklearn/metrics/cluster/supervised.py:32: DeprecationWarning: `comb` is deprecated!\n",
      "Importing `comb` from scipy.misc is deprecated in scipy 1.0.0. Use `scipy.special.comb` instead.\n",
      "  return comb(n, 2, exact=1)\n",
      "/anaconda/lib/python3.6/site-packages/sklearn/metrics/cluster/supervised.py:32: DeprecationWarning: `comb` is deprecated!\n",
      "Importing `comb` from scipy.misc is deprecated in scipy 1.0.0. Use `scipy.special.comb` instead.\n",
      "  return comb(n, 2, exact=1)\n",
      "/anaconda/lib/python3.6/site-packages/sklearn/metrics/cluster/supervised.py:32: DeprecationWarning: `comb` is deprecated!\n",
      "Importing `comb` from scipy.misc is deprecated in scipy 1.0.0. Use `scipy.special.comb` instead.\n",
      "  return comb(n, 2, exact=1)\n",
      "/anaconda/lib/python3.6/site-packages/sklearn/metrics/cluster/supervised.py:32: DeprecationWarning: `comb` is deprecated!\n",
      "Importing `comb` from scipy.misc is deprecated in scipy 1.0.0. Use `scipy.special.comb` instead.\n",
      "  return comb(n, 2, exact=1)\n",
      "/anaconda/lib/python3.6/site-packages/sklearn/metrics/cluster/supervised.py:32: DeprecationWarning: `comb` is deprecated!\n",
      "Importing `comb` from scipy.misc is deprecated in scipy 1.0.0. Use `scipy.special.comb` instead.\n",
      "  return comb(n, 2, exact=1)\n",
      "/anaconda/lib/python3.6/site-packages/sklearn/metrics/cluster/supervised.py:32: DeprecationWarning: `comb` is deprecated!\n",
      "Importing `comb` from scipy.misc is deprecated in scipy 1.0.0. Use `scipy.special.comb` instead.\n",
      "  return comb(n, 2, exact=1)\n",
      "/anaconda/lib/python3.6/site-packages/sklearn/metrics/cluster/supervised.py:32: DeprecationWarning: `comb` is deprecated!\n",
      "Importing `comb` from scipy.misc is deprecated in scipy 1.0.0. Use `scipy.special.comb` instead.\n",
      "  return comb(n, 2, exact=1)\n",
      "/anaconda/lib/python3.6/site-packages/sklearn/metrics/cluster/supervised.py:32: DeprecationWarning: `comb` is deprecated!\n",
      "Importing `comb` from scipy.misc is deprecated in scipy 1.0.0. Use `scipy.special.comb` instead.\n",
      "  return comb(n, 2, exact=1)\n",
      "/anaconda/lib/python3.6/site-packages/sklearn/metrics/cluster/supervised.py:32: DeprecationWarning: `comb` is deprecated!\n",
      "Importing `comb` from scipy.misc is deprecated in scipy 1.0.0. Use `scipy.special.comb` instead.\n",
      "  return comb(n, 2, exact=1)\n",
      "/anaconda/lib/python3.6/site-packages/sklearn/metrics/cluster/supervised.py:32: DeprecationWarning: `comb` is deprecated!\n",
      "Importing `comb` from scipy.misc is deprecated in scipy 1.0.0. Use `scipy.special.comb` instead.\n",
      "  return comb(n, 2, exact=1)\n",
      "/anaconda/lib/python3.6/site-packages/sklearn/metrics/cluster/supervised.py:32: DeprecationWarning: `comb` is deprecated!\n",
      "Importing `comb` from scipy.misc is deprecated in scipy 1.0.0. Use `scipy.special.comb` instead.\n",
      "  return comb(n, 2, exact=1)\n",
      "/anaconda/lib/python3.6/site-packages/sklearn/metrics/cluster/supervised.py:32: DeprecationWarning: `comb` is deprecated!\n",
      "Importing `comb` from scipy.misc is deprecated in scipy 1.0.0. Use `scipy.special.comb` instead.\n",
      "  return comb(n, 2, exact=1)\n",
      "/anaconda/lib/python3.6/site-packages/sklearn/metrics/cluster/supervised.py:32: DeprecationWarning: `comb` is deprecated!\n",
      "Importing `comb` from scipy.misc is deprecated in scipy 1.0.0. Use `scipy.special.comb` instead.\n",
      "  return comb(n, 2, exact=1)\n",
      "/anaconda/lib/python3.6/site-packages/sklearn/metrics/cluster/supervised.py:32: DeprecationWarning: `comb` is deprecated!\n",
      "Importing `comb` from scipy.misc is deprecated in scipy 1.0.0. Use `scipy.special.comb` instead.\n",
      "  return comb(n, 2, exact=1)\n",
      "/anaconda/lib/python3.6/site-packages/sklearn/metrics/cluster/supervised.py:32: DeprecationWarning: `comb` is deprecated!\n",
      "Importing `comb` from scipy.misc is deprecated in scipy 1.0.0. Use `scipy.special.comb` instead.\n",
      "  return comb(n, 2, exact=1)\n",
      "/anaconda/lib/python3.6/site-packages/sklearn/metrics/cluster/supervised.py:32: DeprecationWarning: `comb` is deprecated!\n",
      "Importing `comb` from scipy.misc is deprecated in scipy 1.0.0. Use `scipy.special.comb` instead.\n",
      "  return comb(n, 2, exact=1)\n",
      "/anaconda/lib/python3.6/site-packages/sklearn/metrics/cluster/supervised.py:32: DeprecationWarning: `comb` is deprecated!\n",
      "Importing `comb` from scipy.misc is deprecated in scipy 1.0.0. Use `scipy.special.comb` instead.\n",
      "  return comb(n, 2, exact=1)\n",
      "/anaconda/lib/python3.6/site-packages/sklearn/metrics/cluster/supervised.py:32: DeprecationWarning: `comb` is deprecated!\n",
      "Importing `comb` from scipy.misc is deprecated in scipy 1.0.0. Use `scipy.special.comb` instead.\n",
      "  return comb(n, 2, exact=1)\n",
      "/anaconda/lib/python3.6/site-packages/sklearn/metrics/cluster/supervised.py:32: DeprecationWarning: `comb` is deprecated!\n",
      "Importing `comb` from scipy.misc is deprecated in scipy 1.0.0. Use `scipy.special.comb` instead.\n",
      "  return comb(n, 2, exact=1)\n",
      "/anaconda/lib/python3.6/site-packages/sklearn/metrics/cluster/supervised.py:32: DeprecationWarning: `comb` is deprecated!\n",
      "Importing `comb` from scipy.misc is deprecated in scipy 1.0.0. Use `scipy.special.comb` instead.\n",
      "  return comb(n, 2, exact=1)\n",
      "/anaconda/lib/python3.6/site-packages/sklearn/metrics/cluster/supervised.py:32: DeprecationWarning: `comb` is deprecated!\n",
      "Importing `comb` from scipy.misc is deprecated in scipy 1.0.0. Use `scipy.special.comb` instead.\n",
      "  return comb(n, 2, exact=1)\n",
      "/anaconda/lib/python3.6/site-packages/sklearn/metrics/cluster/supervised.py:32: DeprecationWarning: `comb` is deprecated!\n",
      "Importing `comb` from scipy.misc is deprecated in scipy 1.0.0. Use `scipy.special.comb` instead.\n",
      "  return comb(n, 2, exact=1)\n",
      "/anaconda/lib/python3.6/site-packages/sklearn/metrics/cluster/supervised.py:32: DeprecationWarning: `comb` is deprecated!\n",
      "Importing `comb` from scipy.misc is deprecated in scipy 1.0.0. Use `scipy.special.comb` instead.\n",
      "  return comb(n, 2, exact=1)\n",
      "/anaconda/lib/python3.6/site-packages/sklearn/metrics/cluster/supervised.py:32: DeprecationWarning: `comb` is deprecated!\n",
      "Importing `comb` from scipy.misc is deprecated in scipy 1.0.0. Use `scipy.special.comb` instead.\n",
      "  return comb(n, 2, exact=1)\n",
      "/anaconda/lib/python3.6/site-packages/sklearn/metrics/cluster/supervised.py:32: DeprecationWarning: `comb` is deprecated!\n",
      "Importing `comb` from scipy.misc is deprecated in scipy 1.0.0. Use `scipy.special.comb` instead.\n",
      "  return comb(n, 2, exact=1)\n",
      "/anaconda/lib/python3.6/site-packages/sklearn/metrics/cluster/supervised.py:32: DeprecationWarning: `comb` is deprecated!\n",
      "Importing `comb` from scipy.misc is deprecated in scipy 1.0.0. Use `scipy.special.comb` instead.\n",
      "  return comb(n, 2, exact=1)\n",
      "/anaconda/lib/python3.6/site-packages/sklearn/metrics/cluster/supervised.py:32: DeprecationWarning: `comb` is deprecated!\n",
      "Importing `comb` from scipy.misc is deprecated in scipy 1.0.0. Use `scipy.special.comb` instead.\n",
      "  return comb(n, 2, exact=1)\n",
      "/anaconda/lib/python3.6/site-packages/sklearn/metrics/cluster/supervised.py:32: DeprecationWarning: `comb` is deprecated!\n",
      "Importing `comb` from scipy.misc is deprecated in scipy 1.0.0. Use `scipy.special.comb` instead.\n",
      "  return comb(n, 2, exact=1)\n",
      "/anaconda/lib/python3.6/site-packages/sklearn/metrics/cluster/supervised.py:32: DeprecationWarning: `comb` is deprecated!\n",
      "Importing `comb` from scipy.misc is deprecated in scipy 1.0.0. Use `scipy.special.comb` instead.\n",
      "  return comb(n, 2, exact=1)\n",
      "/anaconda/lib/python3.6/site-packages/sklearn/metrics/cluster/supervised.py:32: DeprecationWarning: `comb` is deprecated!\n",
      "Importing `comb` from scipy.misc is deprecated in scipy 1.0.0. Use `scipy.special.comb` instead.\n",
      "  return comb(n, 2, exact=1)\n",
      "/anaconda/lib/python3.6/site-packages/sklearn/metrics/cluster/supervised.py:32: DeprecationWarning: `comb` is deprecated!\n",
      "Importing `comb` from scipy.misc is deprecated in scipy 1.0.0. Use `scipy.special.comb` instead.\n",
      "  return comb(n, 2, exact=1)\n",
      "/anaconda/lib/python3.6/site-packages/sklearn/metrics/cluster/supervised.py:32: DeprecationWarning: `comb` is deprecated!\n",
      "Importing `comb` from scipy.misc is deprecated in scipy 1.0.0. Use `scipy.special.comb` instead.\n",
      "  return comb(n, 2, exact=1)\n",
      "/anaconda/lib/python3.6/site-packages/sklearn/metrics/cluster/supervised.py:32: DeprecationWarning: `comb` is deprecated!\n",
      "Importing `comb` from scipy.misc is deprecated in scipy 1.0.0. Use `scipy.special.comb` instead.\n",
      "  return comb(n, 2, exact=1)\n",
      "/anaconda/lib/python3.6/site-packages/sklearn/metrics/cluster/supervised.py:32: DeprecationWarning: `comb` is deprecated!\n",
      "Importing `comb` from scipy.misc is deprecated in scipy 1.0.0. Use `scipy.special.comb` instead.\n",
      "  return comb(n, 2, exact=1)\n",
      "/anaconda/lib/python3.6/site-packages/sklearn/metrics/cluster/supervised.py:32: DeprecationWarning: `comb` is deprecated!\n",
      "Importing `comb` from scipy.misc is deprecated in scipy 1.0.0. Use `scipy.special.comb` instead.\n",
      "  return comb(n, 2, exact=1)\n",
      "/anaconda/lib/python3.6/site-packages/sklearn/metrics/cluster/supervised.py:32: DeprecationWarning: `comb` is deprecated!\n",
      "Importing `comb` from scipy.misc is deprecated in scipy 1.0.0. Use `scipy.special.comb` instead.\n",
      "  return comb(n, 2, exact=1)\n",
      "/anaconda/lib/python3.6/site-packages/sklearn/metrics/cluster/supervised.py:32: DeprecationWarning: `comb` is deprecated!\n",
      "Importing `comb` from scipy.misc is deprecated in scipy 1.0.0. Use `scipy.special.comb` instead.\n",
      "  return comb(n, 2, exact=1)\n",
      "/anaconda/lib/python3.6/site-packages/sklearn/metrics/cluster/supervised.py:213: DeprecationWarning: `comb` is deprecated!\n",
      "Importing `comb` from scipy.misc is deprecated in scipy 1.0.0. Use `scipy.special.comb` instead.\n",
      "  prod_comb = (sum_comb_c * sum_comb_k) / comb(n_samples, 2)\n"
     ]
    }
   ],
   "source": [
    "for cl_name, cl_alg in clasterization.items():\n",
    "    for vec_name, vec_matrix in vectorization.items():\n",
    "        print(\"%s %s\" % (cl_name, vec_name))\n",
    "        try:\n",
    "            start_time = time.time()\n",
    "            result_matrix = cl_alg.fit(vec_matrix)\n",
    "            labels = result_matrix.labels_\n",
    "            print(\"time: %s\" % (time.time() - start_time))\n",
    "            file_name = \"/%s_%s.txt\" % (cl_name, vec_name)\n",
    "            print(\"path: %s\" %(path + file_name))\n",
    "            \n",
    "            with open(path + file_name, mode='w') as f:\n",
    "                f.write(\"%s %s\\n\" % (cl_name, vec_name))\n",
    "                score_file(vec_matrix, marked_labels, labels, f)\n",
    "                f.write(\"time: %s\\n\" % (time.time() - start_time))\n",
    "                print_clusters_file(news, labels, f)\n",
    "        except Exception as ex:\n",
    "            print(ex)"
   ]
  },
  {
   "cell_type": "markdown",
   "metadata": {},
   "source": [
    "## LDA"
   ]
  },
  {
   "cell_type": "code",
   "execution_count": 21,
   "metadata": {
    "collapsed": false
   },
   "outputs": [
    {
     "name": "stdout",
     "output_type": "stream",
     "text": [
      "Homogeneity: 0.170\n",
      "Completeness: 0.773\n",
      "V-measure: 0.279\n",
      "Adjusted Rand-Index: 0.054\n",
      "Silhouette Coefficient: 0.803\n",
      "Cluster count: 9\n",
      "lda lda: 12.823763608932495 second\n"
     ]
    }
   ],
   "source": [
    "start_time = time.time()\n",
    "lda_matrix = lda(news_content, n_clusters, max_iter)\n",
    "lda_labels = [x.argmax() for x in lda_matrix]\n",
    "score(lda_matrix, marked_labels, lda_labels)\n",
    "print(\"lda lda: %s second\" % (time.time() - start_time))"
   ]
  },
  {
   "cell_type": "markdown",
   "metadata": {},
   "source": [
    "## LSA"
   ]
  },
  {
   "cell_type": "code",
   "execution_count": 22,
   "metadata": {
    "collapsed": false
   },
   "outputs": [
    {
     "name": "stdout",
     "output_type": "stream",
     "text": [
      "Homogeneity: 0.688\n",
      "Completeness: 0.714\n",
      "V-measure: 0.701\n",
      "Adjusted Rand-Index: 0.225\n",
      "Silhouette Coefficient: 0.045\n",
      "Cluster count: 109\n",
      "lsa: 1.0879974365234375 second\n"
     ]
    }
   ],
   "source": [
    "start_time = time.time()\n",
    "lsa_matrix = lsa(tfidf_matrix, n_clusters, max_iter)\n",
    "lsa_labels = [x.argmax() for x in lsa_matrix]\n",
    "score(lsa_matrix, marked_labels, lsa_labels)\n",
    "print(\"lsa: %s second\" % (time.time() - start_time))"
   ]
  },
  {
   "cell_type": "code",
   "execution_count": null,
   "metadata": {
    "collapsed": true
   },
   "outputs": [],
   "source": []
  }
 ],
 "metadata": {
  "anaconda-cloud": {},
  "kernelspec": {
   "display_name": "Python 3",
   "language": "python",
   "name": "python3"
  },
  "language_info": {
   "codemirror_mode": {
    "name": "ipython",
    "version": 3
   },
   "file_extension": ".py",
   "mimetype": "text/x-python",
   "name": "python",
   "nbconvert_exporter": "python",
   "pygments_lexer": "ipython3",
   "version": "3.6.0"
  }
 },
 "nbformat": 4,
 "nbformat_minor": 2
}
