{
 "cells": [
  {
   "cell_type": "code",
   "execution_count": 1,
   "metadata": {
    "collapsed": true
   },
   "outputs": [],
   "source": [
    "import json\n",
    "import numpy as np\n",
    "from pymystem3 import Mystem\n",
    "import re\n",
    "from sklearn.feature_extraction.text import CountVectorizer\n",
    "\n",
    "class News:\n",
    "    def __init__(self, id, date, annotation, title, content, url):\n",
    "        self.id = id\n",
    "        self.date = date\n",
    "        self.annotation = annotation\n",
    "        self.title = title\n",
    "        self.content = content\n",
    "        self.url = url\n",
    "    \n",
    "    @classmethod\n",
    "    def from_json(cls, json_str):\n",
    "        json_dict = json.loads(json_str)\n",
    "        return cls(**json_dict)"
   ]
  },
  {
   "cell_type": "code",
   "execution_count": 19,
   "metadata": {
    "collapsed": false
   },
   "outputs": [
    {
     "name": "stdout",
     "output_type": "stream",
     "text": [
      "start: [1461763620, 1461764967, 1461766105, 1461767479, 1461770972]\n",
      "end: [1470567833, 1470568112, 1470569076, 1470569444, 1470569827]\n"
     ]
    }
   ],
   "source": [
    "news = []\n",
    "with open('/data/kasandra/news-4965.json', encoding=\"utf8\") as f:\n",
    "    for line in f:\n",
    "        news.append(News.from_json(line))\n",
    "        \n",
    "news_sorted_by_date = sorted(news, key=lambda w: w.date)\n",
    "\n",
    "start = list(map(lambda w: w.date, news_sorted_by_date[:5]))\n",
    "end = list(map(lambda w: w.date, news_sorted_by_date[-5:]))\n",
    "\n",
    "print(\"start: %s\" % start)\n",
    "print(\"end: %s\" % end)"
   ]
  },
  {
   "cell_type": "markdown",
   "metadata": {},
   "source": [
    "Начало:\n",
    "1461763620 - 15:20 27.04.2016\n",
    "\n",
    "Конец:\n",
    "1470569827 - 22:13 6.08.2016"
   ]
  }
 ],
 "metadata": {
  "kernelspec": {
   "display_name": "Python [Root]",
   "language": "python",
   "name": "Python [Root]"
  },
  "language_info": {
   "codemirror_mode": {
    "name": "ipython",
    "version": 3
   },
   "file_extension": ".py",
   "mimetype": "text/x-python",
   "name": "python",
   "nbconvert_exporter": "python",
   "pygments_lexer": "ipython3",
   "version": "3.5.2"
  }
 },
 "nbformat": 4,
 "nbformat_minor": 0
}
