{
 "cells": [
  {
   "cell_type": "markdown",
   "metadata": {},
   "source": [
    "# Вычисление среднего вектора набора данных\n",
    "\n",
    "Для представления текста в виде вектора используется бинарный вектор, для нормализации слов используется Yandex MyStem, "
   ]
  },
  {
   "cell_type": "markdown",
   "metadata": {},
   "source": [
    "# Модель новости"
   ]
  },
  {
   "cell_type": "code",
   "execution_count": 1,
   "metadata": {
    "collapsed": true
   },
   "outputs": [],
   "source": [
    "import json\n",
    "import numpy as np\n",
    "from pymystem3 import Mystem\n",
    "import re\n",
    "from sklearn.feature_extraction.text import CountVectorizer\n",
    "\n",
    "class News:\n",
    "    def __init__(self, id, date, annotation, title, content, url):\n",
    "        self.id = id\n",
    "        self.date = date\n",
    "        self.annotation = annotation\n",
    "        self.title = title\n",
    "        self.content = content\n",
    "        self.url = url\n",
    "    \n",
    "    @classmethod\n",
    "    def from_json(cls, json_str):\n",
    "        json_dict = json.loads(json_str)\n",
    "        return cls(**json_dict)"
   ]
  },
  {
   "cell_type": "markdown",
   "metadata": {},
   "source": [
    "# Загружаем новости"
   ]
  },
  {
   "cell_type": "code",
   "execution_count": 2,
   "metadata": {
    "collapsed": false
   },
   "outputs": [
    {
     "data": {
      "text/plain": [
       "['На Алтае заработала первая в РФ система контроля космического пространства',\n",
       " 'ЛНР: Действия украинских диверсантов — одна из версий покушения на Плотницкого',\n",
       " 'Bild не публикует результаты России в медальном зачёте Олимпиады',\n",
       " 'Глава ЛНР связал покушение на свою жизнь с украинскими спецслужбами',\n",
       " 'Мэра города в США арестовали за попытку расплатиться наркотиками за секс с мужчинами']"
      ]
     },
     "execution_count": 2,
     "metadata": {},
     "output_type": "execute_result"
    }
   ],
   "source": [
    "news = []\n",
    "with open('/data/kasandra/news-1000.json', encoding=\"utf8\") as f:\n",
    "    for line in f:\n",
    "        news.append(News.from_json(line))\n",
    "\n",
    "list(map(lambda w: w.title, news[:5]))"
   ]
  },
  {
   "cell_type": "markdown",
   "metadata": {},
   "source": [
    "# Загружаем стоп слова"
   ]
  },
  {
   "cell_type": "code",
   "execution_count": 4,
   "metadata": {
    "collapsed": false
   },
   "outputs": [],
   "source": [
    "stopwords = []\n",
    "\n",
    "with open('../res/stopwords.txt', mode=\"r\", encoding=\"utf8\") as file:\n",
    "    for line in file:\n",
    "        stopwords.append(line.replace('\\n', ''))"
   ]
  },
  {
   "cell_type": "markdown",
   "metadata": {},
   "source": [
    "# Подключаем Yandex MyStem для нормализации текста"
   ]
  },
  {
   "cell_type": "code",
   "execution_count": 5,
   "metadata": {
    "collapsed": false
   },
   "outputs": [],
   "source": [
    "mystem = Mystem(mystem_bin='/data/mystem/mystem',\n",
    "                entire_input=False)\n",
    "\n",
    "# Оставляем только русские слова\n",
    "r = re.compile('^[А-ЯЙа-яй]*$')\n",
    "\n",
    "def lemmatize(text):\n",
    "    return list(filter(r.match, mystem.lemmatize(text)))"
   ]
  },
  {
   "cell_type": "markdown",
   "metadata": {
    "collapsed": true
   },
   "source": [
    "## Преобразуем текст в вектор с помощью TfidfVectorizer"
   ]
  },
  {
   "cell_type": "code",
   "execution_count": 6,
   "metadata": {
    "collapsed": false
   },
   "outputs": [],
   "source": [
    "from sklearn.feature_extraction.text import TfidfVectorizer\n",
    "tfidf_vectorizer = TfidfVectorizer(use_idf=True,\n",
    "                                   tokenizer=lemmatize,\n",
    "                                   stop_words=stopwords,\n",
    "                                   ngram_range=(1,3))\n",
    "\n",
    "tfidf_matrix = tfidf_vectorizer.fit_transform(map(lambda n: n.content, news))\n",
    "idf = tfidf_vectorizer.idf_"
   ]
  },
  {
   "cell_type": "markdown",
   "metadata": {},
   "source": [
    "# Вычисление среднеарифметического вектора по всем данным\n",
    "\n",
    "[Centroid](https://en.wikipedia.org/wiki/Centroid#Of_a_finite_set_of_points)"
   ]
  },
  {
   "cell_type": "code",
   "execution_count": 7,
   "metadata": {
    "collapsed": false
   },
   "outputs": [],
   "source": [
    "def mean_vector(bin_matrix):\n",
    "    mean = bin_matrix[0].toarray()\n",
    "    for v in bin_matrix[1:]:\n",
    "        mean = mean + v.toarray()\n",
    "    return mean / bin_matrix.shape[0]"
   ]
  },
  {
   "cell_type": "code",
   "execution_count": 7,
   "metadata": {
    "collapsed": false
   },
   "outputs": [
    {
     "data": {
      "text/plain": [
       "[('авг', 0.29499999999999998),\n",
       " ('важный', 0.30299999999999999),\n",
       " ('время', 0.26100000000000001),\n",
       " ('год', 0.42299999999999999),\n",
       " ('заявлять', 0.29299999999999998),\n",
       " ('кнопка', 0.28399999999999997),\n",
       " ('курс', 0.28699999999999998),\n",
       " ('любой', 0.33200000000000002),\n",
       " ('москва', 0.34300000000000003),\n",
       " ('мочь', 0.28899999999999998),\n",
       " ('нажимать', 0.28199999999999997),\n",
       " ('новость', 0.78300000000000003),\n",
       " ('отмечать', 0.22500000000000001),\n",
       " ('подписываться', 0.28100000000000003),\n",
       " ('проходить', 0.38100000000000001),\n",
       " ('ранее', 0.25600000000000001),\n",
       " ('российский', 0.30499999999999999),\n",
       " ('россия', 0.39700000000000002),\n",
       " ('самый', 0.39700000000000002),\n",
       " ('слово', 0.29799999999999999),\n",
       " ('сообщать', 0.39500000000000002),\n",
       " ('ссылка', 0.33800000000000002),\n",
       " ('становиться', 0.252),\n",
       " ('страна', 0.23200000000000001),\n",
       " ('устройство', 0.29299999999999998),\n",
       " ('человек', 0.30199999999999999)]"
      ]
     },
     "execution_count": 7,
     "metadata": {},
     "output_type": "execute_result"
    }
   ],
   "source": [
    "mean = mean_vector(tfidf_matrix)\n",
    "names = vectorizer.get_feature_names()\n",
    "wd = zip(names, mean[0])\n",
    "\n",
    "list(filter(lambda x: x[1] > 0.2, wd))"
   ]
  },
  {
   "cell_type": "markdown",
   "metadata": {
    "collapsed": true
   },
   "source": [
    "## Группировка новостей по дням"
   ]
  },
  {
   "cell_type": "code",
   "execution_count": null,
   "metadata": {
    "collapsed": true
   },
   "outputs": [],
   "source": []
  },
  {
   "cell_type": "markdown",
   "metadata": {},
   "source": [
    "## Вычисление вектора для каждого дня"
   ]
  },
  {
   "cell_type": "code",
   "execution_count": 9,
   "metadata": {
    "collapsed": false
   },
   "outputs": [],
   "source": []
  },
  {
   "cell_type": "markdown",
   "metadata": {},
   "source": [
    "## Вычисляем средние вектора для каждого дня"
   ]
  },
  {
   "cell_type": "code",
   "execution_count": null,
   "metadata": {
    "collapsed": true
   },
   "outputs": [],
   "source": []
  },
  {
   "cell_type": "markdown",
   "metadata": {},
   "source": [
    "# Вычисление отклонения для каждого дня"
   ]
  },
  {
   "cell_type": "code",
   "execution_count": null,
   "metadata": {
    "collapsed": true
   },
   "outputs": [],
   "source": []
  },
  {
   "cell_type": "markdown",
   "metadata": {},
   "source": [
    "# Построение графика"
   ]
  },
  {
   "cell_type": "code",
   "execution_count": null,
   "metadata": {
    "collapsed": true
   },
   "outputs": [],
   "source": []
  }
 ],
 "metadata": {
  "anaconda-cloud": {},
  "kernelspec": {
   "display_name": "Python 3",
   "language": "python",
   "name": "python3"
  },
  "language_info": {
   "codemirror_mode": {
    "name": "ipython",
    "version": 3
   },
   "file_extension": ".py",
   "mimetype": "text/x-python",
   "name": "python",
   "nbconvert_exporter": "python",
   "pygments_lexer": "ipython3",
   "version": "3.6.0"
  }
 },
 "nbformat": 4,
 "nbformat_minor": 0
}
