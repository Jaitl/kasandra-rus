{
 "cells": [
  {
   "cell_type": "code",
   "execution_count": 24,
   "metadata": {
    "collapsed": true
   },
   "outputs": [],
   "source": [
    "text = \"компания продолжит исследование этой сферы\""
   ]
  },
  {
   "cell_type": "code",
   "execution_count": 25,
   "metadata": {
    "collapsed": true
   },
   "outputs": [],
   "source": [
    "tokens = text.split(\" \")"
   ]
  },
  {
   "cell_type": "code",
   "execution_count": 26,
   "metadata": {
    "collapsed": true
   },
   "outputs": [],
   "source": [
    "n_gram_count = 2"
   ]
  },
  {
   "cell_type": "code",
   "execution_count": 27,
   "metadata": {},
   "outputs": [
    {
     "data": {
      "text/plain": [
       "['компания продолжит',\n",
       " 'продолжит исследование',\n",
       " 'исследование этой',\n",
       " 'этой сферы']"
      ]
     },
     "execution_count": 27,
     "metadata": {},
     "output_type": "execute_result"
    }
   ],
   "source": [
    "count_tokens = len(tokens)\n",
    "ngramm_list = []\n",
    "i = 0\n",
    "while i < count_tokens:\n",
    "    n_arr = []\n",
    "    \n",
    "    if i + n_gram_count <= count_tokens:\n",
    "        k = 0\n",
    "        while k < n_gram_count:\n",
    "            n_arr.append(tokens[i+k])\n",
    "            k = k + 1\n",
    "    else:\n",
    "        break;\n",
    "    i = i + 1\n",
    "            \n",
    "    ngramm_list.append(\" \".join(n_arr))   \n",
    "ngramm_list"
   ]
  },
  {
   "cell_type": "code",
   "execution_count": null,
   "metadata": {
    "collapsed": true
   },
   "outputs": [],
   "source": []
  }
 ],
 "metadata": {
  "anaconda-cloud": {},
  "kernelspec": {
   "display_name": "Python [conda root]",
   "language": "python",
   "name": "conda-root-py"
  },
  "language_info": {
   "codemirror_mode": {
    "name": "ipython",
    "version": 3
   },
   "file_extension": ".py",
   "mimetype": "text/x-python",
   "name": "python",
   "nbconvert_exporter": "python",
   "pygments_lexer": "ipython3",
   "version": "3.5.2"
  }
 },
 "nbformat": 4,
 "nbformat_minor": 2
}
