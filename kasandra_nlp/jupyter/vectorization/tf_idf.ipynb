{
 "cells": [
  {
   "cell_type": "markdown",
   "metadata": {},
   "source": [
    "# TF-IDF TEST"
   ]
  },
  {
   "cell_type": "code",
   "execution_count": 13,
   "metadata": {
    "collapsed": true
   },
   "outputs": [],
   "source": [
    "import json\n",
    "import numpy as np\n",
    "from collections import Counter\n",
    "from sklearn.feature_extraction.text import TfidfVectorizer\n"
   ]
  },
  {
   "cell_type": "code",
   "execution_count": 14,
   "metadata": {
    "collapsed": true
   },
   "outputs": [],
   "source": [
    "class News:\n",
    "    def __init__(self, id, date, title, content, url, siteType):\n",
    "        self.id = id\n",
    "        self.date = date\n",
    "        self.title = title\n",
    "        self.content = content\n",
    "        self.url = url\n",
    "        self.siteType = siteType\n",
    "    \n",
    "    @classmethod\n",
    "    def from_json(cls, json_str):\n",
    "        json_dict = json.loads(json_str)\n",
    "        return cls(**json_dict)"
   ]
  },
  {
   "cell_type": "code",
   "execution_count": 15,
   "metadata": {
    "collapsed": true
   },
   "outputs": [],
   "source": [
    "news = []\n",
    "with open('/data/kasandra/year/all.normalized.json', encoding=\"utf8\") as f:\n",
    "    for line in f:\n",
    "        news.append(News.from_json(line))"
   ]
  },
  {
   "cell_type": "code",
   "execution_count": 16,
   "metadata": {
    "collapsed": false
   },
   "outputs": [
    {
     "name": "stdout",
     "output_type": "stream",
     "text": [
      "total words: 47479434\n"
     ]
    }
   ],
   "source": [
    "words = []\n",
    "\n",
    "sub_news = news\n",
    "\n",
    "for n in sub_news:\n",
    "    words.extend(n.content.split())\n",
    "counts = Counter(words)\n",
    "one_time = [k for k, v in dict(counts).items() if v == 1]\n",
    "print(\"total words: %s\" % (len(words) - len(one_time)))\n",
    "\n",
    "news_content = [x.content for x in sub_news]"
   ]
  },
  {
   "cell_type": "code",
   "execution_count": 17,
   "metadata": {
    "collapsed": true
   },
   "outputs": [],
   "source": [
    "def print_scores(vectorizer):\n",
    "    tfidf_matrix = vectorizer.fit_transform(news_content)\n",
    "    print(\"Количество слов после векторизации: %s\" % len(tfidf_vectorizer.vocabulary_))\n",
    "\n",
    "    print(\"Максимальное значение вектота: %s\" % tfidf_matrix.max())\n",
    "    print(\"Минимальное значение вектора: %s\" % tfidf_matrix.min())\n",
    "\n",
    "    lengths = [np.linalg.norm(t.toarray()) for t in tfidf_matrix]\n",
    "\n",
    "    print(\"Максимальная длинна вектора: %s\" % max(lengths))\n",
    "    print(\"Минимальная длинна вектора: %s\" % min(lengths))\n",
    "    print(\"Средняя длинна вектора: %s\" % np.mean(lengths))"
   ]
  },
  {
   "cell_type": "markdown",
   "metadata": {},
   "source": [
    "## Без нормализации"
   ]
  },
  {
   "cell_type": "code",
   "execution_count": 18,
   "metadata": {
    "collapsed": false
   },
   "outputs": [
    {
     "name": "stdout",
     "output_type": "stream",
     "text": [
      "Количество слов после векторизации: 282835\n",
      "Максимальное значение вектота: 2282.32747898\n",
      "Минимальное значение вектора: 0.0\n",
      "Максимальная длинна вектора: 4960.29299023\n",
      "Минимальная длинна вектора: 3.27803954116\n",
      "Средняя длинна вектора: 99.0915486984\n"
     ]
    }
   ],
   "source": [
    "tfidf_vectorizer = TfidfVectorizer(norm=None, use_idf=True, tokenizer=lambda text: text.split(\" \"))\n",
    "print_scores(tfidf_vectorizer)"
   ]
  },
  {
   "cell_type": "markdown",
   "metadata": {},
   "source": [
    "## L2 Нормализация\n",
    "\n",
    "https://en.wikipedia.org/wiki/Norm_(mathematics)#Euclidean_norm\n",
    "\n",
    "http://www.chioka.in/differences-between-the-l1-norm-and-the-l2-norm-least-absolute-deviations-and-least-squares/"
   ]
  },
  {
   "cell_type": "code",
   "execution_count": 19,
   "metadata": {
    "collapsed": false
   },
   "outputs": [
    {
     "name": "stdout",
     "output_type": "stream",
     "text": [
      "Количество слов после векторизации: 282835\n",
      "Максимальное значение вектота: 1.0\n",
      "Минимальное значение вектора: 0.0\n",
      "Максимальная длинна вектора: 1.0\n",
      "Минимальная длинна вектора: 1.0\n",
      "Средняя длинна вектора: 1.0\n"
     ]
    }
   ],
   "source": [
    "tfidf_vectorizer = TfidfVectorizer(norm='l2', use_idf=True, tokenizer=lambda text: text.split(\" \"))\n",
    "print_scores(tfidf_vectorizer)"
   ]
  },
  {
   "cell_type": "code",
   "execution_count": null,
   "metadata": {
    "collapsed": true
   },
   "outputs": [],
   "source": []
  }
 ],
 "metadata": {
  "kernelspec": {
   "display_name": "Python 3",
   "language": "python",
   "name": "python3"
  },
  "language_info": {
   "codemirror_mode": {
    "name": "ipython",
    "version": 3
   },
   "file_extension": ".py",
   "mimetype": "text/x-python",
   "name": "python",
   "nbconvert_exporter": "python",
   "pygments_lexer": "ipython3",
   "version": "3.6.0"
  }
 },
 "nbformat": 4,
 "nbformat_minor": 2
}
