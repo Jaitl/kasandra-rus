{
 "cells": [
  {
   "cell_type": "markdown",
   "metadata": {},
   "source": [
    "# LDA"
   ]
  },
  {
   "cell_type": "code",
   "execution_count": 13,
   "metadata": {
    "collapsed": true
   },
   "outputs": [],
   "source": [
    "import json\n",
    "import numpy as np\n",
    "from collections import Counter\n",
    "\n",
    "from sklearn.feature_extraction.text import TfidfVectorizer, CountVectorizer\n",
    "from sklearn.decomposition import LatentDirichletAllocation\n",
    "from sklearn.preprocessing import Normalizer"
   ]
  },
  {
   "cell_type": "code",
   "execution_count": 2,
   "metadata": {
    "collapsed": true
   },
   "outputs": [],
   "source": [
    "class News:\n",
    "    def __init__(self, id, date, title, content, url, siteType):\n",
    "        self.id = id\n",
    "        self.date = date\n",
    "        self.title = title\n",
    "        self.content = content\n",
    "        self.url = url\n",
    "        self.siteType = siteType\n",
    "    \n",
    "    @classmethod\n",
    "    def from_json(cls, json_str):\n",
    "        json_dict = json.loads(json_str)\n",
    "        return cls(**json_dict)"
   ]
  },
  {
   "cell_type": "code",
   "execution_count": 3,
   "metadata": {
    "collapsed": false
   },
   "outputs": [],
   "source": [
    "news = []\n",
    "with open('/data/kasandra/year/10k.test.normalized.json', encoding=\"utf8\") as f:\n",
    "    for line in f:\n",
    "        news.append(News.from_json(line))"
   ]
  },
  {
   "cell_type": "code",
   "execution_count": 4,
   "metadata": {
    "collapsed": false
   },
   "outputs": [
    {
     "name": "stdout",
     "output_type": "stream",
     "text": [
      "total words: 2717122\n"
     ]
    }
   ],
   "source": [
    "words = []\n",
    "\n",
    "sub_news = news\n",
    "\n",
    "for n in sub_news:\n",
    "    words.extend(n.content.split())\n",
    "counts = Counter(words)\n",
    "one_time = [k for k, v in dict(counts).items() if v == 1]\n",
    "print(\"total words: %s\" % (len(words) - len(one_time)))\n",
    "\n",
    "news_content = [x.content for x in sub_news]"
   ]
  },
  {
   "cell_type": "code",
   "execution_count": 5,
   "metadata": {
    "collapsed": true
   },
   "outputs": [],
   "source": [
    "def print_scores(tfidf_matrix):\n",
    "    print(\"Количество слов после векторизации: %s\" % tfidf_matrix.shape[1])\n",
    "\n",
    "    print(\"Максимальное значение вектота: %s\" % tfidf_matrix.max())\n",
    "    print(\"Минимальное значение вектора: %s\" % tfidf_matrix.min())\n",
    "\n",
    "    try:\n",
    "        lengths = [np.linalg.norm(t.toarray()) for t in tfidf_matrix]\n",
    "    except BaseException:\n",
    "        lengths = [np.linalg.norm(t) for t in tfidf_matrix]\n",
    "\n",
    "    print(\"Максимальная длинна вектора: %s\" % max(lengths))\n",
    "    print(\"Минимальная длинна вектора: %s\" % min(lengths))\n",
    "    print(\"Средняя длинна вектора: %s\" % np.mean(lengths))"
   ]
  },
  {
   "cell_type": "markdown",
   "metadata": {},
   "source": [
    "# TfIdf"
   ]
  },
  {
   "cell_type": "code",
   "execution_count": 6,
   "metadata": {
    "collapsed": false
   },
   "outputs": [],
   "source": [
    "tfidf_vectorizer = TfidfVectorizer(norm='l2', use_idf=True, tokenizer=lambda text: text.split(\" \"))\n",
    "tfidf_matrix = tfidf_vectorizer.fit_transform(news_content)"
   ]
  },
  {
   "cell_type": "code",
   "execution_count": 7,
   "metadata": {
    "collapsed": false
   },
   "outputs": [
    {
     "name": "stdout",
     "output_type": "stream",
     "text": [
      "Количество слов после векторизации: 66802\n",
      "Максимальное значение вектота: 0.869933483272\n",
      "Минимальное значение вектора: 0.0\n",
      "Максимальная длинна вектора: 1.0\n",
      "Минимальная длинна вектора: 1.0\n",
      "Средняя длинна вектора: 1.0\n"
     ]
    }
   ],
   "source": [
    "print_scores(tfidf_matrix)"
   ]
  },
  {
   "cell_type": "code",
   "execution_count": 8,
   "metadata": {
    "collapsed": true
   },
   "outputs": [],
   "source": [
    "# tf = CountVectorizer(stop_words=stopwords).fit_transform(content)\n",
    "lda = LatentDirichletAllocation(n_topics=20, max_iter=10, learning_method='online', learning_offset=50.)\n",
    "lda_matrix = lda.fit_transform(tfidf_matrix)"
   ]
  },
  {
   "cell_type": "code",
   "execution_count": 9,
   "metadata": {
    "collapsed": false
   },
   "outputs": [
    {
     "name": "stdout",
     "output_type": "stream",
     "text": [
      "Количество слов после векторизации: 20\n",
      "Максимальное значение вектота: 0.970074814217\n",
      "Минимальное значение вектора: 0.00157500690319\n",
      "Максимальная длинна вектора: 0.970099107122\n",
      "Минимальная длинна вектора: 0.643810075345\n",
      "Средняя длинна вектора: 0.904774734509\n"
     ]
    }
   ],
   "source": [
    "print_scores(lda_matrix)"
   ]
  },
  {
   "cell_type": "code",
   "execution_count": 10,
   "metadata": {
    "collapsed": true
   },
   "outputs": [],
   "source": [
    "normalizer = Normalizer()\n",
    "norm_matrix = normalizer.fit_transform(lda_matrix)"
   ]
  },
  {
   "cell_type": "code",
   "execution_count": 11,
   "metadata": {
    "collapsed": false
   },
   "outputs": [
    {
     "name": "stdout",
     "output_type": "stream",
     "text": [
      "Количество слов после векторизации: 20\n",
      "Максимальное значение вектота: 0.999974958327\n",
      "Минимальное значение вектора: 0.00162355257482\n",
      "Максимальная длинна вектора: 1.0\n",
      "Минимальная длинна вектора: 1.0\n",
      "Средняя длинна вектора: 1.0\n"
     ]
    }
   ],
   "source": [
    "print_scores(norm_matrix)"
   ]
  },
  {
   "cell_type": "markdown",
   "metadata": {
    "collapsed": true
   },
   "source": [
    "# Tf"
   ]
  },
  {
   "cell_type": "code",
   "execution_count": 17,
   "metadata": {
    "collapsed": false
   },
   "outputs": [],
   "source": [
    "tf = CountVectorizer().fit_transform(news_content)"
   ]
  },
  {
   "cell_type": "code",
   "execution_count": 18,
   "metadata": {
    "collapsed": false
   },
   "outputs": [],
   "source": [
    "lda = LatentDirichletAllocation(n_topics=20, max_iter=10, learning_method='online', learning_offset=50.)\n",
    "lda_matrix = lda.fit_transform(tf)"
   ]
  },
  {
   "cell_type": "code",
   "execution_count": 19,
   "metadata": {
    "collapsed": false
   },
   "outputs": [
    {
     "name": "stdout",
     "output_type": "stream",
     "text": [
      "Количество слов после векторизации: 20\n",
      "Максимальное значение вектота: 0.999256068907\n",
      "Минимальное значение вектора: 4.26657564647e-06\n",
      "Максимальная длинна вектора: 0.999256083482\n",
      "Минимальная длинна вектора: 0.365900834622\n",
      "Средняя длинна вектора: 0.726858737212\n"
     ]
    }
   ],
   "source": [
    "print_scores(lda_matrix)"
   ]
  },
  {
   "cell_type": "code",
   "execution_count": 20,
   "metadata": {
    "collapsed": true
   },
   "outputs": [],
   "source": [
    "normalizer = Normalizer()\n",
    "norm_matrix = normalizer.fit_transform(lda_matrix)"
   ]
  },
  {
   "cell_type": "code",
   "execution_count": 21,
   "metadata": {
    "collapsed": false
   },
   "outputs": [
    {
     "name": "stdout",
     "output_type": "stream",
     "text": [
      "Количество слов после векторизации: 20\n",
      "Максимальное значение вектота: 0.999999985414\n",
      "Минимальное значение вектора: 6.86399007595e-06\n",
      "Максимальная длинна вектора: 1.0\n",
      "Минимальная длинна вектора: 1.0\n",
      "Средняя длинна вектора: 1.0\n"
     ]
    }
   ],
   "source": [
    "print_scores(norm_matrix)"
   ]
  },
  {
   "cell_type": "code",
   "execution_count": null,
   "metadata": {
    "collapsed": true
   },
   "outputs": [],
   "source": []
  }
 ],
 "metadata": {
  "kernelspec": {
   "display_name": "Python 3",
   "language": "python",
   "name": "python3"
  },
  "language_info": {
   "codemirror_mode": {
    "name": "ipython",
    "version": 3
   },
   "file_extension": ".py",
   "mimetype": "text/x-python",
   "name": "python",
   "nbconvert_exporter": "python",
   "pygments_lexer": "ipython3",
   "version": "3.6.0"
  }
 },
 "nbformat": 4,
 "nbformat_minor": 2
}
