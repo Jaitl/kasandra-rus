{
 "cells": [
  {
   "cell_type": "markdown",
   "metadata": {},
   "source": [
    "https://radimrehurek.com/gensim/models/keyedvectors.html"
   ]
  },
  {
   "cell_type": "code",
   "execution_count": 1,
   "metadata": {
    "collapsed": false
   },
   "outputs": [],
   "source": [
    "from gensim.models.keyedvectors import KeyedVectors\n",
    "from gensim.models import Word2Vec\n",
    "from pymystem3 import Mystem\n",
    "from multiprocessing import Pool\n",
    "import time"
   ]
  },
  {
   "cell_type": "code",
   "execution_count": 2,
   "metadata": {
    "collapsed": true
   },
   "outputs": [],
   "source": [
    "word_vectors = KeyedVectors.load_word2vec_format('/data/gensim/news_0_300_2.bin.gz', binary=True)\n",
    "word_vectors.init_sims(replace=True)"
   ]
  },
  {
   "cell_type": "code",
   "execution_count": 3,
   "metadata": {
    "collapsed": true
   },
   "outputs": [],
   "source": [
    "mystem = Mystem()"
   ]
  },
  {
   "cell_type": "code",
   "execution_count": 4,
   "metadata": {
    "collapsed": true
   },
   "outputs": [],
   "source": [
    "mystem_part = {\n",
    "    'A': 'ADJ', # прилагательное\n",
    "    'ADV': 'ADV', # наречие\n",
    "    'ADVPRO': 'ADV', # местоименное наречие\n",
    "    'ANUM': 'ADJ', # числительное-прилагательное\n",
    "    'APRO': 'DET', # местоимение-прилагательное\n",
    "    'COM': 'ADJ', # часть композита - сложного слова\n",
    "    'CONJ': 'SCONJ', # союз\n",
    "    'INTJ': 'INTJ',\t# междометие\n",
    "    'NUM': 'NUM', # числительное\n",
    "    'PART': 'PART',\t# частица\n",
    "    'PR': 'ADP', # предлог\n",
    "    'S': 'NOUN', # существительное\n",
    "    'SPRO': 'PRON',\n",
    "    'V': 'VERB', # глагол\n",
    "}"
   ]
  },
  {
   "cell_type": "code",
   "execution_count": 5,
   "metadata": {
    "collapsed": true
   },
   "outputs": [],
   "source": [
    "def lemm(word):\n",
    "    a = mystem.analyze(word)\n",
    "    \n",
    "    if len(a) == 0:\n",
    "        return word\n",
    "    \n",
    "    analysis = a[0]['analysis']\n",
    "    \n",
    "    if len(analysis) == 0:\n",
    "        return word\n",
    "    \n",
    "    gr = analysis[0]\n",
    "    parts = gr['gr'].split(\"=\")\n",
    "    \n",
    "    if len(parts) == 0:\n",
    "        return word\n",
    "    \n",
    "    parts2 = parts[0].split(\",\")\n",
    "        \n",
    "    if len(parts2) == 0:\n",
    "        return word\n",
    "    \n",
    "    part = parts2[0]\n",
    "        \n",
    "    if part in mystem_part:\n",
    "        return \"%s_%s\" % (analysis[0]['lex'], mystem_part[part])\n",
    "    else:\n",
    "        return word"
   ]
  },
  {
   "cell_type": "code",
   "execution_count": 36,
   "metadata": {
    "collapsed": false
   },
   "outputs": [],
   "source": [
    "def similar(word, lemming=True):\n",
    "    try:\n",
    "        if lemming:\n",
    "            w = lemm(word)\n",
    "        else:\n",
    "            w = word\n",
    "        sim = word_vectors.most_similar(positive=[w])\n",
    "        return list(map(lambda x: x[0], sim))\n",
    "    except Exception as e:\n",
    "        return [word]"
   ]
  },
  {
   "cell_type": "code",
   "execution_count": 26,
   "metadata": {
    "collapsed": false
   },
   "outputs": [],
   "source": [
    "def extractSemanticGroup(seq, max_inter = 1):\n",
    "    last_res = map(lambda x: map(lambda y: lemm(y), x.split(\" \")), seq)\n",
    "    for i in range(0, max_inter):\n",
    "        sem_groups = {}\n",
    "        res_seq = []\n",
    "        for words in last_res:\n",
    "            res_tokens = []\n",
    "            for token in words:\n",
    "                if token not in sem_groups:\n",
    "                    sims = similar(token, False)\n",
    "                    sem_groups[token] = token\n",
    "                    res_tokens.append(token)\n",
    "                    for sim in sims:\n",
    "                       sem_groups[sim] = token\n",
    "                else:\n",
    "                    res_tokens.append(sem_groups[token])\n",
    "            res_seq.append(res_tokens)\n",
    "        last_res = res_seq\n",
    "    result = map(lambda x: \" \".join(map(lambda y: y.split(\"_\")[0], x)), last_res)\n",
    "    return list(result)"
   ]
  },
  {
   "cell_type": "code",
   "execution_count": 27,
   "metadata": {
    "collapsed": true
   },
   "outputs": [],
   "source": [
    "def unic_count(seq):\n",
    "    total = []\n",
    "    for s in seq:\n",
    "        total.extend(s.split(\" \"))\n",
    "    return len(set(total))"
   ]
  },
  {
   "cell_type": "code",
   "execution_count": 12,
   "metadata": {
    "collapsed": true
   },
   "outputs": [],
   "source": [
    "news = [\n",
    "    \"свидетель редкий природный явление становиться житель москва первый день февраль рано утро многий разбудить раскат гром настоящий зимний гроза сопровождаться молния порыв ветер метр секунда ледяной дождь новый месяц\",\n",
    "    \"обвинять государственный измена домохозяйка вязьма светлана давыдов освобождать подписка невыезд страница фейсбук сообщать адвокат женщина иван павлов ходатайство защита изменение мера пресечение удовлетворять следователь взять подписка невыезд мать смочь вернуться ребенок сообщать защитник давыдова судя адвокат новость\",\n",
    "    \"пока ребенок школа выращивать фасоль выращивать грудь говорить героиня популярный сериал глупо звучать грудь выращивать подращивать немного итак нужно делать качать мышца грудь поддерживать грудной мышца любой мышца тело подкачивать укреплять интернет смочь узнавать упражнение тренажер дом коврик помогать прорабатывать мышца грудь мышца окрепнуть подрастать грудь выглядеть пить молоко бабушка советовать капуста грудь расти\"\n",
    "]"
   ]
  },
  {
   "cell_type": "code",
   "execution_count": 33,
   "metadata": {
    "collapsed": false
   },
   "outputs": [
    {
     "name": "stdout",
     "output_type": "stream",
     "text": [
      "\"word 'пока_ADV' not in vocabulary\"\n",
      "\"word 'подращивать_VERB' not in vocabulary\"\n",
      "\"word 'итак_SCONJ' not in vocabulary\"\n",
      "\"word 'пока_ADV' not in vocabulary\"\n",
      "\"word 'подращивать_VERB' not in vocabulary\"\n",
      "\"word 'итак_SCONJ' not in vocabulary\"\n",
      "\"word 'пока_ADV' not in vocabulary\"\n",
      "\"word 'подращивать_VERB' not in vocabulary\"\n",
      "\"word 'итак_SCONJ' not in vocabulary\"\n",
      "\"word 'пока_ADV' not in vocabulary\"\n",
      "\"word 'подращивать_VERB' not in vocabulary\"\n",
      "\"word 'итак_SCONJ' not in vocabulary\"\n",
      "\"word 'пока_ADV' not in vocabulary\"\n",
      "\"word 'подращивать_VERB' not in vocabulary\"\n",
      "\"word 'итак_SCONJ' not in vocabulary\"\n",
      "['свидетель редкий природный явление становиться житель москва первый день февраль рано утро многий разбудить раскат гром настоящий зимний гроза сопровождаться молния порыв порыв метр секунда ледяной порыв новый день', 'обвинять государственный измена домохозяйка вязьма светлана давыдов освобождать подписка подписка страница страница сообщать адвокат женщина иван павлов ходатайство защита изменение мера пресечение удовлетворять следователь взять подписка подписка мать смочь вернуться ребенок сообщать защитник давыдов судя адвокат новость', 'пока ребенок школа выращивать фасоль выращивать грудь говорить героиня популярный сериал глупо звучать грудь выращивать подращивать немного итак нужно делать качать мышца грудь поддерживать грудной мышца любой мышца тело подкачивать укреплять интернет нужно узнавать упражнение тренажер дом коврик помогать прорабатывать мышца грудь мышца окрепнуть подрастать грудь выглядеть пить молоко мать советовать капуста грудь расти']\n",
      "time: 7.475008010864258 s\n"
     ]
    }
   ],
   "source": [
    "start = time.time()\n",
    "res = extractSemanticGroup(news, 5)\n",
    "print(res)\n",
    "print(\"time: %s s\" % (time.time() - start))"
   ]
  },
  {
   "cell_type": "code",
   "execution_count": 34,
   "metadata": {
    "collapsed": false
   },
   "outputs": [
    {
     "data": {
      "text/plain": [
       "96"
      ]
     },
     "execution_count": 34,
     "metadata": {},
     "output_type": "execute_result"
    }
   ],
   "source": [
    "unic_count(res)"
   ]
  },
  {
   "cell_type": "code",
   "execution_count": 35,
   "metadata": {
    "collapsed": false
   },
   "outputs": [
    {
     "data": {
      "text/plain": [
       "103"
      ]
     },
     "execution_count": 35,
     "metadata": {},
     "output_type": "execute_result"
    }
   ],
   "source": [
    "unic_count(news)"
   ]
  }
 ],
 "metadata": {
  "kernelspec": {
   "display_name": "Python 3",
   "language": "python",
   "name": "python3"
  },
  "language_info": {
   "codemirror_mode": {
    "name": "ipython",
    "version": 3
   },
   "file_extension": ".py",
   "mimetype": "text/x-python",
   "name": "python",
   "nbconvert_exporter": "python",
   "pygments_lexer": "ipython3",
   "version": "3.6.0"
  }
 },
 "nbformat": 4,
 "nbformat_minor": 2
}
