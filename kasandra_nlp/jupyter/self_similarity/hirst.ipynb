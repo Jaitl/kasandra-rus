{
 "cells": [
  {
   "cell_type": "markdown",
   "metadata": {},
   "source": [
    "# Cамоподобие Херста"
   ]
  },
  {
   "cell_type": "code",
   "execution_count": 1,
   "metadata": {
    "collapsed": false
   },
   "outputs": [],
   "source": [
    "import math\n",
    "import matplotlib.pyplot as plt\n",
    "from scipy import stats\n",
    "import numpy as np\n",
    "\n",
    "%matplotlib inline"
   ]
  },
  {
   "cell_type": "code",
   "execution_count": 9,
   "metadata": {
    "collapsed": false
   },
   "outputs": [],
   "source": [
    "class HistResult:\n",
    "    # Матрица с результатами, в виде списка таплов: (mi, ln_mi, variance, ln_variance)\n",
    "    matrix = []\n",
    "    \n",
    "    # коэффициет b\n",
    "    slope = 0\n",
    "    \n",
    "    # свободный коэффициет k\n",
    "    intercept = 0\n",
    "    \n",
    "    # коэффициент корелляции\n",
    "    correlation_coefficient = 0\n",
    "    \n",
    "    # коэффициент Харста\n",
    "    hirst_coefficient = 0\n",
    "    \n",
    "    def __init__(self, matrix, slope, intercept, correlation_coefficient, hirst_coefficient):\n",
    "        self.matrix = matrix\n",
    "        self.slope = slope\n",
    "        self.intercept = intercept\n",
    "        self.correlation_coefficient = correlation_coefficient\n",
    "        self.hirst_coefficient = hirst_coefficient\n",
    "        \n",
    "    def print_result(self): \n",
    "        print(\"---\")\n",
    "        for mi, ln_mi, variance, ln_variance in self.matrix:\n",
    "            print(\"mi: 1/%s, variance: %s, ln(variance): %s, ln(m): %s)\" % (mi, variance, ln_variance, ln_mi))\n",
    "        \n",
    "        print(\"---\")\n",
    "        print(\"y = %s * x + %s\" %(self.slope, self.intercept))\n",
    "        print(\"Correlation coefficient = %s\" % self.correlation_coefficient)\n",
    "        print(\"Hirst Coefficient = %s\" % self.hirst_coefficient)\n",
    "            \n",
    "    def plot(self, height = 5, width = 10, font_size = 12):\n",
    "        plt.rcParams['figure.figsize'] = (width, height)\n",
    "        plt.rcParams['font.size'] = font_size\n",
    "        \n",
    "        fig, ax = plt.subplots()\n",
    "        \n",
    "        x = [x[1] for x in self.matrix]\n",
    "        y = [y[3] for y in self.matrix]\n",
    "        \n",
    "        x1 = []\n",
    "        y1 = []\n",
    "\n",
    "        for xx in np.arange(min(x) - 0.1, max(x) + 0.1, 0.1):\n",
    "            x1.append(xx)\n",
    "            y1.append(self.slope * xx + self.intercept)\n",
    "        \n",
    "        ax.scatter(x, y)\n",
    "        ax.plot(x1, y1)\n",
    "        \n",
    "        fig.show()\n",
    "\n",
    "class SelfSimilarityHirst:\n",
    "    \"\"\"\n",
    "        Самоподобие Херста\n",
    "    \"\"\"\n",
    "    \n",
    "    def __blocks_split(self, arr, size):\n",
    "        \"\"\"\n",
    "            Делит входной массив на блоки указанного размера,\n",
    "            например arr = [1, 2, 3, 4, 5], size = 2,\n",
    "            результат: [[1, 2], [3, 4]]\n",
    "            отбрасывает элементы для которых не хватает блоков\n",
    "        \"\"\"\n",
    "        blocks = []\n",
    "        pos = 0\n",
    "        for i in range(size, len(arr) + 1, size):\n",
    "            blocks.append(arr[pos:i])\n",
    "            pos = pos + size\n",
    "        return blocks\n",
    "\n",
    "    def __expected_value(self, arr):\n",
    "        \"\"\"\n",
    "            Математическое ожидание (среднее)\n",
    "        \"\"\"\n",
    "        return sum(arr) / len(arr)\n",
    "\n",
    "    def __variance(self, arr, exp):\n",
    "        \"\"\"\n",
    "            Дисперсия\n",
    "        \"\"\"\n",
    "        d = [math.pow(x - exp, 2) for x in arr]\n",
    "        return sum(d) / len(d)\n",
    "    \n",
    "    def __block_count(self, data_len):\n",
    "        \"\"\"\n",
    "            Рассчитывает количество блоков\n",
    "        \"\"\"\n",
    "        return int(data_len / 2)\n",
    "    \n",
    "    def __variance_matrix(self, data, log_base):\n",
    "        \"\"\"\n",
    "            Рассчитывает зависимость логарифма среднего значения дисперсии от логарифма mi\n",
    "        \"\"\"\n",
    "        result = []\n",
    "        \n",
    "        last_cnt = -1\n",
    "        \n",
    "        block_count = self.__block_count(len(data))\n",
    "        \n",
    "        for mi in range(block_count, 0, -1):\n",
    "            block_cnt = int(len(data)/mi)\n",
    "            \n",
    "            # Если уже были блоки такого размера, то пропускаем\n",
    "            if block_cnt == last_cnt:\n",
    "                continue\n",
    "            last_cnt = block_cnt\n",
    "            \n",
    "            dds = []\n",
    "            \n",
    "            # Рассчет среднего и дисперсии для каждого блока\n",
    "            for block in self.__blocks_split(data, block_cnt):\n",
    "                vals = [y for x, y in block]\n",
    "                ev = self.__expected_value(vals)\n",
    "                v = self.__variance(vals, ev)\n",
    "                dds.append(v)\n",
    "               \n",
    "            # Рассчет среднего значения дисперсий блока\n",
    "            variance = self.__expected_value(dds)\n",
    "            \n",
    "            ln_mi = math.log(1/mi, log_base)\n",
    "            ln_variance = math.log(variance, log_base)\n",
    "            \n",
    "            result.append((mi, ln_mi, variance, ln_variance))\n",
    "            \n",
    "        return result\n",
    "    \n",
    "    def __regress(self, x, y):\n",
    "        slope, intercept, correlation_coefficient, p_value, std_err = stats.linregress(x,y)\n",
    "        h = (2 - slope) / 2\n",
    "        \n",
    "        return (slope, intercept, correlation_coefficient, h)\n",
    "    \n",
    "    def compute(self, data, log_base = math.e):\n",
    "        matrix = self.__variance_matrix(data, log_base)\n",
    "        \n",
    "        x = [x[1] for x in matrix]\n",
    "        y = [y[3] for y in matrix]\n",
    "        \n",
    "        slope, intercept, correlation_coefficient, h = self.__regress(x, y)\n",
    "        \n",
    "        return HistResult(matrix, slope, intercept, correlation_coefficient, h)"
   ]
  },
  {
   "cell_type": "markdown",
   "metadata": {},
   "source": [
    "## Тест по трудовому праву "
   ]
  },
  {
   "cell_type": "code",
   "execution_count": 3,
   "metadata": {
    "collapsed": true
   },
   "outputs": [],
   "source": [
    "data_right = [\n",
    "    (19, 1),\n",
    "    (20, 0),\n",
    "    (21, 2),\n",
    "    (22, 0),\n",
    "    (23, 2),\n",
    "    (24, 0),\n",
    "    (25, 1),\n",
    "    (26, 2),\n",
    "    (27, 1),\n",
    "    (28, 1),\n",
    "    (29, 3),\n",
    "    (30, 5),\n",
    "    (31, 5),\n",
    "    (32, 2),\n",
    "    (33, 3),\n",
    "    (34, 6),\n",
    "    (35, 5),\n",
    "    (36, 5),\n",
    "    (37, 2),\n",
    "    (38, 8),\n",
    "    (39, 4),\n",
    "    (40, 4),\n",
    "    (41, 10),\n",
    "    (42, 12),\n",
    "    (43, 8),\n",
    "    (44, 7),\n",
    "    (45, 7),\n",
    "    (46, 8),\n",
    "    (47, 2),\n",
    "    (48, 6),\n",
    "    (49, 2),\n",
    "    (50, 1),\n",
    "    (51, 4),\n",
    "    (52, 2),\n",
    "    (53, 1),\n",
    "    (54, 1)\n",
    "]"
   ]
  },
  {
   "cell_type": "code",
   "execution_count": 10,
   "metadata": {
    "collapsed": false
   },
   "outputs": [
    {
     "name": "stdout",
     "output_type": "stream",
     "text": [
      "---\n",
      "mi: 1/18, variance: 1.3194444444444444, ln(variance): 0.12039110885757928, ln(m): -1.255272505103306)\n",
      "mi: 1/12, variance: 2.685185185185185, ln(variance): 0.4289742424120063, ln(m): -1.0791812460476247)\n",
      "mi: 1/9, variance: 3.2569444444444446, ln(variance): 0.5128103506198336, ln(m): -0.9542425094393249)\n",
      "mi: 1/7, variance: 3.177142857142857, ln(variance): 0.5020367428957629, ln(m): -0.8450980400142568)\n",
      "mi: 1/6, variance: 3.8472222222222228, ln(variance): 0.58514727263318, ln(m): -0.7781512503836435)\n",
      "mi: 1/5, variance: 2.9551020408163264, ln(variance): 0.4705724818326144, ln(m): -0.6989700043360187)\n",
      "mi: 1/4, variance: 4.382716049382716, ln(variance): 0.6417433341764442, ln(m): -0.6020599913279623)\n",
      "mi: 1/3, variance: 6.1365740740740735, ln(variance): 0.7879259809181812, ln(m): -0.47712125471966244)\n",
      "mi: 1/2, variance: 7.316358024691356, ln(variance): 0.8642949494483632, ln(m): -0.30102999566398114)\n",
      "mi: 1/1, variance: 8.87885802469136, ln(variance): 0.9483571115592581, ln(m): 0.0)\n",
      "---\n",
      "y = 0.610026968484 * x + 1.01270294616\n",
      "Correlation coefficient = 0.946864848373\n",
      "Hirst Coefficient = 0.694986515758\n"
     ]
    },
    {
     "name": "stderr",
     "output_type": "stream",
     "text": [
      "/anaconda/lib/python3.6/site-packages/matplotlib/figure.py:402: UserWarning: matplotlib is currently using a non-GUI backend, so cannot show the figure\n",
      "  \"matplotlib is currently using a non-GUI backend, \"\n"
     ]
    },
    {
     "data": {
      "image/png": "[encoded data removed]",
      "text/plain": [
       "<matplotlib.figure.Figure at 0x11a8dada0>"
      ]
     },
     "metadata": {},
     "output_type": "display_data"
    }
   ],
   "source": [
    "hist = SelfSimilarityHirst()\n",
    "res = hist.compute(data_right, log_base=10)\n",
    "res.print_result()\n",
    "res.plot()"
   ]
  },
  {
   "cell_type": "markdown",
   "metadata": {},
   "source": [
    "## Тест по уголовному праву "
   ]
  },
  {
   "cell_type": "code",
   "execution_count": 5,
   "metadata": {
    "collapsed": true
   },
   "outputs": [],
   "source": [
    "data_wa = [\n",
    "    (0, 5),\n",
    "    (1, 1),\n",
    "    (2, 0),\n",
    "    (3, 3),\n",
    "    (4, 0),\n",
    "    (5, 2),\n",
    "    (6, 1),\n",
    "    (7, 1),\n",
    "    (8, 1),\n",
    "    (9, 0),\n",
    "    (10, 0),\n",
    "    (11, 1),\n",
    "    (12, 0),\n",
    "    (13, 4),\n",
    "    (14, 0),\n",
    "    (15, 2),\n",
    "    (16, 1),\n",
    "    (17, 1),\n",
    "    (18, 3),\n",
    "    (19, 1),\n",
    "    (20, 3),\n",
    "    (21, 1),\n",
    "    (22, 2),\n",
    "    (23, 2),\n",
    "    (24, 1),\n",
    "    (25, 3),\n",
    "    (26, 4),\n",
    "    (27, 4),\n",
    "    (28, 1),\n",
    "    (29, 1),\n",
    "    (30, 1),\n",
    "    (31, 0),\n",
    "    (32, 3),\n",
    "    (33, 3),\n",
    "    (34, 3),\n",
    "    (35, 2),\n",
    "    (36, 3),\n",
    "    (37, 1),\n",
    "    (38, 2),\n",
    "    (39, 1),\n",
    "    (40, 3),\n",
    "    (41, 0),\n",
    "    (42, 2),\n",
    "    (43, 2),\n",
    "    (44, 5),\n",
    "    (45, 3),\n",
    "    (46, 2),\n",
    "    (47, 5),\n",
    "    (48, 5),\n",
    "    (49, 1),\n",
    "    (50, 2),\n",
    "    (51, 2),\n",
    "    (52, 3),\n",
    "    (53, 3),\n",
    "    (54, 3),\n",
    "    (55, 1),\n",
    "    (56, 1),\n",
    "    (57, 4),\n",
    "    (58, 5),\n",
    "    (59, 2),\n",
    "    (60, 2),\n",
    "    (61, 2),\n",
    "    (62, 1),\n",
    "    (63, 0),\n",
    "    (64, 3),\n",
    "    (65, 1)\n",
    "]"
   ]
  },
  {
   "cell_type": "code",
   "execution_count": 11,
   "metadata": {
    "collapsed": false
   },
   "outputs": [
    {
     "name": "stdout",
     "output_type": "stream",
     "text": [
      "---\n",
      "mi: 1/33, variance: 1.0227272727272727, ln(variance): 0.022472855852058576, ln(m): -3.4965075614664802)\n",
      "mi: 1/22, variance: 1.3535353535353536, ln(variance): 0.3027199498163215, ln(m): -3.0910424533583156)\n",
      "mi: 1/16, variance: 1.25390625, ln(variance): 0.22626367865045338, ln(m): -2.772588722239781)\n",
      "mi: 1/13, variance: 1.606153846153846, ln(variance): 0.4738424055529012, ln(m): -2.5649493574615367)\n",
      "mi: 1/11, variance: 1.532828282828283, ln(variance): 0.4271145798050179, ln(m): -2.3978952727983707)\n",
      "mi: 1/9, variance: 1.5555555555555558, ln(variance): 0.4418327522790394, ln(m): -2.1972245773362196)\n",
      "mi: 1/8, variance: 1.751953125, ln(variance): 0.5607312370192883, ln(m): -2.0794415416798357)\n",
      "mi: 1/7, variance: 1.6754850088183422, ln(variance): 0.5161026808668344, ln(m): -1.9459101490553135)\n",
      "mi: 1/6, variance: 1.6639118457300277, ln(variance): 0.5091713636699643, ln(m): -1.791759469228055)\n",
      "mi: 1/5, variance: 1.770414201183432, ln(variance): 0.5712135311772488, ln(m): -1.6094379124341003)\n",
      "mi: 1/4, variance: 1.8017578125, ln(variance): 0.5887627508751745, ln(m): -1.3862943611198906)\n",
      "mi: 1/3, variance: 1.769283746556474, ln(variance): 0.5705748017251422, ln(m): -1.0986122886681098)\n",
      "mi: 1/2, variance: 1.8411386593204782, ln(variance): 0.6103842168077095, ln(m): -0.6931471805599453)\n",
      "mi: 1/1, variance: 1.984618916437097, ln(variance): 0.6854269140645392, ln(m): 0.0)\n",
      "---\n",
      "y = 0.162753406829 * x + 0.780090649513\n",
      "Correlation coefficient = 0.873476531417\n",
      "Hirst Coefficient = 0.918623296585\n"
     ]
    },
    {
     "name": "stderr",
     "output_type": "stream",
     "text": [
      "/anaconda/lib/python3.6/site-packages/matplotlib/figure.py:402: UserWarning: matplotlib is currently using a non-GUI backend, so cannot show the figure\n",
      "  \"matplotlib is currently using a non-GUI backend, \"\n"
     ]
    },
    {
     "data": {
      "image/png": "[encoded data removed]",
      "text/plain": [
       "<matplotlib.figure.Figure at 0x11ab60198>"
      ]
     },
     "metadata": {},
     "output_type": "display_data"
    }
   ],
   "source": [
    "hist = SelfSimilarityHirst()\n",
    "res = hist.compute(data_wa)\n",
    "res.print_result()\n",
    "res.plot()"
   ]
  },
  {
   "cell_type": "code",
   "execution_count": null,
   "metadata": {
    "collapsed": true
   },
   "outputs": [],
   "source": []
  }
 ],
 "metadata": {
  "kernelspec": {
   "display_name": "Python 3",
   "language": "python",
   "name": "python3"
  },
  "language_info": {
   "codemirror_mode": {
    "name": "ipython",
    "version": 3
   },
   "file_extension": ".py",
   "mimetype": "text/x-python",
   "name": "python",
   "nbconvert_exporter": "python",
   "pygments_lexer": "ipython3",
   "version": "3.6.0"
  }
 },
 "nbformat": 4,
 "nbformat_minor": 2
}
