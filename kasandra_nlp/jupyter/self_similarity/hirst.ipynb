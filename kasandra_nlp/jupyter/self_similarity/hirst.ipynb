{
 "cells": [
  {
   "cell_type": "markdown",
   "metadata": {},
   "source": [
    "# Cамоподобие Херста"
   ]
  },
  {
   "cell_type": "code",
   "execution_count": 52,
   "metadata": {
    "collapsed": true
   },
   "outputs": [],
   "source": [
    "import math"
   ]
  },
  {
   "cell_type": "code",
   "execution_count": 1,
   "metadata": {
    "collapsed": true
   },
   "outputs": [],
   "source": [
    "data = [\n",
    "    (19, 1),\n",
    "(20, 0),\n",
    "(21, 2),\n",
    "(22, 0),\n",
    "(23, 2),\n",
    "(24, 0),\n",
    "(25, 1),\n",
    "(26, 2),\n",
    "(27, 1),\n",
    "(28, 1),\n",
    "(29, 3),\n",
    "(30, 5),\n",
    "(31, 5),\n",
    "(32, 2),\n",
    "(33, 3),\n",
    "(34, 6),\n",
    "(35, 5),\n",
    "(36, 5),\n",
    "(37, 2),\n",
    "(38, 8),\n",
    "(39, 4),\n",
    "(40, 4),\n",
    "(41, 10),\n",
    "(42, 12),\n",
    "(43, 8),\n",
    "(44, 7),\n",
    "(45, 7),\n",
    "(46, 8),\n",
    "(47, 2),\n",
    "(48, 6),\n",
    "(49, 2),\n",
    "(50, 1),\n",
    "(51, 4),\n",
    "(52, 2),\n",
    "(53, 1),\n",
    "(54, 1)\n",
    "]"
   ]
  },
  {
   "cell_type": "code",
   "execution_count": 55,
   "metadata": {
    "collapsed": true
   },
   "outputs": [],
   "source": [
    "block_sizes = [12, 9, 7, 6, 5, 4, 3, 2, 1]"
   ]
  },
  {
   "cell_type": "code",
   "execution_count": 53,
   "metadata": {
    "collapsed": false
   },
   "outputs": [],
   "source": [
    "def blocks(arr, size):\n",
    "    blocks = []\n",
    "    pos = 0\n",
    "    for i in range(size, len(arr)+1, size):\n",
    "        blocks.append(arr[pos:i])\n",
    "        pos = pos + size\n",
    "    return blocks\n",
    "\n",
    "def expected_value(arr):\n",
    "    \"\"\"\n",
    "        Математическое ожидание\n",
    "    \"\"\"\n",
    "    return sum(arr)/len(arr)\n",
    "\n",
    "def variance(arr, exp):\n",
    "    \"\"\"\n",
    "        Дисперсия\n",
    "    \"\"\"\n",
    "    d = [math.pow(x - exp, 2) for x in arr]\n",
    "    return sum(d)/len(d)"
   ]
  },
  {
   "cell_type": "code",
   "execution_count": 65,
   "metadata": {
    "collapsed": false
   },
   "outputs": [
    {
     "data": {
      "text/plain": [
       "2.685185185185185"
      ]
     },
     "execution_count": 65,
     "metadata": {},
     "output_type": "execute_result"
    }
   ],
   "source": [
    "dds = []\n",
    "for block in blocks(data, 3):\n",
    "    vals = [y for x, y in block]\n",
    "    ev = expected_value(vals)\n",
    "    v = variance(vals, ev)\n",
    "    dds.append(v)\n",
    "    \n",
    "expected_value(dds)"
   ]
  },
  {
   "cell_type": "code",
   "execution_count": 51,
   "metadata": {
    "collapsed": false
   },
   "outputs": [
    {
     "data": {
      "text/plain": [
       "2.0"
      ]
     },
     "execution_count": 51,
     "metadata": {},
     "output_type": "execute_result"
    }
   ],
   "source": [
    "expected_value([1, 2, 3])"
   ]
  },
  {
   "cell_type": "code",
   "execution_count": 54,
   "metadata": {
    "collapsed": false
   },
   "outputs": [
    {
     "data": {
      "text/plain": [
       "4.666666666666667"
      ]
     },
     "execution_count": 54,
     "metadata": {},
     "output_type": "execute_result"
    }
   ],
   "source": [
    "variance([1, 2, 3], 4)"
   ]
  },
  {
   "cell_type": "code",
   "execution_count": 63,
   "metadata": {
    "collapsed": false
   },
   "outputs": [
    {
     "data": {
      "text/plain": [
       "[[(19, 1), (20, 0), (21, 2), (22, 0)],\n",
       " [(23, 2), (24, 0), (25, 1), (26, 2)],\n",
       " [(27, 1), (28, 1), (29, 3), (30, 5)],\n",
       " [(31, 5), (32, 2), (33, 3), (34, 6)],\n",
       " [(35, 5), (36, 5), (37, 2), (38, 8)],\n",
       " [(39, 4), (40, 4), (41, 10), (42, 12)],\n",
       " [(43, 8), (44, 7), (45, 7), (46, 8)],\n",
       " [(47, 2), (48, 6), (49, 2), (50, 1)],\n",
       " [(51, 4), (52, 2), (53, 1), (54, 1)]]"
      ]
     },
     "execution_count": 63,
     "metadata": {},
     "output_type": "execute_result"
    }
   ],
   "source": [
    "blocks(data, 4)"
   ]
  },
  {
   "cell_type": "code",
   "execution_count": null,
   "metadata": {
    "collapsed": true
   },
   "outputs": [],
   "source": []
  }
 ],
 "metadata": {
  "kernelspec": {
   "display_name": "Python 3",
   "language": "python",
   "name": "python3"
  },
  "language_info": {
   "codemirror_mode": {
    "name": "ipython",
    "version": 3
   },
   "file_extension": ".py",
   "mimetype": "text/x-python",
   "name": "python",
   "nbconvert_exporter": "python",
   "pygments_lexer": "ipython3",
   "version": "3.6.0"
  }
 },
 "nbformat": 4,
 "nbformat_minor": 2
}
