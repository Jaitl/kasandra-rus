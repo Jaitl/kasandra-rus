{
 "cells": [
  {
   "cell_type": "markdown",
   "metadata": {},
   "source": [
    "# Cамоподобие Херста"
   ]
  },
  {
   "cell_type": "code",
   "execution_count": 105,
   "metadata": {
    "collapsed": false
   },
   "outputs": [],
   "source": [
    "import math\n",
    "import matplotlib.pyplot as plt\n",
    "from scipy import stats\n",
    "import numpy as np\n",
    "\n",
    "\n",
    "%matplotlib inline"
   ]
  },
  {
   "cell_type": "code",
   "execution_count": 1,
   "metadata": {
    "collapsed": true
   },
   "outputs": [],
   "source": [
    "data = [\n",
    "    (19, 1),\n",
    "    (20, 0),\n",
    "    (21, 2),\n",
    "    (22, 0),\n",
    "    (23, 2),\n",
    "    (24, 0),\n",
    "    (25, 1),\n",
    "    (26, 2),\n",
    "    (27, 1),\n",
    "    (28, 1),\n",
    "    (29, 3),\n",
    "    (30, 5),\n",
    "    (31, 5),\n",
    "    (32, 2),\n",
    "    (33, 3),\n",
    "    (34, 6),\n",
    "    (35, 5),\n",
    "    (36, 5),\n",
    "    (37, 2),\n",
    "    (38, 8),\n",
    "    (39, 4),\n",
    "    (40, 4),\n",
    "    (41, 10),\n",
    "    (42, 12),\n",
    "    (43, 8),\n",
    "    (44, 7),\n",
    "    (45, 7),\n",
    "    (46, 8),\n",
    "    (47, 2),\n",
    "    (48, 6),\n",
    "    (49, 2),\n",
    "    (50, 1),\n",
    "    (51, 4),\n",
    "    (52, 2),\n",
    "    (53, 1),\n",
    "    (54, 1)\n",
    "]"
   ]
  },
  {
   "cell_type": "code",
   "execution_count": 55,
   "metadata": {
    "collapsed": true
   },
   "outputs": [],
   "source": [
    "block_sizes = [12, 9, 7, 6, 5, 4, 3, 2, 1]"
   ]
  },
  {
   "cell_type": "code",
   "execution_count": 53,
   "metadata": {
    "collapsed": false
   },
   "outputs": [],
   "source": [
    "def blocks(arr, size):\n",
    "    blocks = []\n",
    "    pos = 0\n",
    "    for i in range(size, len(arr)+1, size):\n",
    "        blocks.append(arr[pos:i])\n",
    "        pos = pos + size\n",
    "    return blocks\n",
    "\n",
    "def expected_value(arr):\n",
    "    \"\"\"\n",
    "        Математическое ожидание\n",
    "    \"\"\"\n",
    "    return sum(arr)/len(arr)\n",
    "\n",
    "def variance(arr, exp):\n",
    "    \"\"\"\n",
    "        Дисперсия\n",
    "    \"\"\"\n",
    "    d = [math.pow(x - exp, 2) for x in arr]\n",
    "    return sum(d)/len(d)"
   ]
  },
  {
   "cell_type": "code",
   "execution_count": 89,
   "metadata": {
    "collapsed": false
   },
   "outputs": [
    {
     "name": "stdout",
     "output_type": "stream",
     "text": [
      "block: 12, count: 3, val: 2.685185185185185, ln: 0.4289742424120063, ln_m: -1.0791812460476247)\n",
      "block: 9, count: 4, val: 3.2569444444444446, ln: 0.5128103506198336, ln_m: -0.9542425094393249)\n",
      "block: 7, count: 5, val: 3.177142857142857, ln: 0.5020367428957629, ln_m: -0.8450980400142568)\n",
      "block: 6, count: 6, val: 3.8472222222222228, ln: 0.58514727263318, ln_m: -0.7781512503836435)\n",
      "block: 5, count: 7, val: 2.9551020408163264, ln: 0.4705724818326144, ln_m: -0.6989700043360187)\n",
      "block: 4, count: 9, val: 4.382716049382716, ln: 0.6417433341764442, ln_m: -0.6020599913279623)\n",
      "block: 3, count: 12, val: 6.1365740740740735, ln: 0.7879259809181812, ln_m: -0.47712125471966244)\n",
      "block: 2, count: 18, val: 7.316358024691356, ln: 0.8642949494483632, ln_m: -0.30102999566398114)\n",
      "block: 1, count: 36, val: 8.87885802469136, ln: 0.9483571115592581, ln_m: 0.0)\n"
     ]
    }
   ],
   "source": [
    "last_cnt = -1\n",
    "x = []\n",
    "y = []\n",
    "for s in range(int(len(data)/3), 0, -1):\n",
    "    block_cnt = int(len(data)/s)\n",
    "    if block_cnt == last_cnt:\n",
    "        continue\n",
    "    last_cnt = block_cnt\n",
    "    dds = []\n",
    "    for block in blocks(data, block_cnt):\n",
    "        vals = [y for x, y in block]\n",
    "        ev = expected_value(vals)\n",
    "        v = variance(vals, ev)\n",
    "        dds.append(v)\n",
    "    ress = expected_value(dds)\n",
    "    x.append(math.log(1/s, 10))\n",
    "    y.append(math.log(ress, 10))\n",
    "    print(\"block: %s, count: %s, val: %s, ln: %s, ln_m: %s)\" % (s, block_cnt, ress, math.log(ress, 10), math.log(1/s, 10)))"
   ]
  },
  {
   "cell_type": "code",
   "execution_count": 93,
   "metadata": {
    "collapsed": false
   },
   "outputs": [
    {
     "data": {
      "text/plain": [
       "<matplotlib.collections.PathCollection at 0x114619cf8>"
      ]
     },
     "execution_count": 93,
     "metadata": {},
     "output_type": "execute_result"
    },
    {
     "data": {
      "image/png": "[encoded data removed]",
      "text/plain": [
       "<matplotlib.figure.Figure at 0x1146bac18>"
      ]
     },
     "metadata": {},
     "output_type": "display_data"
    }
   ],
   "source": [
    "plt.scatter(x, y)"
   ]
  },
  {
   "cell_type": "code",
   "execution_count": 129,
   "metadata": {
    "collapsed": true
   },
   "outputs": [],
   "source": [
    "slope, intercept, r_value, p_value, std_err = stats.linregress(x,y)\n",
    "h = (2 - slope) / 2"
   ]
  },
  {
   "cell_type": "code",
   "execution_count": 130,
   "metadata": {
    "collapsed": false
   },
   "outputs": [
    {
     "name": "stdout",
     "output_type": "stream",
     "text": [
      "y=0.523955870964*x+0.971910777527\n",
      "correlation coefficient: 0.946081682677\n",
      "H=0.738022064518\n"
     ]
    }
   ],
   "source": [
    "print(\"y=%s*x+%s\" %(slope, intercept))\n",
    "print(\"correlation coefficient: %s\" % r_value)\n",
    "print(\"H=%s\" % h)"
   ]
  },
  {
   "cell_type": "code",
   "execution_count": 131,
   "metadata": {
    "collapsed": false
   },
   "outputs": [],
   "source": [
    "yl = []\n",
    "xl = []\n",
    "\n",
    "for xx in np.arange(min(x), max(x)+0.1, 0.1):\n",
    "    xl.append(xx)\n",
    "    yl.append(slope*xx + intercept)"
   ]
  },
  {
   "cell_type": "code",
   "execution_count": 132,
   "metadata": {
    "collapsed": false
   },
   "outputs": [
    {
     "name": "stderr",
     "output_type": "stream",
     "text": [
      "/anaconda/lib/python3.6/site-packages/matplotlib/figure.py:402: UserWarning: matplotlib is currently using a non-GUI backend, so cannot show the figure\n",
      "  \"matplotlib is currently using a non-GUI backend, \"\n"
     ]
    },
    {
     "data": {
      "image/png": "[encoded data removed]",
      "text/plain": [
       "<matplotlib.figure.Figure at 0x1167f65f8>"
      ]
     },
     "metadata": {},
     "output_type": "display_data"
    }
   ],
   "source": [
    "fig, ax = plt.subplots()\n",
    "ax.scatter(x, y)\n",
    "ax.plot(xl, yl)\n",
    "fig.show()"
   ]
  },
  {
   "cell_type": "code",
   "execution_count": null,
   "metadata": {
    "collapsed": true
   },
   "outputs": [],
   "source": []
  }
 ],
 "metadata": {
  "kernelspec": {
   "display_name": "Python 3",
   "language": "python",
   "name": "python3"
  },
  "language_info": {
   "codemirror_mode": {
    "name": "ipython",
    "version": 3
   },
   "file_extension": ".py",
   "mimetype": "text/x-python",
   "name": "python",
   "nbconvert_exporter": "python",
   "pygments_lexer": "ipython3",
   "version": "3.6.0"
  }
 },
 "nbformat": 4,
 "nbformat_minor": 2
}
