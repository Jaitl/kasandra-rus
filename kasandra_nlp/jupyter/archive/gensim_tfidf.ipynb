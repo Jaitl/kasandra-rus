{
 "cells": [
  {
   "cell_type": "markdown",
   "metadata": {},
   "source": [
    "# Подготовка новостей для библиотеки gensim\n",
    "[gensim](https://radimrehurek.com/gensim/tut1.html)"
   ]
  },
  {
   "cell_type": "markdown",
   "metadata": {},
   "source": [
    "# Модель новости"
   ]
  },
  {
   "cell_type": "code",
   "execution_count": 31,
   "metadata": {
    "collapsed": true
   },
   "outputs": [],
   "source": [
    "import json\n",
    "import numpy as np\n",
    "from pymystem3 import Mystem\n",
    "import re\n",
    "from collections import defaultdict\n",
    "from gensim import corpora\n",
    "\n",
    "import logging\n",
    "logging.basicConfig(format='%(asctime)s : %(levelname)s : %(message)s', level=logging.INFO)\n",
    "\n",
    "class News:\n",
    "    def __init__(self, id, date, annotation, title, content, url):\n",
    "        self.id = id\n",
    "        self.date = date\n",
    "        self.annotation = annotation\n",
    "        self.title = title\n",
    "        self.content = content\n",
    "        self.url = url\n",
    "    \n",
    "    @classmethod\n",
    "    def from_json(cls, json_str):\n",
    "        json_dict = json.loads(json_str)\n",
    "        return cls(**json_dict)"
   ]
  },
  {
   "cell_type": "markdown",
   "metadata": {},
   "source": [
    "# Загружаем новости"
   ]
  },
  {
   "cell_type": "code",
   "execution_count": 9,
   "metadata": {
    "collapsed": false
   },
   "outputs": [
    {
     "data": {
      "text/plain": [
       "['На Алтае заработала первая в РФ система контроля космического пространства',\n",
       " 'ЛНР: Действия украинских диверсантов — одна из версий покушения на Плотницкого',\n",
       " 'Bild не публикует результаты России в медальном зачёте Олимпиады',\n",
       " 'Глава ЛНР связал покушение на свою жизнь с украинскими спецслужбами',\n",
       " 'Мэра города в США арестовали за попытку расплатиться наркотиками за секс с мужчинами']"
      ]
     },
     "execution_count": 9,
     "metadata": {},
     "output_type": "execute_result"
    }
   ],
   "source": [
    "news = []\n",
    "with open('/data/kasandra/news-4965.json', encoding=\"utf8\") as f:\n",
    "    for line in f:\n",
    "        news.append(News.from_json(line))\n",
    "        \n",
    "news_contenst = list(map(lambda w: w.content, news))\n",
    "\n",
    "list(map(lambda w: w.title, news[:5]))"
   ]
  },
  {
   "cell_type": "markdown",
   "metadata": {},
   "source": [
    "# Загружаем стоп слова"
   ]
  },
  {
   "cell_type": "code",
   "execution_count": 7,
   "metadata": {
    "collapsed": false
   },
   "outputs": [
    {
     "data": {
      "text/plain": [
       "['без', 'более', 'больше', 'будет', 'будто']"
      ]
     },
     "execution_count": 7,
     "metadata": {},
     "output_type": "execute_result"
    }
   ],
   "source": [
    "stopwords = []\n",
    "\n",
    "with open('../main/python/res/stopwords.txt', mode=\"r\", encoding=\"utf8\") as file:\n",
    "    for line in file:\n",
    "        stopwords.append(line.replace('\\n', ''))\n",
    "        \n",
    "stopwords[:5]"
   ]
  },
  {
   "cell_type": "markdown",
   "metadata": {},
   "source": [
    "# Подключаем Yandex MyStem для нормализации текста"
   ]
  },
  {
   "cell_type": "code",
   "execution_count": 11,
   "metadata": {
    "collapsed": false
   },
   "outputs": [],
   "source": [
    "mystem = Mystem(mystem_bin='/data/mystem/mystem',\n",
    "                entire_input=False)\n",
    "\n",
    "# Оставляем только русские слова\n",
    "r = re.compile('^[А-ЯЙа-яй]*$')\n",
    "\n",
    "def lemmatize(text):\n",
    "    return list(filter(r.match, mystem.lemmatize(text)))"
   ]
  },
  {
   "cell_type": "markdown",
   "metadata": {
    "collapsed": true
   },
   "source": [
    "## Токенизируем текст и удаляем стоп-слова"
   ]
  },
  {
   "cell_type": "code",
   "execution_count": 29,
   "metadata": {
    "collapsed": false
   },
   "outputs": [],
   "source": [
    "# Удаляем стоп-слова\n",
    "texts = [[word for word in lemmatize(document) if word not in stopwords]\n",
    "         for document in news_contenst]\n",
    "\n",
    "# Удаляем слова которые встречаются только один раз\n",
    "frequency = defaultdict(int)\n",
    "for text in texts:\n",
    "    for token in text:\n",
    "        frequency[token] += 1\n",
    "        \n",
    "texts = [[token for token in text if frequency[token] > 1]\n",
    "         for text in texts]"
   ]
  },
  {
   "cell_type": "code",
   "execution_count": 30,
   "metadata": {
    "collapsed": false
   },
   "outputs": [
    {
     "name": "stdout",
     "output_type": "stream",
     "text": [
      "['британский', 'служба', 'береговой', 'охрана', 'заниматься', 'координация', 'поиск', 'легкий', 'самолет', 'совершать', 'аварийный', 'посадка', 'вода', 'деревня', 'рай', 'харбор', 'графство', 'восточный', 'сообщать', 'тасс', 'тревога', 'подымать', 'мск', 'сообщение', 'указывать', 'борт', 'находиться', 'человек', 'самолет', 'пилот', 'обнаруживать', 'нынешний', 'поиск', 'продлиться', 'наступление', 'темный', 'время', 'сутки', 'подчеркивать', 'представитель', 'служба', 'береговой', 'охрана']\n"
     ]
    },
    {
     "data": {
      "text/plain": [
       "'Британская Служба береговой охраны «занимается координацией поиска лёгкого самолёт, который совершил аварийную посадку на воду в полумиле от деревни Рай-Харбор в графстве Восточный Сассекс», сообщает ТАСС. «Тревога была поднята в 17:05 (19:05 мск. —\\xa0RT) и сообщения указывают на то, что на борту находился один человек. Самолёт и пилот не были обнаружены, и нынешние поиски продлятся до наступления темного времени суток», —\\xa0подчеркнул представитель Службы береговой охраны.\\xa0'"
      ]
     },
     "execution_count": 30,
     "metadata": {},
     "output_type": "execute_result"
    }
   ],
   "source": [
    "print(texts[11])\n",
    "news_contenst[11]"
   ]
  },
  {
   "cell_type": "markdown",
   "metadata": {},
   "source": [
    "## Выгружаем получившиеся данные"
   ]
  },
  {
   "cell_type": "code",
   "execution_count": 34,
   "metadata": {
    "collapsed": true
   },
   "outputs": [],
   "source": [
    "dictionary = corpora.Dictionary(texts)\n",
    "dictionary.save('/data/kasandra/gensim/news-4965.dict')\n",
    "\n",
    "corpus = [dictionary.doc2bow(text) for text in texts]\n",
    "corpora.MmCorpus.serialize('/data/kasandra/gensim/news-4965.mm', corpus)"
   ]
  },
  {
   "cell_type": "code",
   "execution_count": 36,
   "metadata": {
    "collapsed": false
   },
   "outputs": [],
   "source": [
    "#print(dictionary.token2id)"
   ]
  },
  {
   "cell_type": "code",
   "execution_count": null,
   "metadata": {
    "collapsed": true
   },
   "outputs": [],
   "source": []
  }
 ],
 "metadata": {
  "anaconda-cloud": {},
  "kernelspec": {
   "display_name": "Python 3",
   "language": "python",
   "name": "python3"
  },
  "language_info": {
   "codemirror_mode": {
    "name": "ipython",
    "version": 3
   },
   "file_extension": ".py",
   "mimetype": "text/x-python",
   "name": "python",
   "nbconvert_exporter": "python",
   "pygments_lexer": "ipython3",
   "version": "3.6.0"
  }
 },
 "nbformat": 4,
 "nbformat_minor": 0
}
